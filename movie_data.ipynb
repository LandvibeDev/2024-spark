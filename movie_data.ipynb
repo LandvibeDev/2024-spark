{
  "nbformat": 4,
  "nbformat_minor": 0,
  "metadata": {
    "colab": {
      "provenance": [],
      "authorship_tag": "ABX9TyNHTDlmRQPpYmbNpfgJg5q+",
      "include_colab_link": true
    },
    "kernelspec": {
      "name": "python3",
      "display_name": "Python 3"
    },
    "language_info": {
      "name": "python"
    }
  },
  "cells": [
    {
      "cell_type": "markdown",
      "metadata": {
        "id": "view-in-github",
        "colab_type": "text"
      },
      "source": [
        "<a href=\"https://colab.research.google.com/github/s5646s/2024-spark/blob/main/movie_data.ipynb\" target=\"_parent\"><img src=\"https://colab.research.google.com/assets/colab-badge.svg\" alt=\"Open In Colab\"/></a>"
      ]
    },
    {
      "cell_type": "code",
      "execution_count": 2,
      "metadata": {
        "id": "X7eO0Av4nCic"
      },
      "outputs": [],
      "source": [
        "!apt-get install openjdk-8-jdk-headless -qq > /dev/null\n",
        "!wget -q http://archive.apache.org/dist/spark/spark-3.5.1/spark-3.5.1-bin-hadoop3.tgz\n",
        "!tar xf spark-3.5.1-bin-hadoop3.tgz\n",
        "!pip install -q findspark"
      ]
    },
    {
      "cell_type": "markdown",
      "source": [],
      "metadata": {
        "id": "9Texozlxne9w"
      }
    },
    {
      "cell_type": "code",
      "source": [
        "import os\n",
        "os.environ[\"JAVA_HOME\"] = \"/usr/lib/jvm/java-8-openjdk-amd64\"\n",
        "os.environ[\"SPARK_HOME\"] = \"/content/spark-3.5.1-bin-hadoop3\""
      ],
      "metadata": {
        "id": "ITSjdTbknfwj"
      },
      "execution_count": 3,
      "outputs": []
    },
    {
      "cell_type": "code",
      "source": [
        "import findspark\n",
        "findspark.init()\n",
        "from pyspark.sql import SparkSession\n",
        "spark = SparkSession.builder.master(\"local[*]\").getOrCreate()\n",
        "spark.conf.set(\"spark.sql.repl.eagerEval.enabled\", True) # Property used to format output tables better\n",
        "spark"
      ],
      "metadata": {
        "colab": {
          "base_uri": "https://localhost:8080/",
          "height": 221
        },
        "id": "dqoxUs2O_wk1",
        "outputId": "ba4ffabe-8e37-4dfb-f045-17454057f451"
      },
      "execution_count": 4,
      "outputs": [
        {
          "output_type": "execute_result",
          "data": {
            "text/plain": [
              "<pyspark.sql.session.SparkSession at 0x7e2e13638c10>"
            ],
            "text/html": [
              "\n",
              "            <div>\n",
              "                <p><b>SparkSession - in-memory</b></p>\n",
              "                \n",
              "        <div>\n",
              "            <p><b>SparkContext</b></p>\n",
              "\n",
              "            <p><a href=\"http://88f14633b9e1:4040\">Spark UI</a></p>\n",
              "\n",
              "            <dl>\n",
              "              <dt>Version</dt>\n",
              "                <dd><code>v3.5.1</code></dd>\n",
              "              <dt>Master</dt>\n",
              "                <dd><code>local[*]</code></dd>\n",
              "              <dt>AppName</dt>\n",
              "                <dd><code>pyspark-shell</code></dd>\n",
              "            </dl>\n",
              "        </div>\n",
              "        \n",
              "            </div>\n",
              "        "
            ]
          },
          "metadata": {},
          "execution_count": 4
        }
      ]
    },
    {
      "cell_type": "code",
      "source": [
        "movieDf = spark.read.csv('movie_data/movie.csv', header=True, sep=\",\")\n",
        "movieDf.show(5, truncate=False)\n",
        "movieDf.printSchema()"
      ],
      "metadata": {
        "colab": {
          "base_uri": "https://localhost:8080/"
        },
        "id": "hW8TL1tR_xsY",
        "outputId": "3bd38c58-7fe1-4d11-b3f5-aa344385549b"
      },
      "execution_count": 21,
      "outputs": [
        {
          "output_type": "stream",
          "name": "stdout",
          "text": [
            "+--------+-----------------+------------+------------------+------------------------------------------------------+\n",
            "|movie id|movie title      |release date|video release date|IMDb URL                                              |\n",
            "+--------+-----------------+------------+------------------+------------------------------------------------------+\n",
            "|1       |Toy Story (1995) |01-Jan-95   |01-Jan-95         |http://us.imdb.com/M/title-exact?Toy%20Story%20(1995) |\n",
            "|2       |GoldenEye (1995) |01-Jan-95   |01-Jan-95         |http://us.imdb.com/M/title-exact?GoldenEye%20(1995)   |\n",
            "|3       |Four Rooms (1995)|01-Jan-95   |01-Jan-95         |http://us.imdb.com/M/title-exact?Four%20Rooms%20(1995)|\n",
            "|4       |Get Shorty (1995)|01-Jan-95   |01-Jan-95         |http://us.imdb.com/M/title-exact?Get%20Shorty%20(1995)|\n",
            "|5       |Copycat (1995)   |01-Jan-95   |01-Jan-95         |http://us.imdb.com/M/title-exact?Copycat%20(1995)     |\n",
            "+--------+-----------------+------------+------------------+------------------------------------------------------+\n",
            "only showing top 5 rows\n",
            "\n",
            "root\n",
            " |-- movie id: string (nullable = true)\n",
            " |-- movie title: string (nullable = true)\n",
            " |-- release date: string (nullable = true)\n",
            " |-- video release date: string (nullable = true)\n",
            " |-- IMDb URL: string (nullable = true)\n",
            "\n"
          ]
        }
      ]
    },
    {
      "cell_type": "code",
      "source": [
        "genreDf = spark.read.csv('movie_data/movie_genres.csv', header=True, sep=\",\")\n",
        "genreDf.show(5, truncate=False)\n",
        "genreDf.printSchema()"
      ],
      "metadata": {
        "colab": {
          "base_uri": "https://localhost:8080/"
        },
        "id": "qGT4QXuDBvpp",
        "outputId": "6cda970b-9d33-4ecd-b806-1a675ec2e911"
      },
      "execution_count": 24,
      "outputs": [
        {
          "output_type": "stream",
          "name": "stdout",
          "text": [
            "+--------+-------+-------+\n",
            "|mgenreId|movieId|genre  |\n",
            "+--------+-------+-------+\n",
            "|1       |267    |unknown|\n",
            "|2       |1373   |unknown|\n",
            "|3       |2      |Action |\n",
            "|4       |4      |Action |\n",
            "|5       |17     |Action |\n",
            "+--------+-------+-------+\n",
            "only showing top 5 rows\n",
            "\n",
            "root\n",
            " |-- mgenreId: string (nullable = true)\n",
            " |-- movieId: string (nullable = true)\n",
            " |-- genre: string (nullable = true)\n",
            "\n"
          ]
        }
      ]
    },
    {
      "cell_type": "code",
      "source": [
        "ratingDf = spark.read.csv('movie_data/ratings.csv', header=True, sep=\",\")\n",
        "ratingDf.show(5, truncate=False)\n",
        "ratingDf.printSchema()"
      ],
      "metadata": {
        "colab": {
          "base_uri": "https://localhost:8080/"
        },
        "id": "VwC7rT7XBw7W",
        "outputId": "f5d74a93-3ad5-44a5-afde-339889c15487"
      },
      "execution_count": 25,
      "outputs": [
        {
          "output_type": "stream",
          "name": "stdout",
          "text": [
            "+--------+------+-------+------+----------------+\n",
            "|ratingId|userId|movieId|rating|timestamp       |\n",
            "+--------+------+-------+------+----------------+\n",
            "|1       |196   |242    |3     |1997-12-04 15:55|\n",
            "|2       |186   |302    |3     |1998-04-04 19:22|\n",
            "|3       |22    |377    |1     |1997-11-07 7:18 |\n",
            "|4       |244   |51     |2     |1997-11-27 5:02 |\n",
            "|5       |166   |346    |1     |1998-02-02 5:33 |\n",
            "+--------+------+-------+------+----------------+\n",
            "only showing top 5 rows\n",
            "\n",
            "root\n",
            " |-- ratingId: string (nullable = true)\n",
            " |-- userId: string (nullable = true)\n",
            " |-- movieId: string (nullable = true)\n",
            " |-- rating: string (nullable = true)\n",
            " |-- timestamp: string (nullable = true)\n",
            "\n"
          ]
        }
      ]
    },
    {
      "cell_type": "code",
      "source": [
        "userDf = spark.read.csv('movie_data/user.csv', header=True, sep=\",\")\n",
        "userDf.show(5, truncate=False)\n",
        "userDf.printSchema()"
      ],
      "metadata": {
        "colab": {
          "base_uri": "https://localhost:8080/"
        },
        "id": "bFIxS1Q4Bwza",
        "outputId": "f3b83f22-4682-488f-e1c4-7d1d26af7c85"
      },
      "execution_count": 27,
      "outputs": [
        {
          "output_type": "stream",
          "name": "stdout",
          "text": [
            "+-------+---+------+----------+--------+\n",
            "|user id|age|gender|occupation|zip code|\n",
            "+-------+---+------+----------+--------+\n",
            "|1      |24 |M     |technician|85711   |\n",
            "|2      |53 |F     |other     |94043   |\n",
            "|3      |23 |M     |writer    |32067   |\n",
            "|4      |24 |M     |technician|43537   |\n",
            "|5      |33 |F     |other     |15213   |\n",
            "+-------+---+------+----------+--------+\n",
            "only showing top 5 rows\n",
            "\n",
            "root\n",
            " |-- user id: string (nullable = true)\n",
            " |-- age: string (nullable = true)\n",
            " |-- gender: string (nullable = true)\n",
            " |-- occupation: string (nullable = true)\n",
            " |-- zip code: string (nullable = true)\n",
            "\n"
          ]
        }
      ]
    }
  ]
}