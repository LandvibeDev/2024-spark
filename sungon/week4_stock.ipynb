{
  "nbformat": 4,
  "nbformat_minor": 0,
  "metadata": {
    "colab": {
      "provenance": [],
      "mount_file_id": "1v6bsLfz_O0tuas0pur3R8ZVDZR770UNx",
      "authorship_tag": "ABX9TyPazXODLzfydf31FmMFAvuh",
      "include_colab_link": true
    },
    "kernelspec": {
      "name": "python3",
      "display_name": "Python 3"
    },
    "language_info": {
      "name": "python"
    }
  },
  "cells": [
    {
      "cell_type": "markdown",
      "metadata": {
        "id": "view-in-github",
        "colab_type": "text"
      },
      "source": [
        "<a href=\"https://colab.research.google.com/github/so3500/2024-spark/blob/main/sungon/week4_stock.ipynb\" target=\"_parent\"><img src=\"https://colab.research.google.com/assets/colab-badge.svg\" alt=\"Open In Colab\"/></a>"
      ]
    },
    {
      "cell_type": "markdown",
      "source": [
        "## Prepare Environment\n",
        "\n",
        "Install Dependencies:\n",
        "\n",
        "\n",
        "1.   Java 8\n",
        "2.   Apache Spark with hadoop and\n",
        "3.   Findspark (used to locate the spark in the system)\n",
        "\n",
        "> If you have issues with spark version, please upgrade to the latest version from [here](https://archive.apache.org/dist/spark/)."
      ],
      "metadata": {
        "id": "3bwTrStDcbtu"
      }
    },
    {
      "cell_type": "code",
      "source": [
        "### java\n",
        "!apt-get install openjdk-8-jdk-headless -qq > /dev/null\n",
        "\n",
        "### spark & pyspark\n",
        "#!wget -q http://archive.apache.org/dist/spark/spark-3.5.1/spark-3.5.1-bin-hadoop3.tgz\n",
        "!cp /content/drive/MyDrive/2024_pyspark/spark-3.5.1-bin-hadoop3.tgz /content/\n",
        "!tar xf spark-3.5.1-bin-hadoop3.tgz\n",
        "!pip install -q findspark matplotlib\n",
        "\n",
        "### test data\n",
        "!cp -r /content/drive/MyDrive/2024_pyspark/stock_data /content/\n",
        "\n",
        "# 구글 드라이브로 직접 csv 파일을 업로드하는 것 보다 압축파일 업로드 -> 마운트 -> 복사 -> 압축해제가 더 빠름\n",
        "# 압축해제만 20초 소요 / 3400종목 / 3.61GB\n",
        "!unzip -qq /content/stock_data/stock_nasdaq.zip"
      ],
      "metadata": {
        "id": "pVHJclBtea4e",
        "collapsed": true
      },
      "execution_count": null,
      "outputs": []
    },
    {
      "cell_type": "markdown",
      "metadata": {
        "id": "C3x0ZRLxjMVr"
      },
      "source": [
        "Set Environment Variables:"
      ]
    },
    {
      "cell_type": "code",
      "execution_count": null,
      "metadata": {
        "id": "sdOOq4twHN1K",
        "collapsed": true
      },
      "outputs": [],
      "source": [
        "import os\n",
        "os.environ[\"JAVA_HOME\"] = \"/usr/lib/jvm/java-8-openjdk-amd64\"\n",
        "os.environ[\"SPARK_HOME\"] = \"/content/spark-3.5.1-bin-hadoop3\""
      ]
    },
    {
      "cell_type": "code",
      "source": [
        "import findspark\n",
        "findspark.init()\n",
        "\n",
        "from pyspark.sql import SparkSession\n",
        "\n",
        "spark = SparkSession.builder\\\n",
        "  .master(\"local[*]\")\\\n",
        "  .getOrCreate()\n",
        "spark.conf.set(\"spark.sql.repl.eagerEval.enabled\", True) # Property used to format output tables better\n",
        "spark"
      ],
      "metadata": {
        "collapsed": true,
        "colab": {
          "base_uri": "https://localhost:8080/"
        },
        "id": "Xy1wTKEIEFeG",
        "outputId": "20e5a294-886b-441e-c374-f358f3572260"
      },
      "execution_count": null,
      "outputs": [
        {
          "output_type": "execute_result",
          "data": {
            "text/plain": [
              "<pyspark.sql.session.SparkSession at 0x7c3a046d4610>"
            ],
            "text/html": [
              "\n",
              "            <div>\n",
              "                <p><b>SparkSession - in-memory</b></p>\n",
              "                \n",
              "        <div>\n",
              "            <p><b>SparkContext</b></p>\n",
              "\n",
              "            <p><a href=\"http://7ac2a3538029:4040\">Spark UI</a></p>\n",
              "\n",
              "            <dl>\n",
              "              <dt>Version</dt>\n",
              "                <dd><code>v3.5.1</code></dd>\n",
              "              <dt>Master</dt>\n",
              "                <dd><code>local[*]</code></dd>\n",
              "              <dt>AppName</dt>\n",
              "                <dd><code>pyspark-shell</code></dd>\n",
              "            </dl>\n",
              "        </div>\n",
              "        \n",
              "            </div>\n",
              "        "
            ]
          },
          "metadata": {},
          "execution_count": 3
        }
      ]
    },
    {
      "cell_type": "code",
      "source": [
        "from pyspark.sql.dataframe import DataFrame\n",
        "\n",
        "# Define a Peek Function\n",
        "def peek(self, n=10):\n",
        "  self.show(n)\n",
        "  return self\n",
        "\n",
        "# Monkey Patch the DataFrame Calss\n",
        "DataFrame.peek = peek"
      ],
      "metadata": {
        "id": "4kAxUQ8h9aW1"
      },
      "execution_count": null,
      "outputs": []
    },
    {
      "cell_type": "markdown",
      "source": [
        "# 주식 데이터 분석\n"
      ],
      "metadata": {
        "id": "6U9GQvQPTD1C"
      }
    },
    {
      "cell_type": "markdown",
      "source": [
        "## 데이터 준비"
      ],
      "metadata": {
        "id": "C3NlmBpP-qTz"
      }
    },
    {
      "cell_type": "code",
      "source": [
        "from pyspark.sql.functions import col, avg, count, year, datediff, expr, min, max, filter, count_if, when, trim, to_date, month, input_file_name, regexp_extract\n",
        "from pyspark.sql.types import StructType, StructField, IntegerType, StringType, TimestampType, DoubleType\n",
        "\n",
        "stock_lables = [\n",
        "    ('date', StringType()),\n",
        "    ('low', DoubleType()),\n",
        "    ('open', DoubleType()),\n",
        "    ('volumn', IntegerType()),\n",
        "    ('high', DoubleType()),\n",
        "    ('close', DoubleType()),\n",
        "    ('adjusted_close', StringType()),\n",
        "]\n",
        "stock_schema = StructType([StructField(x[0], x[1], True) for x in stock_lables])\n",
        "\n",
        "# NASAQ / 1565종목 / 841MB\n",
        "# input_file_name() : file:///content/nasdaq_csv/AAPL.csv\n",
        "stock_df = spark.read.csv('nasdaq_csv/', header=True, sep=\",\", schema=stock_schema)\n",
        "print(f'before filtereing weather_df.count(): {stock_df.count():,}')\n",
        "\n",
        "# add & type case column\n",
        "stock_df = stock_df.withColumn('ticker', regexp_extract(input_file_name(), \"([^/]+)\\.csv\", 1))\\\n",
        "  .withColumn('date', to_date('date', 'dd-MM-yyyy'))\\\n",
        "  .withColumn(\"volumn\", stock_df[\"volumn\"].cast(IntegerType()))\\\n",
        "\n",
        "# filter\n",
        "stock_df = stock_df.filter(stock_df.date.isNotNull())\\\n",
        "  .filter(stock_df.low.isNotNull())\\\n",
        "  .filter(stock_df.open.isNotNull())\\\n",
        "  .filter(stock_df.volumn.isNotNull())\\\n",
        "  .filter(stock_df.high.isNotNull())\\\n",
        "  .filter(stock_df.close.isNotNull())\\\n",
        "  .filter(stock_df.adjusted_close.isNotNull())\n",
        "\n",
        "# add column\n",
        "from pyspark.sql.functions import year, month, weekofyear, dayofmonth\n",
        "stock_df = stock_df.withColumn('year', year(stock_df.date))\\\n",
        "  .withColumn('month', month(stock_df.date))\\\n",
        "  .withColumn('day', dayofmonth(stock_df.date))\\\n",
        "  .withColumn('week', weekofyear(stock_df.date))\n",
        "\n",
        "print(f'after filtereing weather_df.count(): {stock_df.count():,}')\n",
        "stock_df.show(3)"
      ],
      "metadata": {
        "colab": {
          "base_uri": "https://localhost:8080/"
        },
        "id": "bvV2ZCP0h5MO",
        "outputId": "925ffcef-3ff0-48d2-eb57-891a2a448127"
      },
      "execution_count": null,
      "outputs": [
        {
          "output_type": "stream",
          "name": "stdout",
          "text": [
            "before filtereing weather_df.count(): 8,752,326\n",
            "after filtereing weather_df.count(): 7,998,945\n",
            "+----------+-------------------+----+------+-------------------+-------------------+-------------------+------+----+-----+---+----+\n",
            "|      date|                low|open|volumn|               high|              close|     adjusted_close|ticker|year|month|day|week|\n",
            "+----------+-------------------+----+------+-------------------+-------------------+-------------------+------+----+-----+---+----+\n",
            "|1973-02-21|0.39506199955940247| 0.0| 15188|0.39506199955940247|0.39506199955940247|0.39506199955940247|  DIOD|1973|    2| 21|   8|\n",
            "|1973-02-22| 0.3703700006008148| 0.0|  9113| 0.3703700006008148| 0.3703700006008148| 0.3703700006008148|  DIOD|1973|    2| 22|   8|\n",
            "|1973-02-23|0.34567898511886597| 0.0|  3038|0.34567898511886597|0.34567898511886597|0.34567898511886597|  DIOD|1973|    2| 23|   8|\n",
            "+----------+-------------------+----+------+-------------------+-------------------+-------------------+------+----+-----+---+----+\n",
            "only showing top 3 rows\n",
            "\n"
          ]
        }
      ]
    },
    {
      "cell_type": "markdown",
      "source": [
        "### 아이디어\n",
        "\n",
        "전체\n",
        "- 가장 거래량이 적었던 날\n",
        "- 가장 거래량이 많았던 날\n",
        "- 가장 많은 종목이 오늘 날\n",
        "- 가장 많은 종목이 내린 날\n",
        "- 가장 오랫동안 오른 종목 e.g. 10거래일 연속"
      ],
      "metadata": {
        "id": "ttlxq1ml7Ry7"
      }
    },
    {
      "cell_type": "markdown",
      "source": [
        "데이터 준비"
      ],
      "metadata": {
        "id": "RkfOR3_M0cQS"
      }
    },
    {
      "cell_type": "code",
      "source": [
        "# 성능 높이기 : dataframe 을 메모리에 저장하여 연산 속도를 높임\n",
        "stock_df.cache()\n",
        "# stock_2020s_df = stock_df.filter('date >= \"2020-01-01\"')\n",
        "# stock_2020s_df.cache()"
      ],
      "metadata": {
        "colab": {
          "base_uri": "https://localhost:8080/",
          "height": 1000
        },
        "id": "S5FdKwy7zncX",
        "outputId": "7cb1bd25-a59e-4d10-9d64-949ce75a8283"
      },
      "execution_count": null,
      "outputs": [
        {
          "output_type": "execute_result",
          "data": {
            "text/plain": [
              "+----------+-------------------+------------------+------+-------------------+-------------------+-------------------+------+----+-----+---+----+\n",
              "|      date|                low|              open|volumn|               high|              close|     adjusted_close|ticker|year|month|day|week|\n",
              "+----------+-------------------+------------------+------+-------------------+-------------------+-------------------+------+----+-----+---+----+\n",
              "|1973-02-21|0.39506199955940247|               0.0| 15188|0.39506199955940247|0.39506199955940247|0.39506199955940247|  DIOD|1973|    2| 21|   8|\n",
              "|1973-02-22| 0.3703700006008148|               0.0|  9113| 0.3703700006008148| 0.3703700006008148| 0.3703700006008148|  DIOD|1973|    2| 22|   8|\n",
              "|1973-02-23|0.34567898511886597|               0.0|  3038|0.34567898511886597|0.34567898511886597|0.34567898511886597|  DIOD|1973|    2| 23|   8|\n",
              "|1973-02-26|0.34567898511886597|               0.0|  1519|0.34567898511886597|0.34567898511886597|0.34567898511886597|  DIOD|1973|    2| 26|   9|\n",
              "|1973-02-27|0.34567898511886597|               0.0| 29869|0.34567898511886597|0.34567898511886597|0.34567898511886597|  DIOD|1973|    2| 27|   9|\n",
              "|1973-02-28|0.34567898511886597|               0.0|  1519|0.34567898511886597|0.34567898511886597|0.34567898511886597|  DIOD|1973|    2| 28|   9|\n",
              "|1973-03-01| 0.3209879994392395|               0.0| 18225| 0.3209879994392395| 0.3209879994392395| 0.3209879994392395|  DIOD|1973|    3|  1|   9|\n",
              "|1973-03-02| 0.3209879994392395|               0.0| 20250| 0.3209879994392395| 0.3209879994392395| 0.3209879994392395|  DIOD|1973|    3|  2|   9|\n",
              "|1973-03-05|0.34567898511886597|               0.0|  6075|0.34567898511886597|0.34567898511886597|0.34567898511886597|  DIOD|1973|    3|  5|  10|\n",
              "|1973-03-06| 0.3209879994392395|               0.0|  1519| 0.3209879994392395| 0.3209879994392395| 0.3209879994392395|  DIOD|1973|    3|  6|  10|\n",
              "|1973-03-07|0.34567898511886597|               0.0|  8100|0.34567898511886597|0.34567898511886597|0.34567898511886597|  DIOD|1973|    3|  7|  10|\n",
              "|1973-03-08| 0.3209879994392395|               0.0|  7088| 0.3209879994392395| 0.3209879994392395| 0.3209879994392395|  DIOD|1973|    3|  8|  10|\n",
              "|1973-03-09| 0.3209879994392395|               0.0| 10125| 0.3209879994392395| 0.3209879994392395| 0.3209879994392395|  DIOD|1973|    3|  9|  10|\n",
              "|1973-03-12| 0.3703700006008148|               0.0| 20250| 0.3703700006008148| 0.3703700006008148| 0.3703700006008148|  DIOD|1973|    3| 12|  11|\n",
              "|1973-03-13| 0.3703700006008148|               0.0| 15188| 0.3703700006008148| 0.3703700006008148| 0.3703700006008148|  DIOD|1973|    3| 13|  11|\n",
              "|1973-03-14|0.34567898511886597|               0.0|  5569|0.34567898511886597|0.34567898511886597|0.34567898511886597|  DIOD|1973|    3| 14|  11|\n",
              "|1973-03-15| 0.3209879994392395|               0.0|  3038| 0.3209879994392395| 0.3209879994392395| 0.3209879994392395|  DIOD|1973|    3| 15|  11|\n",
              "|1973-03-16| 0.3209879994392395|0.3209879994392395|     0| 0.3209879994392395| 0.3209879994392395| 0.3209879994392395|  DIOD|1973|    3| 16|  11|\n",
              "|1973-03-19| 0.3209879994392395|               0.0|  7088| 0.3209879994392395| 0.3209879994392395| 0.3209879994392395|  DIOD|1973|    3| 19|  12|\n",
              "|1973-03-20| 0.3209879994392395|               0.0|  1519| 0.3209879994392395| 0.3209879994392395| 0.3209879994392395|  DIOD|1973|    3| 20|  12|\n",
              "+----------+-------------------+------------------+------+-------------------+-------------------+-------------------+------+----+-----+---+----+\n",
              "only showing top 20 rows"
            ],
            "text/html": [
              "<table border='1'>\n",
              "<tr><th>date</th><th>low</th><th>open</th><th>volumn</th><th>high</th><th>close</th><th>adjusted_close</th><th>ticker</th><th>year</th><th>month</th><th>day</th><th>week</th></tr>\n",
              "<tr><td>1973-02-21</td><td>0.39506199955940247</td><td>0.0</td><td>15188</td><td>0.39506199955940247</td><td>0.39506199955940247</td><td>0.39506199955940247</td><td>DIOD</td><td>1973</td><td>2</td><td>21</td><td>8</td></tr>\n",
              "<tr><td>1973-02-22</td><td>0.3703700006008148</td><td>0.0</td><td>9113</td><td>0.3703700006008148</td><td>0.3703700006008148</td><td>0.3703700006008148</td><td>DIOD</td><td>1973</td><td>2</td><td>22</td><td>8</td></tr>\n",
              "<tr><td>1973-02-23</td><td>0.34567898511886597</td><td>0.0</td><td>3038</td><td>0.34567898511886597</td><td>0.34567898511886597</td><td>0.34567898511886597</td><td>DIOD</td><td>1973</td><td>2</td><td>23</td><td>8</td></tr>\n",
              "<tr><td>1973-02-26</td><td>0.34567898511886597</td><td>0.0</td><td>1519</td><td>0.34567898511886597</td><td>0.34567898511886597</td><td>0.34567898511886597</td><td>DIOD</td><td>1973</td><td>2</td><td>26</td><td>9</td></tr>\n",
              "<tr><td>1973-02-27</td><td>0.34567898511886597</td><td>0.0</td><td>29869</td><td>0.34567898511886597</td><td>0.34567898511886597</td><td>0.34567898511886597</td><td>DIOD</td><td>1973</td><td>2</td><td>27</td><td>9</td></tr>\n",
              "<tr><td>1973-02-28</td><td>0.34567898511886597</td><td>0.0</td><td>1519</td><td>0.34567898511886597</td><td>0.34567898511886597</td><td>0.34567898511886597</td><td>DIOD</td><td>1973</td><td>2</td><td>28</td><td>9</td></tr>\n",
              "<tr><td>1973-03-01</td><td>0.3209879994392395</td><td>0.0</td><td>18225</td><td>0.3209879994392395</td><td>0.3209879994392395</td><td>0.3209879994392395</td><td>DIOD</td><td>1973</td><td>3</td><td>1</td><td>9</td></tr>\n",
              "<tr><td>1973-03-02</td><td>0.3209879994392395</td><td>0.0</td><td>20250</td><td>0.3209879994392395</td><td>0.3209879994392395</td><td>0.3209879994392395</td><td>DIOD</td><td>1973</td><td>3</td><td>2</td><td>9</td></tr>\n",
              "<tr><td>1973-03-05</td><td>0.34567898511886597</td><td>0.0</td><td>6075</td><td>0.34567898511886597</td><td>0.34567898511886597</td><td>0.34567898511886597</td><td>DIOD</td><td>1973</td><td>3</td><td>5</td><td>10</td></tr>\n",
              "<tr><td>1973-03-06</td><td>0.3209879994392395</td><td>0.0</td><td>1519</td><td>0.3209879994392395</td><td>0.3209879994392395</td><td>0.3209879994392395</td><td>DIOD</td><td>1973</td><td>3</td><td>6</td><td>10</td></tr>\n",
              "<tr><td>1973-03-07</td><td>0.34567898511886597</td><td>0.0</td><td>8100</td><td>0.34567898511886597</td><td>0.34567898511886597</td><td>0.34567898511886597</td><td>DIOD</td><td>1973</td><td>3</td><td>7</td><td>10</td></tr>\n",
              "<tr><td>1973-03-08</td><td>0.3209879994392395</td><td>0.0</td><td>7088</td><td>0.3209879994392395</td><td>0.3209879994392395</td><td>0.3209879994392395</td><td>DIOD</td><td>1973</td><td>3</td><td>8</td><td>10</td></tr>\n",
              "<tr><td>1973-03-09</td><td>0.3209879994392395</td><td>0.0</td><td>10125</td><td>0.3209879994392395</td><td>0.3209879994392395</td><td>0.3209879994392395</td><td>DIOD</td><td>1973</td><td>3</td><td>9</td><td>10</td></tr>\n",
              "<tr><td>1973-03-12</td><td>0.3703700006008148</td><td>0.0</td><td>20250</td><td>0.3703700006008148</td><td>0.3703700006008148</td><td>0.3703700006008148</td><td>DIOD</td><td>1973</td><td>3</td><td>12</td><td>11</td></tr>\n",
              "<tr><td>1973-03-13</td><td>0.3703700006008148</td><td>0.0</td><td>15188</td><td>0.3703700006008148</td><td>0.3703700006008148</td><td>0.3703700006008148</td><td>DIOD</td><td>1973</td><td>3</td><td>13</td><td>11</td></tr>\n",
              "<tr><td>1973-03-14</td><td>0.34567898511886597</td><td>0.0</td><td>5569</td><td>0.34567898511886597</td><td>0.34567898511886597</td><td>0.34567898511886597</td><td>DIOD</td><td>1973</td><td>3</td><td>14</td><td>11</td></tr>\n",
              "<tr><td>1973-03-15</td><td>0.3209879994392395</td><td>0.0</td><td>3038</td><td>0.3209879994392395</td><td>0.3209879994392395</td><td>0.3209879994392395</td><td>DIOD</td><td>1973</td><td>3</td><td>15</td><td>11</td></tr>\n",
              "<tr><td>1973-03-16</td><td>0.3209879994392395</td><td>0.3209879994392395</td><td>0</td><td>0.3209879994392395</td><td>0.3209879994392395</td><td>0.3209879994392395</td><td>DIOD</td><td>1973</td><td>3</td><td>16</td><td>11</td></tr>\n",
              "<tr><td>1973-03-19</td><td>0.3209879994392395</td><td>0.0</td><td>7088</td><td>0.3209879994392395</td><td>0.3209879994392395</td><td>0.3209879994392395</td><td>DIOD</td><td>1973</td><td>3</td><td>19</td><td>12</td></tr>\n",
              "<tr><td>1973-03-20</td><td>0.3209879994392395</td><td>0.0</td><td>1519</td><td>0.3209879994392395</td><td>0.3209879994392395</td><td>0.3209879994392395</td><td>DIOD</td><td>1973</td><td>3</td><td>20</td><td>12</td></tr>\n",
              "</table>\n",
              "only showing top 20 rows\n"
            ]
          },
          "metadata": {},
          "execution_count": 23
        }
      ]
    },
    {
      "cell_type": "code",
      "source": [
        "# the most vloumn date\n",
        "from pyspark.sql.functions import sum as _sum\n",
        "\n",
        "stock_df.groupBy('date')\\\n",
        "  .agg(_sum('volumn').alias('volumn_sum'))\\\n",
        "  .orderBy(col('volumn_sum').desc())\\\n",
        "  .show(10)\n",
        "\n",
        "# the most volumn by year & year of week\n",
        "stock_df.groupBy('year', 'week')\\\n",
        "  .agg(_sum('volumn').alias('volumn_sum'))\\\n",
        "  .orderBy(col('volumn_sum').desc())\\\n",
        "  .show(10)\n",
        "\n",
        "# the most volumn by year & month\n",
        "stock_df.groupBy('year', 'month')\\\n",
        "  .agg(_sum('volumn').alias('volumn_sum'))\\\n",
        "  .orderBy(col('volumn_sum').desc())\\\n",
        "  .show(10)\n",
        "\n",
        "# the most volumn by year\n",
        "stock_df.groupBy('year')\\\n",
        "  .agg(_sum('volumn').alias('volumn_sum'))\\\n",
        "  .orderBy(col('volumn_sum').desc())\\\n",
        "  .show(10)"
      ],
      "metadata": {
        "colab": {
          "base_uri": "https://localhost:8080/"
        },
        "id": "rGStj1cwyjz5",
        "outputId": "879d6e25-115b-401b-ab6c-63551d0d6d8f"
      },
      "execution_count": null,
      "outputs": [
        {
          "output_type": "stream",
          "name": "stdout",
          "text": [
            "+----------+----------+\n",
            "|      date|volumn_sum|\n",
            "+----------+----------+\n",
            "|2008-10-06|4832647902|\n",
            "|2008-10-16|4689054057|\n",
            "|2008-09-18|4536492718|\n",
            "|2007-04-25|4472029047|\n",
            "|2008-10-23|4412837988|\n",
            "|2010-05-07|4411887653|\n",
            "|2008-10-14|4398442274|\n",
            "|2008-11-13|4287004436|\n",
            "|2008-02-07|4274270252|\n",
            "|2007-04-26|4265902863|\n",
            "+----------+----------+\n",
            "only showing top 10 rows\n",
            "\n",
            "+----+----+-----------+\n",
            "|year|week| volumn_sum|\n",
            "+----+----+-----------+\n",
            "|2008|  42|20317783656|\n",
            "|2008|  41|19067046118|\n",
            "|2008|  38|18421997411|\n",
            "|2008|  44|17881196734|\n",
            "|2008|   2|17445809097|\n",
            "|2008|  47|17404327446|\n",
            "|2010|   4|16678135602|\n",
            "|2007|  17|16492550731|\n",
            "|2011|  32|16283029038|\n",
            "|2008|   5|16207069170|\n",
            "+----+----+-----------+\n",
            "only showing top 10 rows\n",
            "\n",
            "+----+-----+-----------+\n",
            "|year|month| volumn_sum|\n",
            "+----+-----+-----------+\n",
            "|2008|   10|80385626601|\n",
            "|2008|    1|66091241952|\n",
            "|2008|    7|60532229605|\n",
            "|2008|    9|59968305336|\n",
            "|2007|   11|59443688201|\n",
            "|2008|    2|57903330330|\n",
            "|2007|    8|57821596259|\n",
            "|2008|   11|57781602151|\n",
            "|2008|    3|56988572975|\n",
            "|2020|    3|56926146548|\n",
            "+----+-----+-----------+\n",
            "only showing top 10 rows\n",
            "\n",
            "+----+------------+\n",
            "|year|  volumn_sum|\n",
            "+----+------------+\n",
            "|2008|692804039699|\n",
            "|2007|583361045628|\n",
            "|2009|536346663126|\n",
            "|2010|523955955348|\n",
            "|2006|502110021245|\n",
            "|2020|495383172848|\n",
            "|2011|476044949621|\n",
            "|2021|442888183019|\n",
            "|2005|438569967014|\n",
            "|2022|421371368602|\n",
            "+----+------------+\n",
            "only showing top 10 rows\n",
            "\n"
          ]
        }
      ]
    },
    {
      "cell_type": "code",
      "source": [
        "import matplotlib.pyplot as plt\n",
        "\n",
        "# the most volumn by year\n",
        "volumn_sum_pandas = stock_df.groupBy('year', 'month')\\\n",
        "  .agg(_sum('volumn').alias('volumn_sum'))\\\n",
        "  .orderBy(col('year').asc(), col('month').asc())\\\n",
        "  .toPandas()\n",
        "\n",
        "plt.bar(volumn_sum_pandas['year'], volumn_sum_pandas['volumn_sum'])\n",
        "plt.xlabel('year')\n",
        "plt.ylabel('sum of volumn')\n",
        "plt.title('Stock trading volume by year')\n",
        "plt.show()"
      ],
      "metadata": {
        "colab": {
          "base_uri": "https://localhost:8080/",
          "height": 472
        },
        "id": "4FtANsUL5mRS",
        "outputId": "a6f322be-5c3b-4ae1-86fe-fcab90f57fca"
      },
      "execution_count": null,
      "outputs": [
        {
          "output_type": "display_data",
          "data": {
            "text/plain": [
              "<Figure size 640x480 with 1 Axes>"
            ],
            "image/png": "[encoded data removed]"
          },
          "metadata": {}
        }
      ]
    },
    {
      "cell_type": "code",
      "source": [
        "# 상대적으로 거래량이 미미한 1980 이전 데이터 필터링\n",
        "stock_1980_2023_df = stock_df.filter('year >= 1980')\n",
        "# the most volumn by year\n",
        "volumn_sum_pandas = stock_1980_2023_df.groupBy('year', 'month')\\\n",
        "  .agg(_sum('volumn').alias('volumn_sum'))\\\n",
        "  .orderBy(col('year').asc(), col('month').asc())\\\n",
        "  .toPandas()\n",
        "\n",
        "plt.bar(volumn_sum_pandas['year'], volumn_sum_pandas['volumn_sum'])\n",
        "plt.xlabel('year')\n",
        "plt.ylabel('sum of volumn')\n",
        "plt.title('Stock trading volume by year')\n",
        "plt.show()"
      ],
      "metadata": {
        "colab": {
          "base_uri": "https://localhost:8080/",
          "height": 472
        },
        "id": "i5LUr-v22Jmm",
        "outputId": "4b668f65-bc9a-46b5-b6ad-459c3c772499"
      },
      "execution_count": null,
      "outputs": [
        {
          "output_type": "display_data",
          "data": {
            "text/plain": [
              "<Figure size 640x480 with 1 Axes>"
            ],
            "image/png": "[encoded data removed]"
          },
          "metadata": {}
        }
      ]
    },
    {
      "cell_type": "code",
      "source": [
        "# 가장 오랫동안 거래된(거래일이 많은) 종목 정렬\n",
        "stock_df.groupBy('ticker')\\\n",
        "  .agg(count('*').alias('ticker_count'))\\\n",
        "  .orderBy(col('ticker_count').desc())\\\n",
        "  .show(20)\n",
        "\n",
        "ticker_set = {'GT', 'TXN', 'DIOD', 'KLIC', 'MSEX', 'OTTR'}"
      ],
      "metadata": {
        "colab": {
          "base_uri": "https://localhost:8080/"
        },
        "id": "nYJdrbdd7oCQ",
        "outputId": "0117c6e8-5184-4a63-ccac-0f7d2145a676"
      },
      "execution_count": null,
      "outputs": [
        {
          "output_type": "stream",
          "name": "stdout",
          "text": [
            "+------+------------+\n",
            "|ticker|ticker_count|\n",
            "+------+------------+\n",
            "|    GT|       13356|\n",
            "|   TXN|       12744|\n",
            "|  DIOD|       12564|\n",
            "|  KLIC|       12564|\n",
            "|  MSEX|       12564|\n",
            "|  OTTR|       12564|\n",
            "|   SGC|       12564|\n",
            "| VLGEA|       12564|\n",
            "|   PHI|       12514|\n",
            "|  APOG|       12514|\n",
            "|  ALCO|       12514|\n",
            "|   MAT|       11724|\n",
            "|  HELE|       11710|\n",
            "|  TRNS|       11354|\n",
            "|  TSRI|       11256|\n",
            "|   WDC|       11125|\n",
            "|  FARM|       10778|\n",
            "|  PATK|       10778|\n",
            "|  PCAR|       10778|\n",
            "|  WABC|       10778|\n",
            "+------+------------+\n",
            "only showing top 20 rows\n",
            "\n"
          ]
        }
      ]
    },
    {
      "cell_type": "code",
      "source": [
        "# 주가 상승일이 많은 종목 정렬\n",
        "stock_df.filter('close > open')\\\n",
        "  .groupBy('ticker')\\\n",
        "  .agg(count('*').alias('ticker_count'))\\\n",
        "  .orderBy(col('ticker_count').desc())\\\n",
        "  .show(20)"
      ],
      "metadata": {
        "colab": {
          "base_uri": "https://localhost:8080/"
        },
        "id": "ouU5G6oTAEj1",
        "outputId": "783e8f74-ea5a-4fff-d0e5-acddc80d8b90"
      },
      "execution_count": null,
      "outputs": [
        {
          "output_type": "stream",
          "name": "stdout",
          "text": [
            "+------+------------+\n",
            "|ticker|ticker_count|\n",
            "+------+------------+\n",
            "|  OTTR|        8262|\n",
            "|  KLIC|        7824|\n",
            "|   SGC|        7541|\n",
            "|  DIOD|        7514|\n",
            "|  WABC|        6733|\n",
            "|  LANC|        6601|\n",
            "|  NTRS|        6581|\n",
            "| MOG-A|        6516|\n",
            "|  SIGI|        6511|\n",
            "|  CINF|        6510|\n",
            "|  HELE|        6510|\n",
            "|   WEN|        6470|\n",
            "|  NDSN|        6440|\n",
            "|  ZION|        6431|\n",
            "|  HBAN|        6412|\n",
            "|  FITB|        6398|\n",
            "| KELYA|        6366|\n",
            "|  SMTC|        6358|\n",
            "|  MGEE|        6351|\n",
            "|  SEIC|        6283|\n",
            "+------+------------+\n",
            "only showing top 20 rows\n",
            "\n"
          ]
        }
      ]
    },
    {
      "cell_type": "code",
      "source": [
        "# prompt: Stocks with a high share price increase rate per ticker over the entire trading day\n",
        "stock_df.groupBy('ticker')\\\n",
        "  .agg(\n",
        "      count_if(col('close') > col('open')).alias('rise_count'),\n",
        "      count('*').alias('trade_date_count'))\\\n",
        "  .withColumn('rise_rate', col('rise_count') / col('trade_date_count'))\\\n",
        "  .orderBy(col('rise_rate').desc())\\\n",
        "  .show(30)\n"
      ],
      "metadata": {
        "colab": {
          "base_uri": "https://localhost:8080/"
        },
        "id": "0lN7TLG3KOra",
        "outputId": "27bc7273-9b21-487a-815c-4507f4378606"
      },
      "execution_count": null,
      "outputs": [
        {
          "output_type": "stream",
          "name": "stdout",
          "text": [
            "+------+----------+----------------+------------------+\n",
            "|ticker|rise_count|trade_date_count|         rise_rate|\n",
            "+------+----------+----------------+------------------+\n",
            "|  OTTR|      8262|           12564|0.6575931232091691|\n",
            "|  WABC|      6733|           10778|0.6246984598255706|\n",
            "|  KLIC|      7824|           12564|0.6227316141356256|\n",
            "|  LANC|      6601|           10778|0.6124512896641306|\n",
            "|  NTRS|      6581|           10778|0.6105956578214882|\n",
            "| MOG-A|      6516|           10727|0.6074391721823437|\n",
            "|  SIGI|      6511|           10778|0.6041009463722398|\n",
            "|  CINF|      6510|           10778|0.6040081647801077|\n",
            "|   WEN|      6470|           10743|0.6022526296192869|\n",
            "|   SGC|      7541|           12564|0.6002069404648201|\n",
            "|  DIOD|      7514|           12564|0.5980579433301496|\n",
            "|  NDSN|      6440|           10777|0.5975688967245059|\n",
            "|  SEIC|      6283|           10520|0.5972433460076045|\n",
            "|  ZION|      6431|           10778|0.5966784190016701|\n",
            "|  HBAN|      6412|           10778|0.5949155687511598|\n",
            "|  FITB|      6398|           10778|0.5936166264613101|\n",
            "| KELYA|      6366|           10778|0.5906476155130822|\n",
            "|  SMTC|      6358|           10778|0.5899053627760252|\n",
            "|  MGEE|      6351|           10778|0.5892558916311004|\n",
            "|  GNTX|      6040|           10331|0.5846481463556287|\n",
            "|   UHS|      6079|           10447|0.5818895376663157|\n",
            "|  WAFD|      5874|           10108|0.5811238622872972|\n",
            "| CMCSA|      6233|           10778|0.5783076637595101|\n",
            "|  POWL|      6216|           10778|0.5767303766932641|\n",
            "|  AGYS|      6194|           10778|0.5746891816663574|\n",
            "|  KBAL|      6182|           10778|0.5735758025607719|\n",
            "|  JBHT|      5642|            9845| 0.573082783138649|\n",
            "|  CTAS|      5677|            9911|0.5727979013217637|\n",
            "|   GPS|      6147|           10778|0.5703284468361477|\n",
            "|  PAYX|      5622|            9906|0.5675348273773471|\n",
            "+------+----------+----------------+------------------+\n",
            "only showing top 30 rows\n",
            "\n"
          ]
        }
      ]
    },
    {
      "cell_type": "code",
      "source": [
        "# 우리가 잘 하는 애플, 마이크로소프느는 어떨까?\n",
        "stock_df.filter('ticker IN (\"AAPL\", \"MSFT\", \"MVRS\", \"FB\", \"NVDA\", \"TESLA\", \"GOOGL\", \"GOOL\")')\\\n",
        "  .groupBy('ticker')\\\n",
        "  .agg(\n",
        "      count_if(col('close') > col('open')).alias('rise_count'),\n",
        "      count('*').alias('trade_date_count'))\\\n",
        "  .withColumn('rise_rate', col('rise_count') / col('trade_date_count'))\\\n",
        "  .orderBy(col('rise_rate').desc())\\\n",
        "  .show(30)"
      ],
      "metadata": {
        "colab": {
          "base_uri": "https://localhost:8080/"
        },
        "id": "0xqKgnYTT5_5",
        "outputId": "120313aa-8114-4327-e739-6e6bcd6672e7"
      },
      "execution_count": null,
      "outputs": [
        {
          "output_type": "stream",
          "name": "stdout",
          "text": [
            "+------+----------+----------------+------------------+\n",
            "|ticker|rise_count|trade_date_count|         rise_rate|\n",
            "+------+----------+----------------+------------------+\n",
            "|  MSFT|      4587|            9264|0.4951424870466321|\n",
            "|  NVDA|      2970|            6013|0.4939298187260935|\n",
            "|  AAPL|      4807|           10555|0.4554239696826149|\n",
            "+------+----------+----------------+------------------+\n",
            "\n"
          ]
        }
      ]
    },
    {
      "cell_type": "code",
      "source": [
        "# average days of close > open\n",
        "stock_df.filter('close > open')\\\n",
        "  .groupBy('ticker')\\\n",
        "  .agg(count('*').alias('ticker_count'))\\\n",
        "  .agg(avg('ticker_count').alias('avg_ticker_count'))\\\n",
        "  .show()\n",
        "\n",
        "# 50, 75, 95, 99 percential of close > open\n",
        "\n",
        "# 50 percentail of close > open\n",
        "print(stock_df.filter('close > open')\\\n",
        "  .groupBy('ticker')\\\n",
        "  .agg(count('*').alias('ticker_count'))\\\n",
        "  .approxQuantile('ticker_count', [0.5], 0.05))\n",
        "\n",
        "# 75 percentail of close > open\n",
        "print(stock_df.filter('close > open')\\\n",
        "  .groupBy('ticker')\\\n",
        "  .agg(count('*').alias('ticker_count'))\\\n",
        "  .approxQuantile('ticker_count', [0.75], 0.05))\n",
        "\n",
        "# 90 percentail of close > open\n",
        "print(stock_df.filter('close > open')\\\n",
        "  .groupBy('ticker')\\\n",
        "  .agg(count('*').alias('ticker_count'))\\\n",
        "  .approxQuantile('ticker_count', [0.90], 0.05))\n",
        "\n",
        "# 95 percentail of close > open\n",
        "print(stock_df.filter('close > open')\\\n",
        "  .groupBy('ticker')\\\n",
        "  .agg(count('*').alias('ticker_count'))\\\n",
        "  .approxQuantile('ticker_count', [0.95], 0.05))\n",
        "\n",
        "# 99 percentail of close > open\n",
        "print(stock_df.filter('close > open')\\\n",
        "  .groupBy('ticker')\\\n",
        "  .agg(count('*').alias('ticker_count'))\\\n",
        "  .approxQuantile('ticker_count', [0.99], 0.05))"
      ],
      "metadata": {
        "colab": {
          "base_uri": "https://localhost:8080/"
        },
        "id": "wDrzkVifAtal",
        "outputId": "c125ba9b-018d-435a-a7ac-0f15d1f1d456"
      },
      "execution_count": null,
      "outputs": [
        {
          "output_type": "stream",
          "name": "stdout",
          "text": [
            "+-----------------+\n",
            "| avg_ticker_count|\n",
            "+-----------------+\n",
            "|2488.356638418079|\n",
            "+-----------------+\n",
            "\n",
            "[2197.0]\n",
            "[3156.0]\n",
            "[3924.0]\n",
            "[8262.0]\n",
            "[8262.0]\n"
          ]
        }
      ]
    }
  ]
}