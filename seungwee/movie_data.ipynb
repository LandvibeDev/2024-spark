{
  "nbformat": 4,
  "nbformat_minor": 0,
  "metadata": {
    "colab": {
      "provenance": [],
      "authorship_tag": "ABX9TyPu+RJfNE7kHmLcpTzSCKqU",
      "include_colab_link": true
    },
    "kernelspec": {
      "name": "python3",
      "display_name": "Python 3"
    },
    "language_info": {
      "name": "python"
    }
  },
  "cells": [
    {
      "cell_type": "markdown",
      "metadata": {
        "id": "view-in-github",
        "colab_type": "text"
      },
      "source": [
        "<a href=\"https://colab.research.google.com/github/s5646s/2024-spark/blob/main/seungwee/movie_data.ipynb\" target=\"_parent\"><img src=\"https://colab.research.google.com/assets/colab-badge.svg\" alt=\"Open In Colab\"/></a>"
      ]
    },
    {
      "cell_type": "code",
      "source": [],
      "metadata": {
        "id": "JxZdO6XntVUd"
      },
      "execution_count": null,
      "outputs": []
    },
    {
      "cell_type": "code",
      "execution_count": null,
      "metadata": {
        "id": "X7eO0Av4nCic"
      },
      "outputs": [],
      "source": [
        "!apt-get install openjdk-8-jdk-headless -qq > /dev/null\n",
        "!wget -q http://archive.apache.org/dist/spark/spark-3.5.1/spark-3.5.1-bin-hadoop3.tgz\n",
        "!tar xf spark-3.5.1-bin-hadoop3.tgz\n",
        "!pip install -q findspark"
      ]
    },
    {
      "cell_type": "markdown",
      "source": [],
      "metadata": {
        "id": "9Texozlxne9w"
      }
    },
    {
      "cell_type": "code",
      "source": [
        "import os\n",
        "os.environ[\"JAVA_HOME\"] = \"/usr/lib/jvm/java-8-openjdk-amd64\"\n",
        "os.environ[\"SPARK_HOME\"] = \"/content/spark-3.5.1-bin-hadoop3\""
      ],
      "metadata": {
        "id": "ITSjdTbknfwj"
      },
      "execution_count": null,
      "outputs": []
    },
    {
      "cell_type": "code",
      "source": [
        "import findspark\n",
        "findspark.init()\n",
        "from pyspark.sql import SparkSession\n",
        "from pyspark.sql.functions import col, avg, count, year, datediff, expr\n",
        "from pyspark.sql.types import StructType, StructField, IntegerType, StringType\n",
        "from pyspark.sql.functions import to_date\n",
        "\n",
        "spark = SparkSession.builder.master(\"local[*]\").getOrCreate()\n",
        "spark.conf.set(\"spark.sql.repl.eagerEval.enabled\", True) # Property used to format output tables better\n",
        "spark"
      ],
      "metadata": {
        "colab": {
          "base_uri": "https://localhost:8080/",
          "height": 221
        },
        "id": "dqoxUs2O_wk1",
        "outputId": "0279d3b1-9d44-45f6-9ecb-40696817323f"
      },
      "execution_count": null,
      "outputs": [
        {
          "output_type": "execute_result",
          "data": {
            "text/plain": [
              "<pyspark.sql.session.SparkSession at 0x789cb012f3d0>"
            ],
            "text/html": [
              "\n",
              "            <div>\n",
              "                <p><b>SparkSession - in-memory</b></p>\n",
              "                \n",
              "        <div>\n",
              "            <p><b>SparkContext</b></p>\n",
              "\n",
              "            <p><a href=\"http://06776e84dfc0:4040\">Spark UI</a></p>\n",
              "\n",
              "            <dl>\n",
              "              <dt>Version</dt>\n",
              "                <dd><code>v3.5.1</code></dd>\n",
              "              <dt>Master</dt>\n",
              "                <dd><code>local[*]</code></dd>\n",
              "              <dt>AppName</dt>\n",
              "                <dd><code>pyspark-shell</code></dd>\n",
              "            </dl>\n",
              "        </div>\n",
              "        \n",
              "            </div>\n",
              "        "
            ]
          },
          "metadata": {},
          "execution_count": 26
        }
      ]
    },
    {
      "cell_type": "code",
      "source": [
        "movies_schema = StructType([\n",
        "    StructField(\"movieId\", IntegerType(), True),\n",
        "    StructField(\"movieTitle\", StringType(), True),\n",
        "    StructField(\"releaseDate\", StringType(), True),\n",
        "    StructField(\"videoReleaseDate\", StringType(), True),\n",
        "    StructField(\"IMDbURL\", StringType(), True)\n",
        "])\n",
        "\n",
        "# Genres schema\n",
        "genres_schema = StructType([\n",
        "    StructField(\"mgenreId\", IntegerType(), True),\n",
        "    StructField(\"movieId\", IntegerType(), True),\n",
        "    StructField(\"genre\", StringType(), True)\n",
        "])\n",
        "\n",
        "# Ratings schema\n",
        "ratings_schema = StructType([\n",
        "    StructField(\"ratingId\", IntegerType(), True),\n",
        "    StructField(\"userId\", IntegerType(), True),\n",
        "    StructField(\"movieId\", IntegerType(), True),\n",
        "    StructField(\"rating\", IntegerType(), True),\n",
        "    StructField(\"timestamp\", StringType(), True)\n",
        "])\n",
        "\n",
        "# Users schema\n",
        "users_schema = StructType([\n",
        "    StructField(\"userId\", IntegerType(), True),\n",
        "    StructField(\"age\", IntegerType(), True),\n",
        "    StructField(\"gender\", StringType(), True),\n",
        "    StructField(\"occupation\", StringType(), True),\n",
        "    StructField(\"zipCode\", StringType(), True)\n",
        "])"
      ],
      "metadata": {
        "id": "9YhoPWpL28O7"
      },
      "execution_count": null,
      "outputs": []
    },
    {
      "cell_type": "code",
      "source": [
        "movie_df = spark.read.csv('movie.csv', header=True, sep=\",\", schema=movies_schema)\n",
        "movie_df.show(5, truncate=False)\n",
        "movie_df.printSchema()\n",
        "\n",
        "movie_genres_df = spark.read.csv('movie_genres.csv', header=True, sep=\",\" , schema=genres_schema)\n",
        "movie_genres_df.show(5, truncate=False)\n",
        "movie_genres_df.printSchema()\n",
        "\n",
        "ratings_df = spark.read.csv('ratings.csv', header=True, sep=\",\", schema=ratings_schema)\n",
        "ratings_df.show(5, truncate=False)\n",
        "ratings_df.printSchema()\n",
        "\n",
        "user_df = spark.read.csv('user.csv', header=True, sep=\",\", schema=users_schema)\n",
        "user_df.show(5, truncate=False)\n",
        "user_df.printSchema()"
      ],
      "metadata": {
        "colab": {
          "base_uri": "https://localhost:8080/"
        },
        "id": "hW8TL1tR_xsY",
        "outputId": "5169f60d-6370-43d2-833b-2174d6b06fbf"
      },
      "execution_count": null,
      "outputs": [
        {
          "output_type": "stream",
          "name": "stdout",
          "text": [
            "+-------+-----------------+-----------+----------------+------------------------------------------------------+\n",
            "|movieId|movieTitle       |releaseDate|videoReleaseDate|IMDbURL                                               |\n",
            "+-------+-----------------+-----------+----------------+------------------------------------------------------+\n",
            "|1      |Toy Story (1995) |01-Jan-95  |01-Jan-95       |http://us.imdb.com/M/title-exact?Toy%20Story%20(1995) |\n",
            "|2      |GoldenEye (1995) |01-Jan-95  |01-Jan-95       |http://us.imdb.com/M/title-exact?GoldenEye%20(1995)   |\n",
            "|3      |Four Rooms (1995)|01-Jan-95  |01-Jan-95       |http://us.imdb.com/M/title-exact?Four%20Rooms%20(1995)|\n",
            "|4      |Get Shorty (1995)|01-Jan-95  |01-Jan-95       |http://us.imdb.com/M/title-exact?Get%20Shorty%20(1995)|\n",
            "|5      |Copycat (1995)   |01-Jan-95  |01-Jan-95       |http://us.imdb.com/M/title-exact?Copycat%20(1995)     |\n",
            "+-------+-----------------+-----------+----------------+------------------------------------------------------+\n",
            "only showing top 5 rows\n",
            "\n",
            "root\n",
            " |-- movieId: integer (nullable = true)\n",
            " |-- movieTitle: string (nullable = true)\n",
            " |-- releaseDate: string (nullable = true)\n",
            " |-- videoReleaseDate: string (nullable = true)\n",
            " |-- IMDbURL: string (nullable = true)\n",
            "\n",
            "+--------+-------+-------+\n",
            "|mgenreId|movieId|genre  |\n",
            "+--------+-------+-------+\n",
            "|1       |267    |unknown|\n",
            "|2       |1373   |unknown|\n",
            "|3       |2      |Action |\n",
            "|4       |4      |Action |\n",
            "|5       |17     |Action |\n",
            "+--------+-------+-------+\n",
            "only showing top 5 rows\n",
            "\n",
            "root\n",
            " |-- mgenreId: integer (nullable = true)\n",
            " |-- movieId: integer (nullable = true)\n",
            " |-- genre: string (nullable = true)\n",
            "\n",
            "+--------+------+-------+------+----------------+\n",
            "|ratingId|userId|movieId|rating|timestamp       |\n",
            "+--------+------+-------+------+----------------+\n",
            "|1       |196   |242    |3     |1997-12-04 15:55|\n",
            "|2       |186   |302    |3     |1998-04-04 19:22|\n",
            "|3       |22    |377    |1     |1997-11-07 7:18 |\n",
            "|4       |244   |51     |2     |1997-11-27 5:02 |\n",
            "|5       |166   |346    |1     |1998-02-02 5:33 |\n",
            "+--------+------+-------+------+----------------+\n",
            "only showing top 5 rows\n",
            "\n",
            "root\n",
            " |-- ratingId: integer (nullable = true)\n",
            " |-- userId: integer (nullable = true)\n",
            " |-- movieId: integer (nullable = true)\n",
            " |-- rating: integer (nullable = true)\n",
            " |-- timestamp: string (nullable = true)\n",
            "\n",
            "+------+---+------+----------+-------+\n",
            "|userId|age|gender|occupation|zipCode|\n",
            "+------+---+------+----------+-------+\n",
            "|1     |24 |M     |technician|85711  |\n",
            "|2     |53 |F     |other     |94043  |\n",
            "|3     |23 |M     |writer    |32067  |\n",
            "|4     |24 |M     |technician|43537  |\n",
            "|5     |33 |F     |other     |15213  |\n",
            "+------+---+------+----------+-------+\n",
            "only showing top 5 rows\n",
            "\n",
            "root\n",
            " |-- userId: integer (nullable = true)\n",
            " |-- age: integer (nullable = true)\n",
            " |-- gender: string (nullable = true)\n",
            " |-- occupation: string (nullable = true)\n",
            " |-- zipCode: string (nullable = true)\n",
            "\n"
          ]
        }
      ]
    },
    {
      "cell_type": "markdown",
      "source": [
        "# **분석1: 특정 사용자 그룹의 영화 선호도 분석**\n",
        "문제 설명\n",
        "특정 연령대와 성별의 사용자들이 선호하는 영화 장르를 분석하십시오.\n",
        "\n",
        "연령대: 20세에서 30세 사이\n",
        "성별: 여성\n",
        "\n",
        "1. ratings, movie_genres, user 테이블을 사용합니다.\n",
        "2. 해당 연령대와 성별의 사용자들이 평가한 영화를 기준으로 분석합니다.\n",
        "3. 각 장르별 영화의 평균 평점과 영화 수를 계산합니다.\n",
        "4. 평균 평점이 높은 순서로 결과를 정렬합니다. 동일한 평점일 경우 영화 수가 많은 순서로 정렬합니다."
      ],
      "metadata": {
        "id": "utHv33Gs9QoN"
      }
    },
    {
      "cell_type": "code",
      "source": [
        "user_df_filtered = user_df.filter((col('age') >= 20) & (col('age') <= 30) & (col('gender') == 'F'))\n",
        "\n",
        "joined_df = ratings_df.join(movie_genres_df, \"movieId\").join(user_df_filtered, \"userId\")\n",
        "\n",
        "result_df = joined_df.groupBy(\"genre\") \\\n",
        "    .agg(count(\"*\").alias(\"movieCount\"), avg(\"rating\").alias(\"averageRating\")) \\\n",
        "    .orderBy(col(\"averageRating\").desc(), col(\"movieCount\").desc())\n",
        "\n",
        "result_df.show()"
      ],
      "metadata": {
        "colab": {
          "base_uri": "https://localhost:8080/"
        },
        "id": "xItKilka0aQQ",
        "outputId": "0ed55d6e-d11b-4c75-bf44-9316f19c4924"
      },
      "execution_count": null,
      "outputs": [
        {
          "output_type": "stream",
          "name": "stdout",
          "text": [
            "+-----------+----------+------------------+\n",
            "|      genre|movieCount|     averageRating|\n",
            "+-----------+----------+------------------+\n",
            "|        War|      1700|3.6941176470588237|\n",
            "|    Romance|      4878|3.5953259532595325|\n",
            "|    Musical|      1276|3.5940438871473352|\n",
            "|  Film-Noir|       268| 3.582089552238806|\n",
            "|      Drama|      8784| 3.566256830601093|\n",
            "|  Animation|       994| 3.545271629778672|\n",
            "|      Crime|      1552| 3.506443298969072|\n",
            "|Documentary|       138| 3.463768115942029|\n",
            "|    Mystery|       978|3.4519427402862988|\n",
            "|  Adventure|      2804| 3.412981455064194|\n",
            "|   Thriller|      4464|3.4094982078853047|\n",
            "|     Sci-Fi|      2408|3.3903654485049834|\n",
            "| Children's|      2038| 3.379784102060844|\n",
            "|     Action|      4904| 3.372756933115824|\n",
            "|     Comedy|      7046|3.3624751632131704|\n",
            "|    Western|       312| 3.217948717948718|\n",
            "|     Horror|      1142|3.1453590192644483|\n",
            "|    Fantasy|       330|3.0424242424242425|\n",
            "|    unknown|         2|               3.0|\n",
            "+-----------+----------+------------------+\n",
            "\n"
          ]
        }
      ]
    },
    {
      "cell_type": "markdown",
      "source": [
        "# **분석2: 고평점 영화와 저평점 영화의 특징 비교**\n",
        "평균 평점이 높은 영화와 낮은 영화의 장르 분포를 비교하십시오.\n",
        "\n",
        "\n",
        "1. ratings, movie_genres 테이블을 사용합니다.\n",
        "2. 먼저 각 영화의 평균 평점을 계산합니다.\n",
        "3. 평균 평점이 4.0 이상인 영화와 2.0 미만인 영화를 구분하여 장르 분포를 계산합니다.\n",
        "4. 각 장르별로 고평점 영화와 저평점 영화의 개수를 비교하여 결과를 도출합니다."
      ],
      "metadata": {
        "id": "ImaDBZIn9h_L"
      }
    },
    {
      "cell_type": "code",
      "source": [
        "movie_ratings_df = ratings_df.groupBy(\"movieId\") \\\n",
        "    .agg(avg(\"rating\").alias(\"averageRating\"))\n",
        "\n",
        "joined_df = movie_ratings_df.join(movie_genres_df, \"movieId\")\n",
        "\n",
        "result_df = joined_df.groupBy(\"genre\") \\\n",
        "    .agg(\n",
        "        count(expr(\"case when averageRating >= 4.0 then 1 end\")).alias(\"highRatedCount\"),\n",
        "        count(expr(\"case when averageRating < 2.0 then 1 end\")).alias(\"lowRatedCount\")\n",
        "    ) \\\n",
        "    .orderBy(col(\"highRatedCount\").desc(), col(\"lowRatedCount\").desc())\n",
        "\n",
        "result_df.show()"
      ],
      "metadata": {
        "colab": {
          "base_uri": "https://localhost:8080/"
        },
        "id": "2C9U50gq3xsa",
        "outputId": "0d527db9-e9e0-4422-9586-8afcc0b51a58"
      },
      "execution_count": null,
      "outputs": [
        {
          "output_type": "stream",
          "name": "stdout",
          "text": [
            "+-----------+--------------+-------------+\n",
            "|      genre|highRatedCount|lowRatedCount|\n",
            "+-----------+--------------+-------------+\n",
            "|      Drama|           168|           98|\n",
            "|     Comedy|            72|           74|\n",
            "|   Thriller|            66|           26|\n",
            "|    Romance|            54|           18|\n",
            "|        War|            40|            2|\n",
            "|      Crime|            34|            4|\n",
            "|     Action|            32|           36|\n",
            "|  Adventure|            30|            8|\n",
            "|    Mystery|            28|            4|\n",
            "|Documentary|            24|           12|\n",
            "|  Film-Noir|            24|            2|\n",
            "|     Sci-Fi|            16|           10|\n",
            "|  Animation|            10|            4|\n",
            "|     Horror|             6|           26|\n",
            "|    Musical|             6|            2|\n",
            "| Children's|             4|           16|\n",
            "|    Western|             4|            4|\n",
            "|    Fantasy|             2|            6|\n",
            "|    unknown|             0|            2|\n",
            "+-----------+--------------+-------------+\n",
            "\n"
          ]
        }
      ]
    },
    {
      "cell_type": "markdown",
      "source": [
        "# **분석3: 사용자 활동 분석**\n",
        "가장 많이 평점을 매긴 사용자 상위 10명과 그들의 평균 평점을 분석하십시오.\n",
        "\n",
        "1. ratings 테이블을 사용합니다.\n",
        "2. 각 사용자가 매긴 평점 수와 평균 평점을 계산합니다.\n",
        "3. 평점 수가 많은 순서대로 상위 10명의 사용자와 그들의 평균 평점을 도출합니다."
      ],
      "metadata": {
        "id": "xGyB94tn-8Kv"
      }
    },
    {
      "cell_type": "code",
      "source": [
        "result_df = ratings_df.groupBy(\"userId\") \\\n",
        "    .agg(count(\"*\").alias(\"ratingCount\"), avg(\"rating\").alias(\"averageRating\")) \\\n",
        "    .orderBy(col(\"ratingCount\").desc()) \\\n",
        "    .limit(10)\n",
        "\n",
        "result_df.show()"
      ],
      "metadata": {
        "colab": {
          "base_uri": "https://localhost:8080/"
        },
        "id": "kchANyWu3xpY",
        "outputId": "c3a46657-5f30-4fb4-9bfb-e03e5e409e89"
      },
      "execution_count": null,
      "outputs": [
        {
          "output_type": "stream",
          "name": "stdout",
          "text": [
            "+------+-----------+------------------+\n",
            "|userId|ratingCount|     averageRating|\n",
            "+------+-----------+------------------+\n",
            "|   405|        737|1.8344640434192674|\n",
            "|   655|        685| 2.908029197080292|\n",
            "|    13|        636|  3.09748427672956|\n",
            "|   450|        540|3.8648148148148147|\n",
            "|   276|        518| 3.465250965250965|\n",
            "|   416|        493| 3.845841784989858|\n",
            "|   537|        490|2.8653061224489798|\n",
            "|   303|        484| 3.365702479338843|\n",
            "|   234|        480| 3.122916666666667|\n",
            "|   393|        448|3.3370535714285716|\n",
            "+------+-----------+------------------+\n",
            "\n"
          ]
        }
      ]
    },
    {
      "cell_type": "markdown",
      "source": [
        "# **분석4: 특정 장르의 영화들에 대한 평점과 사용자 연령대 분석**\n",
        "특정 장르의 영화에 대한 연령대별 평균 평점을 분석하십시오.\n",
        "\n",
        "*   장르: 'Action'\n",
        "\n",
        "1. ratings, user, movie_genres 테이블을 사용합니다.\n",
        "2. 'Action' 장르의 영화를 평가한 사용자들의 연령대별 평균 평점을 계산합니다.\n",
        "3. 연령대별 평균 평점을 연령 순으로 정렬하여 도출합니다."
      ],
      "metadata": {
        "id": "w6vIP2y__B-s"
      }
    },
    {
      "cell_type": "code",
      "source": [
        "joined_df = ratings_df.join(user_df, \"userId\").join(movie_genres_df, \"movieId\")\n",
        "\n",
        "result_df = joined_df.filter(col(\"genre\") == \"Action\") \\\n",
        "    .groupBy(\"age\") \\\n",
        "    .agg(avg(\"rating\").alias(\"averageRating\")) \\\n",
        "    .orderBy(\"age\")\n",
        "\n",
        "result_df.show()"
      ],
      "metadata": {
        "colab": {
          "base_uri": "https://localhost:8080/"
        },
        "id": "YTjDX4nU3xmk",
        "outputId": "7ad9de1f-671a-4660-be48-c8419726f3ea"
      },
      "execution_count": null,
      "outputs": [
        {
          "output_type": "stream",
          "name": "stdout",
          "text": [
            "+---+------------------+\n",
            "|age|     averageRating|\n",
            "+---+------------------+\n",
            "|  7| 3.611111111111111|\n",
            "| 10|               4.0|\n",
            "| 11| 3.076923076923077|\n",
            "| 13|3.4934210526315788|\n",
            "| 14| 3.593220338983051|\n",
            "| 15|               3.5|\n",
            "| 16|3.5217391304347827|\n",
            "| 17| 3.651006711409396|\n",
            "| 18|3.7417677642980935|\n",
            "| 19| 3.307101727447217|\n",
            "| 20| 3.696747967479675|\n",
            "| 21|3.4532760472610096|\n",
            "| 22|3.2726432532347505|\n",
            "| 23| 3.193243243243243|\n",
            "| 24|3.4625199362041466|\n",
            "| 25|3.5377952755905513|\n",
            "| 26| 3.243414120126449|\n",
            "| 27|3.4154676258992804|\n",
            "| 28|3.4402907580477673|\n",
            "| 29| 3.422773393461105|\n",
            "+---+------------------+\n",
            "only showing top 20 rows\n",
            "\n"
          ]
        }
      ]
    },
    {
      "cell_type": "markdown",
      "source": [
        "# **분석5: ???**\n",
        "직접 분석할 것 정의해서 데이터 뽑아보기\n",
        "\n",
        "위에 주어진 문제들과 유사한 패턴으로 내용을 정의하고 그에맞추어 데이터 추출해보기"
      ],
      "metadata": {
        "id": "u80kH7yj_obZ"
      }
    }
  ]
}