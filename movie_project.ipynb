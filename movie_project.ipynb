{
  "nbformat": 4,
  "nbformat_minor": 0,
  "metadata": {
    "colab": {
      "provenance": [],
      "authorship_tag": "ABX9TyNiORFN6wJqkpgiq6ovbsF9",
      "include_colab_link": true
    },
    "kernelspec": {
      "name": "python3",
      "display_name": "Python 3"
    },
    "language_info": {
      "name": "python"
    }
  },
  "cells": [
    {
      "cell_type": "markdown",
      "metadata": {
        "id": "view-in-github",
        "colab_type": "text"
      },
      "source": [
        "<a href=\"https://colab.research.google.com/github/lee021/2024-spark/blob/main/movie_project.ipynb\" target=\"_parent\"><img src=\"https://colab.research.google.com/assets/colab-badge.svg\" alt=\"Open In Colab\"/></a>"
      ]
    },
    {
      "cell_type": "code",
      "execution_count": 12,
      "metadata": {
        "id": "yHkwoT96691Y"
      },
      "outputs": [],
      "source": [
        "!apt-get install openjdk-8-jdk-headless -qq > /dev/null\n",
        "!wget -q http://archive.apache.org/dist/spark/spark-3.5.1/spark-3.5.1-bin-hadoop3.tgz\n",
        "!tar xf spark-3.5.1-bin-hadoop3.tgz\n",
        "!pip install -q findspark"
      ]
    },
    {
      "cell_type": "code",
      "source": [
        "import os\n",
        "os.environ[\"JAVA_HOME\"] = \"/usr/lib/jvm/java-8-openjdk-amd64\"\n",
        "os.environ[\"SPARK_HOME\"] = \"/content/spark-3.5.1-bin-hadoop3\""
      ],
      "metadata": {
        "id": "PmgJGBbC7ic9"
      },
      "execution_count": null,
      "outputs": []
    },
    {
      "cell_type": "code",
      "source": [
        "import findspark\n",
        "findspark.init()\n",
        "from pyspark.sql import SparkSession\n",
        "spark = SparkSession.builder.master(\"local[*]\").getOrCreate()\n",
        "spark.conf.set(\"spark.sql.repl.eagerEval.enabled\", True) # Property used to format output tables better\n",
        "spark"
      ],
      "metadata": {
        "colab": {
          "base_uri": "https://localhost:8080/",
          "height": 219
        },
        "id": "Rfzwrp-J7is8",
        "outputId": "45ea2ebd-908f-4726-f91c-e2b41320c6c9"
      },
      "execution_count": null,
      "outputs": [
        {
          "output_type": "execute_result",
          "data": {
            "text/plain": [
              "<pyspark.sql.session.SparkSession at 0x7fc329b4fb50>"
            ],
            "text/html": [
              "\n",
              "            <div>\n",
              "                <p><b>SparkSession - in-memory</b></p>\n",
              "                \n",
              "        <div>\n",
              "            <p><b>SparkContext</b></p>\n",
              "\n",
              "            <p><a href=\"http://3b2cfc04cb1a:4040\">Spark UI</a></p>\n",
              "\n",
              "            <dl>\n",
              "              <dt>Version</dt>\n",
              "                <dd><code>v3.5.1</code></dd>\n",
              "              <dt>Master</dt>\n",
              "                <dd><code>local[*]</code></dd>\n",
              "              <dt>AppName</dt>\n",
              "                <dd><code>pyspark-shell</code></dd>\n",
              "            </dl>\n",
              "        </div>\n",
              "        \n",
              "            </div>\n",
              "        "
            ]
          },
          "metadata": {},
          "execution_count": 3
        }
      ]
    },
    {
      "cell_type": "code",
      "source": [
        "import shutil\n",
        "import os\n",
        "\n",
        "# Create directory\n",
        "os.makedirs('/content/movie_data', exist_ok=True)\n",
        "\n",
        "# Move uploaded files to the directory\n",
        "shutil.move('/mnt/data/movie.csv', '/content/movie_data/movie.csv')\n",
        "shutil.move('/mnt/data/user.csv', '/content/movie_data/user.csv')\n",
        "shutil.move('/mnt/data/ratings.csv', '/content/movie_data/ratings.csv')\n",
        "shutil.move('/mnt/data/movie_genres.csv', '/content/movie_data/movie_genres.csv')"
      ],
      "metadata": {
        "colab": {
          "base_uri": "https://localhost:8080/",
          "height": 35
        },
        "id": "IuHPQxHf7i5c",
        "outputId": "5ab31ffe-b9b1-4c8b-dfae-e3c0335f9eac"
      },
      "execution_count": null,
      "outputs": [
        {
          "output_type": "execute_result",
          "data": {
            "text/plain": [
              "'/content/movie_data/movie_genres.csv'"
            ],
            "application/vnd.google.colaboratory.intrinsic+json": {
              "type": "string"
            }
          },
          "metadata": {},
          "execution_count": 7
        }
      ]
    },
    {
      "cell_type": "code",
      "source": [
        "genreDf = spark.read.csv('movie_data/movie_genres.csv', header=True, sep=\",\")\n",
        "genreDf.show(10, truncate=False)\n",
        "genreDf.printSchema()"
      ],
      "metadata": {
        "colab": {
          "base_uri": "https://localhost:8080/"
        },
        "id": "6nE33tpG7jJE",
        "outputId": "1fec4707-fdcf-442f-8b15-b510e8e2d9e9"
      },
      "execution_count": null,
      "outputs": [
        {
          "output_type": "stream",
          "name": "stdout",
          "text": [
            "+--------+-------+-------+\n",
            "|mgenreId|movieId|genre  |\n",
            "+--------+-------+-------+\n",
            "|1       |267    |unknown|\n",
            "|2       |1373   |unknown|\n",
            "|3       |2      |Action |\n",
            "|4       |4      |Action |\n",
            "|5       |17     |Action |\n",
            "|6       |21     |Action |\n",
            "|7       |22     |Action |\n",
            "|8       |24     |Action |\n",
            "|9       |27     |Action |\n",
            "|10      |28     |Action |\n",
            "+--------+-------+-------+\n",
            "only showing top 10 rows\n",
            "\n",
            "root\n",
            " |-- mgenreId: string (nullable = true)\n",
            " |-- movieId: string (nullable = true)\n",
            " |-- genre: string (nullable = true)\n",
            "\n"
          ]
        }
      ]
    },
    {
      "cell_type": "code",
      "source": [
        "ratingDf = spark.read.csv('movie_data/ratings.csv', header=True, sep=\",\")\n",
        "ratingDf.show(5,truncate=False)\n",
        "ratingDf.printSchema()"
      ],
      "metadata": {
        "colab": {
          "base_uri": "https://localhost:8080/"
        },
        "id": "JTaWclTf7jXE",
        "outputId": "4274683a-b2cd-4679-8902-b270ff7e54f1"
      },
      "execution_count": null,
      "outputs": [
        {
          "output_type": "stream",
          "name": "stdout",
          "text": [
            "+--------+------+-------+------+----------------+\n",
            "|ratingId|userId|movieId|rating|timestamp       |\n",
            "+--------+------+-------+------+----------------+\n",
            "|1       |196   |242    |3     |1997-12-04 15:55|\n",
            "|2       |186   |302    |3     |1998-04-04 19:22|\n",
            "|3       |22    |377    |1     |1997-11-07 7:18 |\n",
            "|4       |244   |51     |2     |1997-11-27 5:02 |\n",
            "|5       |166   |346    |1     |1998-02-02 5:33 |\n",
            "+--------+------+-------+------+----------------+\n",
            "only showing top 5 rows\n",
            "\n",
            "root\n",
            " |-- ratingId: string (nullable = true)\n",
            " |-- userId: string (nullable = true)\n",
            " |-- movieId: string (nullable = true)\n",
            " |-- rating: string (nullable = true)\n",
            " |-- timestamp: string (nullable = true)\n",
            "\n"
          ]
        }
      ]
    },
    {
      "cell_type": "code",
      "source": [
        "movieDf = spark.read.csv('movie_data/movie.csv', header=True, sep=\",\")\n",
        "movieDf.show(5,truncate=False)\n",
        "movieDf.printSchema()"
      ],
      "metadata": {
        "colab": {
          "base_uri": "https://localhost:8080/"
        },
        "id": "EVV8BBSODZHG",
        "outputId": "af2e78a3-3572-4a10-dcca-bcae1f4c09ce"
      },
      "execution_count": 13,
      "outputs": [
        {
          "output_type": "stream",
          "name": "stdout",
          "text": [
            "+--------+-----------------+------------+------------------+------------------------------------------------------+\n",
            "|movie id|movie title      |release date|video release date|IMDb URL                                              |\n",
            "+--------+-----------------+------------+------------------+------------------------------------------------------+\n",
            "|1       |Toy Story (1995) |01-Jan-95   |01-Jan-95         |http://us.imdb.com/M/title-exact?Toy%20Story%20(1995) |\n",
            "|2       |GoldenEye (1995) |01-Jan-95   |01-Jan-95         |http://us.imdb.com/M/title-exact?GoldenEye%20(1995)   |\n",
            "|3       |Four Rooms (1995)|01-Jan-95   |01-Jan-95         |http://us.imdb.com/M/title-exact?Four%20Rooms%20(1995)|\n",
            "|4       |Get Shorty (1995)|01-Jan-95   |01-Jan-95         |http://us.imdb.com/M/title-exact?Get%20Shorty%20(1995)|\n",
            "|5       |Copycat (1995)   |01-Jan-95   |01-Jan-95         |http://us.imdb.com/M/title-exact?Copycat%20(1995)     |\n",
            "+--------+-----------------+------------+------------------+------------------------------------------------------+\n",
            "only showing top 5 rows\n",
            "\n",
            "root\n",
            " |-- movie id: string (nullable = true)\n",
            " |-- movie title: string (nullable = true)\n",
            " |-- release date: string (nullable = true)\n",
            " |-- video release date: string (nullable = true)\n",
            " |-- IMDb URL: string (nullable = true)\n",
            "\n"
          ]
        }
      ]
    },
    {
      "cell_type": "code",
      "source": [],
      "metadata": {
        "id": "CPe5ZgSQDZbX"
      },
      "execution_count": null,
      "outputs": []
    },
    {
      "cell_type": "code",
      "source": [],
      "metadata": {
        "id": "U3OHjyp0DZq2"
      },
      "execution_count": null,
      "outputs": []
    },
    {
      "cell_type": "code",
      "source": [],
      "metadata": {
        "id": "KmnkVgpqDZ82"
      },
      "execution_count": null,
      "outputs": []
    }
  ]
}