{
  "nbformat": 4,
  "nbformat_minor": 0,
  "metadata": {
    "colab": {
      "provenance": [],
      "authorship_tag": "ABX9TyMWIzCt1InvkPoQk8XaaGwQ",
      "include_colab_link": true
    },
    "kernelspec": {
      "name": "python3",
      "display_name": "Python 3"
    },
    "language_info": {
      "name": "python"
    }
  },
  "cells": [
    {
      "cell_type": "markdown",
      "metadata": {
        "id": "view-in-github",
        "colab_type": "text"
      },
      "source": [
        "<a href=\"https://colab.research.google.com/github/io-uty/2024-spark/blob/main/io-uty/weatherDB.ipynb\" target=\"_parent\"><img src=\"https://colab.research.google.com/assets/colab-badge.svg\" alt=\"Open In Colab\"/></a>"
      ]
    },
    {
      "cell_type": "code",
      "execution_count": null,
      "metadata": {
        "id": "GG9lfS-FLFV9"
      },
      "outputs": [],
      "source": [
        "!apt-get install openjdk-8-jdk-headless -qq > /dev/null\n",
        "!wget -q http://archive.apache.org/dist/spark/spark-3.5.1/spark-3.5.1-bin-hadoop3.tgz\n",
        "!tar xf spark-3.5.1-bin-hadoop3.tgz\n",
        "!pip install -q findspark"
      ]
    },
    {
      "cell_type": "code",
      "source": [
        "import os\n",
        "os.environ[\"JAVA_HOME\"] = \"/usr/lib/jvm/java-8-openjdk-amd64\"\n",
        "os.environ[\"SPARK_HOME\"] = \"/content/spark-3.5.1-bin-hadoop3\""
      ],
      "metadata": {
        "id": "n4oE1uDQLKC4"
      },
      "execution_count": null,
      "outputs": []
    },
    {
      "cell_type": "code",
      "source": [
        "import findspark\n",
        "findspark.init()\n",
        "from pyspark.sql import SparkSession\n",
        "spark = SparkSession.builder.master(\"local[*]\").getOrCreate()\n",
        "spark.conf.set(\"spark.sql.repl.eagerEval.enabled\", True) # Property used to format output tables better\n",
        "spark"
      ],
      "metadata": {
        "colab": {
          "base_uri": "https://localhost:8080/",
          "height": 221
        },
        "id": "2T8BijO7LLkA",
        "outputId": "718fbdfa-765d-450a-bd7d-2024101ab509"
      },
      "execution_count": null,
      "outputs": [
        {
          "output_type": "execute_result",
          "data": {
            "text/plain": [
              "<pyspark.sql.session.SparkSession at 0x7863e0318640>"
            ],
            "text/html": [
              "\n",
              "            <div>\n",
              "                <p><b>SparkSession - in-memory</b></p>\n",
              "                \n",
              "        <div>\n",
              "            <p><b>SparkContext</b></p>\n",
              "\n",
              "            <p><a href=\"http://5cefa29ee7ee:4040\">Spark UI</a></p>\n",
              "\n",
              "            <dl>\n",
              "              <dt>Version</dt>\n",
              "                <dd><code>v3.5.1</code></dd>\n",
              "              <dt>Master</dt>\n",
              "                <dd><code>local[*]</code></dd>\n",
              "              <dt>AppName</dt>\n",
              "                <dd><code>pyspark-shell</code></dd>\n",
              "            </dl>\n",
              "        </div>\n",
              "        \n",
              "            </div>\n",
              "        "
            ]
          },
          "metadata": {},
          "execution_count": 3
        }
      ]
    },
    {
      "cell_type": "code",
      "source": [
        "dfApril = spark.read.csv('202304.csv', header = True, sep = \",\")\n",
        "dfMay = spark.read.csv('202305.csv', header = True, sep = \",\")\n",
        "dfJune = spark.read.csv('202306.csv', header = True, sep = \",\")\n",
        "dfJuly = spark.read.csv('202307.csv', header = True, sep = \",\")\n",
        "dfAugust = spark.read.csv('202308.csv', header = True, sep = \",\")\n",
        "dfSeptember = spark.read.csv('202309.csv', header = True, sep = \",\")\n",
        "dfAll = dfApril.union(dfMay).union(dfJune).union(dfJuly).union(dfAugust).union(dfSeptember)\n"
      ],
      "metadata": {
        "id": "rKlEfqYSLTPN"
      },
      "execution_count": null,
      "outputs": []
    },
    {
      "cell_type": "markdown",
      "source": [
        "# **서울의 기온과 폭염특보의 관계 비교**\n",
        "문제 설명 : 서울(108)의 월별 평균기온과 폭염특보가 뜬 개수를 구해 1개월 단위로 비교하십시오.\n",
        "지역 : 서울\n",
        "\n",
        "1. 2023년 4~9월 테이블을 사용합니다.\n",
        "2. 해당 지역의 최고기온, 평균기온, 최저기온의 각 평균을 구해 분석합니다.\n",
        "3. 해당 지역에 한 달간 폭염특보가 내려진 횟수를 계산합니다.\n",
        "4. 폭염특보의 횟수가 높은 순서로 결과를 정렬합니다. 횟수가 동일할 경우 평균기온이 높은 순서대로 정렬합니다."
      ],
      "metadata": {
        "id": "LQa2rEM_Ls9S"
      }
    },
    {
      "cell_type": "code",
      "source": [
        "aprilOfSeoul = dfApril.filter(dfApril['지점'] == '서울(108)')\n",
        "mayOfSeoul = dfMay.filter(dfMay['지점'] == '서울(108)')\n",
        "juneOfSeoul = dfJune.filter(dfJune['지점'] == '서울(108)')\n",
        "julyOfSeoul = dfJuly.filter(dfJuly['지점'] == '서울(108)')\n",
        "augustOfSeoul = dfAugust.filter(dfAugust['지점'] == '서울(108)')\n",
        "septemberOfSeoul = dfSeptember.filter(dfSeptember['지점'] == '서울(108)')"
      ],
      "metadata": {
        "id": "LLm6cYJBP_Nj"
      },
      "execution_count": null,
      "outputs": []
    },
    {
      "cell_type": "code",
      "source": [
        "from pyspark.sql.functions import avg, sum, when\n",
        "\n",
        "aprilAvg = spark.createDataFrame([(\"April\",)], [\"month\"])\\\n",
        "  .join(aprilOfSeoul.agg(\n",
        "    avg(\"최고기온(°C)\").alias(\"avgHightmp\"),\n",
        "    avg(\"평균기온(°C)\").alias(\"avgtmp\"),\n",
        "    avg(\"최저기온(°C)\").alias(\"avgLowtmp\"),\n",
        "    sum(when(dfApril['폭염특보(O/X)'] == 'O', 1).otherwise(0)).alias(\"soHot\")\n",
        "))\n",
        "\n",
        "mayAvg = spark.createDataFrame([(\"May\",)], [\"month\"])\\\n",
        "  .join(mayOfSeoul.agg(\n",
        "    avg(\"최고기온(°C)\").alias(\"avgHightmp\"),\n",
        "    avg(\"평균기온(°C)\").alias(\"avgtmp\"),\n",
        "    avg(\"최저기온(°C)\").alias(\"avgLowtmp\"),\n",
        "    sum(when(dfMay['폭염특보(O/X)'] == 'O', 1).otherwise(0)).alias(\"soHot\")\n",
        "))\n",
        "juneAvg = spark.createDataFrame([(\"June\",)], [\"month\"])\\\n",
        "  .join(juneOfSeoul.agg(\n",
        "    avg(\"최고기온(°C)\").alias(\"avgHightmp\"),\n",
        "    avg(\"평균기온(°C)\").alias(\"avgtmp\"),\n",
        "    avg(\"최저기온(°C)\").alias(\"avgLowtmp\"),\n",
        "    sum(when(dfJune['폭염특보(O/X)'] == 'O', 1).otherwise(0)).alias(\"soHot\")\n",
        "))\n",
        "julyAvg = spark.createDataFrame([(\"July\",)], [\"month\"])\\\n",
        "  .join(julyOfSeoul.agg(\n",
        "    avg(\"최고기온(°C)\").alias(\"avgHightmp\"),\n",
        "    avg(\"평균기온(°C)\").alias(\"avgtmp\"),\n",
        "    avg(\"최저기온(°C)\").alias(\"avgLowtmp\"),\n",
        "    sum(when(dfJuly['폭염특보(O/X)'] == 'O', 1).otherwise(0)).alias(\"soHot\")\n",
        "))\n",
        "augustAvg = spark.createDataFrame([(\"August\",)], [\"month\"])\\\n",
        "  .join(augustOfSeoul.agg(\n",
        "    avg(\"최고기온(°C)\").alias(\"avgHightmp\"),\n",
        "    avg(\"평균기온(°C)\").alias(\"avgtmp\"),\n",
        "    avg(\"최저기온(°C)\").alias(\"avgLowtmp\"),\n",
        "    sum(when(dfAugust['폭염특보(O/X)'] == 'O', 1).otherwise(0)).alias(\"soHot\")\n",
        "))\n",
        "septemberAvg = spark.createDataFrame([(\"September\",)], [\"month\"])\\\n",
        "  .join(septemberOfSeoul.agg(\n",
        "    avg(\"최고기온(°C)\").alias(\"avgHightmp\"),\n",
        "    avg(\"평균기온(°C)\").alias(\"avgtmp\"),\n",
        "    avg(\"최저기온(°C)\").alias(\"avgLowtmp\"),\n",
        "    sum(when(dfSeptember['폭염특보(O/X)'] == 'O', 1).otherwise(0)).alias(\"soHot\")\n",
        "))\n"
      ],
      "metadata": {
        "id": "hbJkbP-dQrYn"
      },
      "execution_count": null,
      "outputs": []
    },
    {
      "cell_type": "code",
      "source": [
        "dfAvgs = aprilAvg\\\n",
        "  .union(mayAvg)\\\n",
        "  .union(juneAvg)\\\n",
        "  .union(julyAvg)\\\n",
        "  .union(augustAvg)\\\n",
        "  .union(septemberAvg)\n",
        "\n",
        "dfAvgs.orderBy(\"soHot\", ascending = False).show()"
      ],
      "metadata": {
        "colab": {
          "base_uri": "https://localhost:8080/"
        },
        "id": "0sZJ7JkOVpBF",
        "outputId": "f5556c64-5fc5-45e8-d04d-10bbbcbf4ec8"
      },
      "execution_count": null,
      "outputs": [
        {
          "output_type": "stream",
          "name": "stdout",
          "text": [
            "+---------+------------------+------------------+------------------+-----+\n",
            "|    month|        avgHightmp|            avgtmp|         avgLowtmp|soHot|\n",
            "+---------+------------------+------------------+------------------+-----+\n",
            "|   August| 30.76451612903226|27.187096774193545|24.309677419354834|   19|\n",
            "|     July|30.193548387096772| 26.70645161290323|23.851612903225806|   14|\n",
            "|     June| 27.85333333333334|23.383333333333333| 19.74666666666667|    3|\n",
            "|September|27.616666666666674|23.663333333333338|20.233333333333338|    2|\n",
            "|    April| 18.95333333333333|13.799999999999999| 8.806666666666665|    0|\n",
            "|      May|25.041935483870965| 19.52258064516129|14.606451612903227|    0|\n",
            "+---------+------------------+------------------+------------------+-----+\n",
            "\n"
          ]
        }
      ]
    },
    {
      "cell_type": "markdown",
      "source": [
        "# **자외선 지수와 온도, 습도의 상관관계 분석**"
      ],
      "metadata": {
        "id": "-v-UwNRwEsAG"
      }
    },
    {
      "cell_type": "code",
      "source": [
        "from pyspark.sql.functions import avg, sum, when, lpad, col\n",
        "dfAll =dfAll.withColumn(\"일시\", lpad(col(\"일시\"), 10, \" \"))\n",
        "avgAll = dfAll.groupBy('일시')\\\n",
        "  .agg(\n",
        "    avg(\"최고기온(°C)\").alias(\"avgHightmp\"),\n",
        "    avg(\"평균상대습도(%)\").alias(\"avgHumidity\"),\n",
        "    avg(when(dfAll['자외선지수(단계)'] == '낮음', 1.5)\\\n",
        "        .when(dfAll['자외선지수(단계)'] == '보통', 4.5)\\\n",
        "        .when(dfAll['자외선지수(단계)'] == '높음', 7)\\\n",
        "        .when(dfAll['자외선지수(단계)'] == '매우높음', 9.5)\\\n",
        "        .when(dfAll['자외선지수(단계)'] == '위험', 13)).alias(\"avgUV\")\n",
        ")\\\n",
        "  .orderBy(\"일시\")\n",
        "avgHighValue = avgAll.select(avg(\"avgHightmp\")).collect()[0][0]\n",
        "HOTavgUVValue = avgAll.filter(avgAll['avgHightmp'] >= avgHighValue).select(\"avgUV\").collect()[0][0]\n",
        "COOLavgUVValue = avgAll.filter(avgAll['avgHightmp'] < avgHighValue).select(\"avgUV\").collect()[0][0]\n",
        "print(\"가장 더울 때의 자외선 지수 : \", HOTavgUVValue)\n",
        "print(\"가장 시원할 때의 자외선 지수 : \", COOLavgUVValue)\n",
        "avgHumidityValue = avgAll.select(\"avgHumidity\").collect()[0][0]\n",
        "HighHumUVValue = avgAll.filter(avgAll['avgHumidity'] >= avgHumidityValue).select(\"avgUV\").collect()[0][0]\n",
        "LowHumUVValue = avgAll.filter(avgAll['avgHumidity'] < avgHumidityValue).select(\"avgUV\").collect()[0][0]\n",
        "print(\"가장 습할 때의 자외선 지수 : \", HighHumUVValue)\n",
        "print(\"가장 뽀송할 때의 자외선 지수 : \", LowHumUVValue)"
      ],
      "metadata": {
        "colab": {
          "base_uri": "https://localhost:8080/"
        },
        "id": "vu7MDJXVFOXm",
        "outputId": "f0a0fd87-4577-42e5-e4ec-71b96d69ee74"
      },
      "execution_count": null,
      "outputs": [
        {
          "output_type": "stream",
          "name": "stdout",
          "text": [
            "가장 더울 때의 자외선 지수 :  8.697530864197532\n",
            "가장 시원할 때의 자외선 지수 :  6.814814814814815\n",
            "가장 습할 때의 자외선 지수 :  6.814814814814815\n",
            "가장 뽀송할 때의 자외선 지수 :  7.0\n"
          ]
        }
      ]
    },
    {
      "cell_type": "markdown",
      "source": [
        "# **매 월마다 폭염특보가 가장 많이 발효된 지역**"
      ],
      "metadata": {
        "id": "pZPcyuUY3JXr"
      }
    },
    {
      "cell_type": "code",
      "source": [
        "heatApril = dfApril.groupBy('지점')\\\n",
        ".agg(sum(when(dfApril['폭염특보(O/X)'] == 'O', 1).otherwise(0)).alias(\"heatwave_count\"))\\\n",
        ".orderBy(\"heatwave_count\", \"지점\", ascending = False)\\\n",
        "\n",
        "heatMay = dfMay.groupBy('지점')\\\n",
        ".agg(sum(when(dfMay['폭염특보(O/X)'] == 'O', 1).otherwise(0)).alias(\"heatwave_count\"))\\\n",
        ".orderBy(\"heatwave_count\",\"지점\", ascending = False)\\\n",
        "\n",
        "heatJune = dfJune.groupBy('지점')\\\n",
        ".agg(sum(when(dfJune['폭염특보(O/X)'] == 'O', 1).otherwise(0)).alias(\"heatwave_count\"))\\\n",
        ".orderBy(\"heatwave_count\", \"지점\",ascending = False)\\\n",
        "\n",
        "heatJuly = dfJuly.groupBy('지점')\\\n",
        ".agg(sum(when(dfJuly['폭염특보(O/X)'] == 'O', 1).otherwise(0)).alias(\"heatwave_count\"))\\\n",
        ".orderBy(\"heatwave_count\",\"지점\", ascending = False)\\\n",
        "\n",
        "heatAugust = dfAugust.groupBy('지점')\\\n",
        ".agg(sum(when(dfAugust['폭염특보(O/X)'] == 'O', 1).otherwise(0)).alias(\"heatwave_count\"))\\\n",
        ".orderBy(\"heatwave_count\", \"지점\",ascending = False)\\\n",
        "\n",
        "heatSeptember =dfSeptember.groupBy('지점')\\\n",
        ".agg(sum(when(dfSeptember['폭염특보(O/X)'] == 'O', 1).otherwise(0)).alias(\"heatwave_count\"))\\\n",
        ".orderBy(\"heatwave_count\", \"지점\",ascending = False)\\\n",
        "\n"
      ],
      "metadata": {
        "id": "NfDRcj-m3Ppc"
      },
      "execution_count": null,
      "outputs": []
    },
    {
      "cell_type": "code",
      "source": [
        "april = spark.createDataFrame([(\"4\",)], [\"month\"])\\\n",
        "  .join(heatApril.limit(1)) # Use limit(1) to get a DataFrame with one row\n",
        "may = spark.createDataFrame([(\"5\",)], [\"month\"])\\\n",
        "  .join(heatMay.limit(1))\n",
        "june = spark.createDataFrame([(\"6\",)], [\"month\"])\\\n",
        "  .join(heatJune.limit(1))\n",
        "july = spark.createDataFrame([(\"7\",)], [\"month\"])\\\n",
        "  .join(heatJuly.limit(1))\n",
        "august = spark.createDataFrame([(\"8\",)], [\"month\"])\\\n",
        "  .join(heatAugust.limit(1))\n",
        "september = spark.createDataFrame([(\"9\",)], [\"month\"])\\\n",
        "  .join(heatSeptember.limit(1))\n",
        "dfAvgs = april\\\n",
        "  .union(may)\\\n",
        "  .union(june)\\\n",
        "  .union(july)\\\n",
        "  .union(august)\\\n",
        "  .union(september)\n",
        "\n",
        "dfAvgs.orderBy(\"heatwave_count\", ascending = False).show()"
      ],
      "metadata": {
        "colab": {
          "base_uri": "https://localhost:8080/"
        },
        "id": "BVD-BwsgT14F",
        "outputId": "e09c2466-c6dc-466c-d9b7-e92ac44e1d96"
      },
      "execution_count": null,
      "outputs": [
        {
          "output_type": "stream",
          "name": "stdout",
          "text": [
            "+-----+-----------+--------------+\n",
            "|month|       지점|heatwave_count|\n",
            "+-----+-----------+--------------+\n",
            "|    8|  합천(285)|            26|\n",
            "|    7|  합천(285)|            20|\n",
            "|    9|  화순(741)|             6|\n",
            "|    6|  홍천(212)|             6|\n",
            "|    4|흑산도(169)|             0|\n",
            "|    5|흑산도(169)|             0|\n",
            "+-----+-----------+--------------+\n",
            "\n"
          ]
        }
      ]
    },
    {
      "cell_type": "markdown",
      "source": [
        "# **대한민국 행정구역별 평균 온도 분석**"
      ],
      "metadata": {
        "id": "JubY8ZIsM9Cd"
      }
    },
    {
      "cell_type": "code",
      "source": [
        "regions = {\"서울특별시\": [\"108\"],\n",
        "\"인천광역시\": [\"112\"],\n",
        "\"부산광역시\": [\"159\"],\n",
        "\"대구광역시\": [\"143\"],\n",
        "\"대전광역시\": [\"133\"],\n",
        "\"울산광역시\": [\"152\"],\n",
        "\"세종특별자치시\": [\"239\"],\n",
        "\"경기도\": [\n",
        "    119, 202, 203, 551, 549, 434, 433, 437, 438, 441, 444, 445,\n",
        "    505, 504, 516, 532, 540, 541, 545, 546, 548, 550, 555, 556,\n",
        "    565, 569, 571, 572, 590, 598, 601, 602, 603, 604\n",
        "],\n",
        "\"강원도\": [\n",
        "    104, 106, 114, 115, 121, 211, 212, 216, 217, 526, 555, 556,\n",
        "    606, 90, 876, 93\n",
        "],\n",
        "\"충청북도\": [127, 131, 221, 226, 601, 602, 603, 604],\n",
        "\"충청남도\": [\n",
        "    129, 235, 236, 238, 232, 612, 615, 616, 618, 619, 627, 628,\n",
        "    634, 636\n",
        "],\n",
        "\"전라북도\": [140, 146, 702, 245, 247, 248, 254, 734, 737],\n",
        "\"전라남도\": [\n",
        "    165, 168, 169, 170, 172, 712, 713, 730, 731, 732, 706, 709,\n",
        "    710, 741, 754, 768, 789, 259, 260, 261, 262\n",
        "],\n",
        "\"경상북도\": [\n",
        "    135, 136, 137, 138, 271, 272, 273, 276, 277, 278, 279, 281,\n",
        "    283, 284, 285, 288, 289, 294, 295, 801, 810, 812, 813, 815,\n",
        "    822, 823, 825, 827\n",
        "],\n",
        "\"경상남도\": [155, 162, 192, 253, 257, 264, 263, 268, 920],\n",
        "\"제주특별자치도\": [\"184\"]}"
      ],
      "metadata": {
        "id": "6Kkd60peNBL0"
      },
      "execution_count": null,
      "outputs": []
    },
    {
      "cell_type": "code",
      "source": [
        "allTmp = dfAll.groupby(\"지점\")\\\n",
        "  .agg(avg(\"평균기온(°C)\").alias(\"avgTmp\"))\n",
        "\n",
        "allTmp.orderBy(\"avgTmp\", ascending=False).show()"
      ],
      "metadata": {
        "colab": {
          "base_uri": "https://localhost:8080/"
        },
        "id": "wiwAs_HbHMcp",
        "outputId": "9b9230b4-2a71-4b29-bc34-f79ba03af87c"
      },
      "execution_count": null,
      "outputs": [
        {
          "output_type": "stream",
          "name": "stdout",
          "text": [
            "+-----------+------------------+\n",
            "|       지점|            avgTmp|\n",
            "+-----------+------------------+\n",
            "|  제주(184)|23.403888888888886|\n",
            "|  청주(131)|23.071584699453553|\n",
            "|양산시(257)| 22.91639344262295|\n",
            "|  광명(437)|22.914285714285718|\n",
            "|  대구(143)|22.661202185792348|\n",
            "|순천시(712)|22.586263736263735|\n",
            "|  밀양(288)|22.568681318681318|\n",
            "|광양읍(713)|22.550273224043714|\n",
            "|  광주(156)|22.521857923497272|\n",
            "|  경산(827)|22.502747252747252|\n",
            "|  포항(138)|22.468306010928956|\n",
            "|  전주(146)|22.444505494505496|\n",
            "|  칠곡(825)| 22.43934426229508|\n",
            "|  창녕(919)|22.426775956284153|\n",
            "|  서울(108)|22.411475409836072|\n",
            "|의령군(263)| 22.36353591160221|\n",
            "|김해시(253)|22.278688524590162|\n",
            "|  성주(810)|22.240437158469945|\n",
            "|  옥천(604)| 22.22252747252747|\n",
            "|  논산(615)| 22.19344262295082|\n",
            "+-----------+------------------+\n",
            "only showing top 20 rows\n",
            "\n"
          ]
        }
      ]
    },
    {
      "cell_type": "markdown",
      "source": [
        "# **폭염 & 자외선 기준으로 최고체감온도 집계하기**"
      ],
      "metadata": {
        "id": "Dv5cgHMQKsRN"
      }
    },
    {
      "cell_type": "code",
      "source": [
        "columns_to_check = [col for col in dfAll.columns if col != '폭염영향예보(단계)']\n",
        "filtered_df = dfAll.dropna(subset=columns_to_check)\n",
        "\n",
        "filtered_df.count()"
      ],
      "metadata": {
        "colab": {
          "base_uri": "https://localhost:8080/"
        },
        "id": "UAcCcbhmKunR",
        "outputId": "458b83ef-97f7-4489-ae1e-085ab7c85640"
      },
      "execution_count": null,
      "outputs": [
        {
          "output_type": "execute_result",
          "data": {
            "text/plain": [
              "27335"
            ]
          },
          "metadata": {},
          "execution_count": 5
        }
      ]
    },
    {
      "cell_type": "code",
      "source": [
        "import pyspark.sql.functions as F\n",
        "\n",
        "heatOX = filtered_df.groupBy(filtered_df['폭염여부(O/X)'])\\\n",
        "    .agg(\n",
        "        F.count(F.lit(1)).alias(\"heatwave_count\"),\n",
        "        F.min(filtered_df[\"최고체감온도(°C)\"]).alias(\"minTmp\"),\n",
        "        F.avg(filtered_df[\"최고체감온도(°C)\"]).alias(\"avgTmp\"),\n",
        "        F.max(filtered_df[\"최고체감온도(°C)\"]).alias(\"maxTmp\")\n",
        "    )\n",
        "heatOX.show()\n",
        "\n",
        "heatWarningOX = filtered_df.groupBy(filtered_df['폭염특보(O/X)'])\\\n",
        "    .agg(\n",
        "        F.count(F.lit(1)).alias(\"heatWarning_count\"),\n",
        "        F.min(filtered_df[\"최고체감온도(°C)\"]).alias(\"minTmp\"),\n",
        "        F.avg(filtered_df[\"최고체감온도(°C)\"]).alias(\"avgTmp\"),\n",
        "        F.max(filtered_df[\"최고체감온도(°C)\"]).alias(\"maxTmp\")\n",
        "    )\n",
        "heatWarningOX.show()\n",
        "heatImpact = filtered_df.groupBy(filtered_df['폭염영향예보(단계)'])\\\n",
        "    .agg(\n",
        "        F.count(F.lit(1)).alias(\"heatwaveImpact_count\"),\n",
        "        F.min(filtered_df[\"최고체감온도(°C)\"]).alias(\"minTmp\"),\n",
        "        F.avg(filtered_df[\"최고체감온도(°C)\"]).alias(\"avgTmp\"),\n",
        "        F.max(filtered_df[\"최고체감온도(°C)\"]).alias(\"maxTmp\")\n",
        "    )\n",
        "heatImpact.show()\n",
        "UVLevel = filtered_df.groupBy(filtered_df['자외선지수(단계)'])\\\n",
        "    .agg(\n",
        "        F.count(F.lit(1)).alias(\"UVlevel_count\"),\n",
        "        F.max(filtered_df[\"평균기온(°C)\"]).alias(\"maxTmp\"),\n",
        "        F.avg(filtered_df[\"평균기온(°C)\"]).alias(\"avgTmp\"),\n",
        "        F.min(filtered_df[\"평균기온(°C)\"]).alias(\"minTmp\")\n",
        "    )\n",
        "UVLevel.show()"
      ],
      "metadata": {
        "colab": {
          "base_uri": "https://localhost:8080/"
        },
        "id": "hV_-DWV7S39r",
        "outputId": "dbdc6082-a7d0-4117-a05a-8fbcd573e806"
      },
      "execution_count": null,
      "outputs": [
        {
          "output_type": "stream",
          "name": "stdout",
          "text": [
            "+-------------+--------------+------+------------------+------+\n",
            "|폭염여부(O/X)|heatwave_count|minTmp|            avgTmp|maxTmp|\n",
            "+-------------+--------------+------+------------------+------+\n",
            "|            O|          3302|    33|34.159721380981225|  37.8|\n",
            "|            X|         24033|   1.7|25.538026879707047|   9.9|\n",
            "+-------------+--------------+------+------------------+------+\n",
            "\n",
            "+-------------+-----------------+------+------------------+------+\n",
            "|폭염특보(O/X)|heatWarning_count|minTmp|            avgTmp|maxTmp|\n",
            "+-------------+-----------------+------+------------------+------+\n",
            "|            O|             5625|  25.4|33.105831111111115|  37.8|\n",
            "|            X|            21710|   1.7| 24.88855366190694|   9.9|\n",
            "+-------------+-----------------+------+------------------+------+\n",
            "\n",
            "+------------------+--------------------+------+------------------+------+\n",
            "|폭염영향예보(단계)|heatwaveImpact_count|minTmp|            avgTmp|maxTmp|\n",
            "+------------------+--------------------+------+------------------+------+\n",
            "|                  |               18514|   1.7|23.892459760181477|   9.9|\n",
            "|              경고|                1961|  27.8|  34.1098419173891|  37.8|\n",
            "|              관심|                3509|  22.8|31.084183528070657|  36.2|\n",
            "|              심각|                   9|    34| 35.06666666666667|  36.9|\n",
            "|              주의|                3342|  24.7| 32.29395571514059|  36.1|\n",
            "+------------------+--------------------+------+------------------+------+\n",
            "\n",
            "+----------------+-------------+------+------------------+------+\n",
            "|자외선지수(단계)|UVlevel_count|maxTmp|            avgTmp|minTmp|\n",
            "+----------------+-------------+------+------------------+------+\n",
            "|            낮음|         5741|   9.9|  21.8309179585438|    10|\n",
            "|            높음|         7896|   9.9| 21.31813576494426|    10|\n",
            "|        매우높음|         8638|   9.9|22.576823338735817|  10.1|\n",
            "|            보통|         5056|   9.9|20.837440664556947|    10|\n",
            "|            위험|            4|  24.9|             24.25|  23.2|\n",
            "+----------------+-------------+------+------------------+------+\n",
            "\n"
          ]
        }
      ]
    },
    {
      "cell_type": "code",
      "source": [],
      "metadata": {
        "id": "1ZzaxRjnSVUq"
      },
      "execution_count": null,
      "outputs": []
    }
  ]
}