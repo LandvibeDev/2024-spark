{
  "nbformat": 4,
  "nbformat_minor": 0,
  "metadata": {
    "colab": {
      "provenance": [],
      "authorship_tag": "ABX9TyMYq0rn7AT9c6k/R0auQQXY",
      "include_colab_link": true
    },
    "kernelspec": {
      "name": "python3",
      "display_name": "Python 3"
    },
    "language_info": {
      "name": "python"
    }
  },
  "cells": [
    {
      "cell_type": "markdown",
      "metadata": {
        "id": "view-in-github",
        "colab_type": "text"
      },
      "source": [
        "<a href=\"https://colab.research.google.com/github/io-uty/2024-spark/blob/main/io-uty/movieDB.ipynb\" target=\"_parent\"><img src=\"https://colab.research.google.com/assets/colab-badge.svg\" alt=\"Open In Colab\"/></a>"
      ]
    },
    {
      "cell_type": "code",
      "execution_count": 1,
      "metadata": {
        "id": "JXdGfAJzi0aL"
      },
      "outputs": [],
      "source": [
        "from collections import Counter"
      ]
    },
    {
      "cell_type": "code",
      "source": [
        "ls"
      ],
      "metadata": {
        "colab": {
          "base_uri": "https://localhost:8080/"
        },
        "id": "86ihIRr5jBSa",
        "outputId": "6f47d006-5208-479e-d3db-e1f3281d251a"
      },
      "execution_count": 2,
      "outputs": [
        {
          "output_type": "stream",
          "name": "stdout",
          "text": [
            "\u001b[0m\u001b[01;34msample_data\u001b[0m/\n"
          ]
        }
      ]
    },
    {
      "cell_type": "code",
      "source": [
        "pwd"
      ],
      "metadata": {
        "colab": {
          "base_uri": "https://localhost:8080/",
          "height": 36
        },
        "id": "L3MMQ0D9jB--",
        "outputId": "d41a8ed9-1c67-41b3-baff-f1019cd810c8"
      },
      "execution_count": 3,
      "outputs": [
        {
          "output_type": "execute_result",
          "data": {
            "text/plain": [
              "'/content'"
            ],
            "application/vnd.google.colaboratory.intrinsic+json": {
              "type": "string"
            }
          },
          "metadata": {},
          "execution_count": 3
        }
      ]
    },
    {
      "cell_type": "code",
      "source": [
        "!apt-get install openjdk-8-jdk-headless -qq > /dev/null\n",
        "!wget -q http://archive.apache.org/dist/spark/spark-3.5.1/spark-3.5.1-bin-hadoop3.tgz\n",
        "!tar xf spark-3.5.1-bin-hadoop3.tgz\n",
        "!pip install -q findspark"
      ],
      "metadata": {
        "id": "KvjXHnItjD8n"
      },
      "execution_count": 4,
      "outputs": []
    },
    {
      "cell_type": "code",
      "source": [
        "import os\n",
        "os.environ[\"JAVA_HOME\"] = \"/usr/lib/jvm/java-8-openjdk-amd64\"\n",
        "os.environ[\"SPARK_HOME\"] = \"/content/spark-3.5.1-bin-hadoop3\""
      ],
      "metadata": {
        "id": "s2cY9e9_jFvN"
      },
      "execution_count": 5,
      "outputs": []
    },
    {
      "cell_type": "code",
      "source": [
        "import findspark\n",
        "findspark.init()\n",
        "from pyspark.sql import SparkSession\n",
        "spark = SparkSession.builder.master(\"local[*]\").getOrCreate()\n",
        "spark.conf.set(\"spark.sql.repl.eagerEval.enabled\", True) # Property used to format output tables better\n",
        "spark"
      ],
      "metadata": {
        "colab": {
          "base_uri": "https://localhost:8080/",
          "height": 221
        },
        "id": "uvlzkfTcjHiD",
        "outputId": "e0654258-f6cc-4aa5-80aa-eb43ed811965"
      },
      "execution_count": 6,
      "outputs": [
        {
          "output_type": "execute_result",
          "data": {
            "text/plain": [
              "<pyspark.sql.session.SparkSession at 0x7e74d036a680>"
            ],
            "text/html": [
              "\n",
              "            <div>\n",
              "                <p><b>SparkSession - in-memory</b></p>\n",
              "                \n",
              "        <div>\n",
              "            <p><b>SparkContext</b></p>\n",
              "\n",
              "            <p><a href=\"http://01eae037bb9d:4040\">Spark UI</a></p>\n",
              "\n",
              "            <dl>\n",
              "              <dt>Version</dt>\n",
              "                <dd><code>v3.5.1</code></dd>\n",
              "              <dt>Master</dt>\n",
              "                <dd><code>local[*]</code></dd>\n",
              "              <dt>AppName</dt>\n",
              "                <dd><code>pyspark-shell</code></dd>\n",
              "            </dl>\n",
              "        </div>\n",
              "        \n",
              "            </div>\n",
              "        "
            ]
          },
          "metadata": {},
          "execution_count": 6
        }
      ]
    },
    {
      "cell_type": "code",
      "source": [
        "dfUser = spark.read.csv('user.csv', header = True, sep = \",\")\n",
        "dfRatings = spark.read.csv('ratings.csv', header = True, sep = \",\")\n",
        "dfMovie = spark.read.csv('movie.csv', header=True, sep=\",\")\n",
        "dfMovieGenres = spark.read.csv('movie_genres.csv', header = True, sep = \",\")\\\n",
        "        .dropDuplicates(['movieId', 'genre'])\n",
        "dfMovieGenres.show()"
      ],
      "metadata": {
        "colab": {
          "base_uri": "https://localhost:8080/"
        },
        "id": "pYmA7KoJkA2z",
        "outputId": "e3752397-a33a-48b5-9f69-1355ed63d588"
      },
      "execution_count": 48,
      "outputs": [
        {
          "output_type": "stream",
          "name": "stdout",
          "text": [
            "+--------+-------+----------+\n",
            "|mgenreId|movieId|     genre|\n",
            "+--------+-------+----------+\n",
            "|     389|      1| Animation|\n",
            "|     431|      1|Children's|\n",
            "|     553|      1|    Comedy|\n",
            "|    1223|     10|     Drama|\n",
            "|    2796|     10|       War|\n",
            "|    1070|    100|     Crime|\n",
            "|    1264|    100|     Drama|\n",
            "|    2568|    100|  Thriller|\n",
            "|     855|   1000|    Comedy|\n",
            "|    2887|   1000|   Western|\n",
            "|     856|   1001|    Comedy|\n",
            "|     857|   1002|    Comedy|\n",
            "|     519|   1003|Children's|\n",
            "|     858|   1003|    Comedy|\n",
            "|    2183|   1003|   Mystery|\n",
            "|    1602|   1004|     Drama|\n",
            "|    2888|   1004|   Western|\n",
            "|    1603|   1005|     Drama|\n",
            "|    1604|   1006|     Drama|\n",
            "|    2530|   1006|    Sci-Fi|\n",
            "+--------+-------+----------+\n",
            "only showing top 20 rows\n",
            "\n"
          ]
        }
      ]
    },
    {
      "cell_type": "markdown",
      "source": [
        "# **분석1: 특정 사용자 그룹의 영화 선호도 분석**\n",
        "\n"
      ],
      "metadata": {
        "id": "m6eUl0esxy8l"
      }
    },
    {
      "cell_type": "code",
      "source": [
        "from pyspark.sql.functions import col\n",
        "FemaleUsers=dfUser.filter(col('gender') == 'F')\\\n",
        "        .drop('occupation')\\\n",
        "        .drop('zip code')\\\n",
        "        .filter(col('age')>=20)\\\n",
        "        .filter(col('age')<=30)\\\n",
        "        .withColumnRenamed('user id', 'userId')\n",
        "FemaleUsers.show()"
      ],
      "metadata": {
        "colab": {
          "base_uri": "https://localhost:8080/"
        },
        "id": "RISw8L8gkTPG",
        "outputId": "82a20989-ad04-4518-d629-cff3ba30ee9b"
      },
      "execution_count": 49,
      "outputs": [
        {
          "output_type": "stream",
          "name": "stdout",
          "text": [
            "+------+---+------+\n",
            "|userId|age|gender|\n",
            "+------+---+------+\n",
            "|    12| 28|     F|\n",
            "|    23| 30|     F|\n",
            "|    24| 21|     F|\n",
            "|    32| 28|     F|\n",
            "|    35| 20|     F|\n",
            "|    38| 28|     F|\n",
            "|    43| 29|     F|\n",
            "|    46| 27|     F|\n",
            "|    49| 23|     F|\n",
            "|    62| 27|     F|\n",
            "|    96| 25|     F|\n",
            "|   126| 28|     F|\n",
            "|   128| 24|     F|\n",
            "|   140| 30|     F|\n",
            "|   150| 20|     F|\n",
            "|   159| 23|     F|\n",
            "|   165| 20|     F|\n",
            "|   174| 30|     F|\n",
            "|   175| 26|     F|\n",
            "|   180| 22|     F|\n",
            "+------+---+------+\n",
            "only showing top 20 rows\n",
            "\n"
          ]
        }
      ]
    },
    {
      "cell_type": "code",
      "source": [
        "userRating=FemaleUsers.join(dfRatings, FemaleUsers.userId == dfRatings.userId, 'inner')\\\n",
        "        .select(FemaleUsers['userId'],dfRatings['movieId'],dfRatings['rating'])\\\n",
        "        .drop('userId')\n",
        "# Perform a join operation to bring the 'genre' column into the 'userRating' DataFrame\n",
        "userRatingWithGenre = userRating.join(dfMovieGenres, userRating.movieId == dfMovieGenres.movieId, 'inner') \\\n",
        "    .select(userRating['movieId'], dfMovieGenres['genre'], userRating['rating'])\\\n",
        "    .drop('movieId')\n",
        "\n",
        "userRatingWithGenre.show()"
      ],
      "metadata": {
        "colab": {
          "base_uri": "https://localhost:8080/"
        },
        "id": "TGGhcxrck3tL",
        "outputId": "722d771f-2ef5-47ee-d2e8-45a8b75f2528"
      },
      "execution_count": 77,
      "outputs": [
        {
          "output_type": "stream",
          "name": "stdout",
          "text": [
            "+----------+------+\n",
            "|     genre|rating|\n",
            "+----------+------+\n",
            "|Children's|     5|\n",
            "| Adventure|     5|\n",
            "|   Romance|     5|\n",
            "|    Comedy|     2|\n",
            "| Adventure|     2|\n",
            "|    Action|     2|\n",
            "|    Sci-Fi|     2|\n",
            "| Animation|     5|\n",
            "|    Comedy|     5|\n",
            "|Children's|     5|\n",
            "|   Musical|     5|\n",
            "|       War|     2|\n",
            "|     Drama|     2|\n",
            "|    Action|     4|\n",
            "|   Romance|     4|\n",
            "|       War|     4|\n",
            "| Adventure|     4|\n",
            "|     Drama|     3|\n",
            "|    Comedy|     3|\n",
            "|    Comedy|     3|\n",
            "+----------+------+\n",
            "only showing top 20 rows\n",
            "\n"
          ]
        }
      ]
    },
    {
      "cell_type": "code",
      "source": [
        "count = dfMovieGenres.groupBy('genre').count()\n",
        "movierate=userRatingWithGenre\n",
        "genrecount = movierate.groupBy('genre','rating').count()\\\n",
        "      .orderBy('genre','rating')\n"
      ],
      "metadata": {
        "id": "0JUbtYY1oYfz"
      },
      "execution_count": 101,
      "outputs": []
    },
    {
      "cell_type": "code",
      "source": [
        "from pyspark.sql.functions import col, sum as _sum\n",
        "movieCount = genrecount.groupBy('genre').agg(_sum('count').alias('movieCount'))\n",
        "\n",
        "genrecount = genrecount.withColumn('ratings', col('rating')*col('count'))\\\n",
        "        .join(movieCount, 'genre', 'inner')\n",
        "ratingCount = genrecount.groupBy('genre').agg(_sum('ratings').alias('ratingCount'))\n",
        "genrecount = genrecount.join(ratingCount, 'genre', 'inner')\\\n",
        "        .withColumn('averageRating', col('ratingCount')/col('movieCount'))"
      ],
      "metadata": {
        "id": "zCURuUh7o2O7"
      },
      "execution_count": 102,
      "outputs": []
    },
    {
      "cell_type": "code",
      "source": [
        "genrecount = genrecount.drop('rating')\\\n",
        "        .drop('count')\\\n",
        "        .drop('ratings')\\\n",
        "        .drop('ratingCount')\\\n",
        "        .dropDuplicates(['genre'])\\\n",
        "        .orderBy('averageRating', ascending = False)"
      ],
      "metadata": {
        "id": "p1rdWg6DspS3"
      },
      "execution_count": 104,
      "outputs": []
    },
    {
      "cell_type": "markdown",
      "source": [],
      "metadata": {
        "id": "Dx8V4r9qvCnh"
      }
    },
    {
      "cell_type": "code",
      "source": [
        "genrecount.show()"
      ],
      "metadata": {
        "colab": {
          "base_uri": "https://localhost:8080/"
        },
        "id": "eyGyFSXru9R6",
        "outputId": "7214ad33-8d03-4a84-baf3-49b51d9b0b0c"
      },
      "execution_count": 105,
      "outputs": [
        {
          "output_type": "stream",
          "name": "stdout",
          "text": [
            "+-----------+----------+------------------+\n",
            "|      genre|movieCount|     averageRating|\n",
            "+-----------+----------+------------------+\n",
            "|        War|       850|3.6941176470588237|\n",
            "|    Romance|      2439|3.5953259532595325|\n",
            "|    Musical|       638|3.5940438871473352|\n",
            "|  Film-Noir|       134| 3.582089552238806|\n",
            "|      Drama|      4392| 3.566256830601093|\n",
            "|  Animation|       497| 3.545271629778672|\n",
            "|      Crime|       776| 3.506443298969072|\n",
            "|Documentary|        69| 3.463768115942029|\n",
            "|    Mystery|       489|3.4519427402862988|\n",
            "|  Adventure|      1402| 3.412981455064194|\n",
            "|   Thriller|      2232|3.4094982078853047|\n",
            "|     Sci-Fi|      1204|3.3903654485049834|\n",
            "| Children's|      1019| 3.379784102060844|\n",
            "|     Action|      2452| 3.372756933115824|\n",
            "|     Comedy|      3523|3.3624751632131704|\n",
            "|    Western|       156| 3.217948717948718|\n",
            "|     Horror|       571|3.1453590192644483|\n",
            "|    Fantasy|       165|3.0424242424242425|\n",
            "|    unknown|         1|               3.0|\n",
            "+-----------+----------+------------------+\n",
            "\n"
          ]
        }
      ]
    },
    {
      "cell_type": "markdown",
      "source": [
        "# **분석2: 고평점 영화와 저평점 영화의 특징 비교**\n"
      ],
      "metadata": {
        "id": "g9eVIqf0xXKz"
      }
    },
    {
      "cell_type": "code",
      "source": [
        "from pyspark.sql.functions import *\n",
        "dfRatings = spark.read.csv('ratings.csv', header = True, sep = \",\")\n",
        "dfMovieGenres = spark.read.csv('movie_genres.csv', header = True, sep = \",\")\\\n",
        "        .dropDuplicates(['movieId', 'genre'])\n",
        "\n",
        "movieRatings = dfRatings.groupBy('movieId')\\\n",
        "        .agg(avg(\"rating\").alias(\"avgRating\"))\n",
        "\n",
        "movieRatings.join(dfMovieGenres, movieRatings.movieId == dfMovieGenres.movieId)\\\n",
        "        .groupBy('genre')\\\n",
        "        .agg(sum(when(col('avgRating')>=4.0,1).otherwise(0)).alias('highRatedCount'),\n",
        "                 sum(when(col('avgRating')<2.0,1).otherwise(0)).alias('lowRatedCount'))\\\n",
        "        .orderBy(col('highRatedCount'), ascending = False)\\\n",
        "        .orderBy(col('lowRatedCount'), ascending = False)"
      ],
      "metadata": {
        "colab": {
          "base_uri": "https://localhost:8080/",
          "height": 488
        },
        "id": "k8jO5SWIx956",
        "outputId": "3ed6b707-7b7b-410c-f05d-7c064e580b3d"
      },
      "execution_count": 136,
      "outputs": [
        {
          "output_type": "execute_result",
          "data": {
            "text/plain": [
              "+-----------+--------------+-------------+\n",
              "|      genre|highRatedCount|lowRatedCount|\n",
              "+-----------+--------------+-------------+\n",
              "|      Drama|            84|           49|\n",
              "|     Comedy|            36|           37|\n",
              "|     Action|            16|           18|\n",
              "|   Thriller|            33|           13|\n",
              "|     Horror|             3|           13|\n",
              "|    Romance|            27|            9|\n",
              "| Children's|             2|            8|\n",
              "|Documentary|            12|            6|\n",
              "|     Sci-Fi|             8|            5|\n",
              "|  Adventure|            15|            4|\n",
              "|    Fantasy|             1|            3|\n",
              "|      Crime|            17|            2|\n",
              "|    Mystery|            14|            2|\n",
              "|  Animation|             5|            2|\n",
              "|    Western|             2|            2|\n",
              "|    unknown|             0|            1|\n",
              "|        War|            20|            1|\n",
              "|    Musical|             3|            1|\n",
              "|  Film-Noir|            12|            1|\n",
              "+-----------+--------------+-------------+"
            ],
            "text/html": [
              "<table border='1'>\n",
              "<tr><th>genre</th><th>highRatedCount</th><th>lowRatedCount</th></tr>\n",
              "<tr><td>Drama</td><td>84</td><td>49</td></tr>\n",
              "<tr><td>Comedy</td><td>36</td><td>37</td></tr>\n",
              "<tr><td>Action</td><td>16</td><td>18</td></tr>\n",
              "<tr><td>Thriller</td><td>33</td><td>13</td></tr>\n",
              "<tr><td>Horror</td><td>3</td><td>13</td></tr>\n",
              "<tr><td>Romance</td><td>27</td><td>9</td></tr>\n",
              "<tr><td>Children's</td><td>2</td><td>8</td></tr>\n",
              "<tr><td>Documentary</td><td>12</td><td>6</td></tr>\n",
              "<tr><td>Sci-Fi</td><td>8</td><td>5</td></tr>\n",
              "<tr><td>Adventure</td><td>15</td><td>4</td></tr>\n",
              "<tr><td>Fantasy</td><td>1</td><td>3</td></tr>\n",
              "<tr><td>Crime</td><td>17</td><td>2</td></tr>\n",
              "<tr><td>Mystery</td><td>14</td><td>2</td></tr>\n",
              "<tr><td>Animation</td><td>5</td><td>2</td></tr>\n",
              "<tr><td>Western</td><td>2</td><td>2</td></tr>\n",
              "<tr><td>unknown</td><td>0</td><td>1</td></tr>\n",
              "<tr><td>War</td><td>20</td><td>1</td></tr>\n",
              "<tr><td>Musical</td><td>3</td><td>1</td></tr>\n",
              "<tr><td>Film-Noir</td><td>12</td><td>1</td></tr>\n",
              "</table>\n"
            ]
          },
          "metadata": {},
          "execution_count": 136
        }
      ]
    },
    {
      "cell_type": "markdown",
      "source": [
        "# **분석3: 사용자 활동 분석**"
      ],
      "metadata": {
        "id": "v3YLQnDN7d4V"
      }
    },
    {
      "cell_type": "markdown",
      "source": [],
      "metadata": {
        "id": "ikUmThtS7ojr"
      }
    },
    {
      "cell_type": "code",
      "source": [
        "dfRatings = spark.read.csv('ratings.csv', header = True, sep = \",\")\n",
        "ratingCount = dfRatings.groupBy('userId').agg(sum(when(col('rating')>=1,1).otherwise(0)).alias('ratingCount'))\n",
        "dfRatings.groupBy('userId')\\\n",
        "  .agg(avg('rating').alias('averageRating'))\\\n",
        "  .join(ratingCount, 'userId', 'inner')\\\n",
        "  .orderBy('ratingCount', ascending = False)\\\n",
        "  .show()"
      ],
      "metadata": {
        "colab": {
          "base_uri": "https://localhost:8080/"
        },
        "id": "yHljrrR8797P",
        "outputId": "ea6b073a-a20b-4feb-d1c6-0117d653076e"
      },
      "execution_count": 168,
      "outputs": [
        {
          "output_type": "stream",
          "name": "stdout",
          "text": [
            "+------+------------------+-----------+\n",
            "|userId|     averageRating|ratingCount|\n",
            "+------+------------------+-----------+\n",
            "|   405|1.8344640434192674|        737|\n",
            "|   655| 2.908029197080292|        685|\n",
            "|    13|  3.09748427672956|        636|\n",
            "|   450|3.8648148148148147|        540|\n",
            "|   276| 3.465250965250965|        518|\n",
            "|   416| 3.845841784989858|        493|\n",
            "|   537|2.8653061224489798|        490|\n",
            "|   303| 3.365702479338843|        484|\n",
            "|   234| 3.122916666666667|        480|\n",
            "|   393|3.3370535714285716|        448|\n",
            "|   181|1.4919540229885058|        435|\n",
            "|   279|3.2672811059907834|        434|\n",
            "|   429| 3.393719806763285|        414|\n",
            "|   846| 3.740740740740741|        405|\n",
            "|     7| 3.965260545905707|        403|\n",
            "|    94|            3.6575|        400|\n",
            "|   682| 3.137844611528822|        399|\n",
            "|   308|3.7581863979848866|        397|\n",
            "|   293|3.0309278350515463|        388|\n",
            "|    92|3.2448453608247423|        388|\n",
            "+------+------------------+-----------+\n",
            "only showing top 20 rows\n",
            "\n"
          ]
        }
      ]
    },
    {
      "cell_type": "markdown",
      "source": [
        "# **분석4: 특정 장르의 영화들에 대한 평점과 사용자 연령대 분석**"
      ],
      "metadata": {
        "id": "zW7gj8C7Ahbr"
      }
    },
    {
      "cell_type": "code",
      "source": [
        "dfRatings = spark.read.csv('ratings.csv', header = True, sep = \",\")\n",
        "dfUser = spark.read.csv('user.csv', header = True, sep = \",\")\n",
        "dfMovieGenres = spark.read.csv('movie_genres.csv', header = True, sep = \",\")\\\n",
        "        .dropDuplicates(['movieId', 'genre'])\\\n",
        "        .filter(col('genre')=='Action')"
      ],
      "metadata": {
        "id": "oP32Mu-yAk4g"
      },
      "execution_count": 170,
      "outputs": []
    },
    {
      "cell_type": "code",
      "source": [
        "from pyspark.sql.functions import avg\n",
        "dfUser = dfUser.withColumnRenamed('user id', 'userId')\n",
        "\n",
        "dfUser = dfUser.drop('gender')\\\n",
        "        .drop('occupation')\\\n",
        "        .drop('zip code')\\\n",
        "        .join(dfRatings, dfUser.userId == dfRatings.userId)\\\n",
        "        .select(dfUser['userId'], dfUser['age'], dfRatings['movieId'], dfRatings['rating'])\\\n",
        "        .drop('userId')\\\n",
        "        .join(dfMovieGenres, dfRatings.movieId == dfMovieGenres.movieId, 'inner')\\\n",
        "        .select(dfUser['age'], dfMovieGenres['genre'], dfRatings['rating'])\\\n",
        "        .drop('movieId')\\\n",
        "        .drop('genre')\\\n",
        "\n",
        "dfUser.groupBy('age')\\\n",
        "        .agg(avg('rating').alias('averageRating'))\\\n",
        "        .orderBy('age', ascending = True)\\\n",
        "        .show()"
      ],
      "metadata": {
        "colab": {
          "base_uri": "https://localhost:8080/"
        },
        "id": "mq9XusKQA91E",
        "outputId": "7982c02f-5552-47eb-9467-2932d02d7ac3"
      },
      "execution_count": 180,
      "outputs": [
        {
          "output_type": "stream",
          "name": "stdout",
          "text": [
            "+---+------------------+\n",
            "|age|     averageRating|\n",
            "+---+------------------+\n",
            "| 10|               4.0|\n",
            "| 11| 3.076923076923077|\n",
            "| 13|3.4934210526315788|\n",
            "| 14| 3.593220338983051|\n",
            "| 15|               3.5|\n",
            "| 16|3.5217391304347827|\n",
            "| 17| 3.651006711409396|\n",
            "| 18|3.7417677642980935|\n",
            "| 19| 3.307101727447217|\n",
            "| 20| 3.696747967479675|\n",
            "| 21|3.4532760472610096|\n",
            "| 22|3.2726432532347505|\n",
            "| 23| 3.193243243243243|\n",
            "| 24|3.4625199362041466|\n",
            "| 25|3.5377952755905513|\n",
            "| 26| 3.243414120126449|\n",
            "| 27|3.4154676258992804|\n",
            "| 28|3.4402907580477673|\n",
            "| 29| 3.422773393461105|\n",
            "| 30| 3.348643006263048|\n",
            "+---+------------------+\n",
            "only showing top 20 rows\n",
            "\n"
          ]
        }
      ]
    }
  ]
}