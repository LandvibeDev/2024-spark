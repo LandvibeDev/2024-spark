{
  "cells": [
    {
      "cell_type": "markdown",
      "metadata": {
        "id": "view-in-github",
        "colab_type": "text"
      },
      "source": [
        "<a href=\"https://colab.research.google.com/github/io-uty/2024-spark/blob/main/io-uty/MovieDB.ipynb\" target=\"_parent\"><img src=\"https://colab.research.google.com/assets/colab-badge.svg\" alt=\"Open In Colab\"/></a>"
      ]
    },
    {
      "cell_type": "code",
      "execution_count": 36,
      "metadata": {
        "id": "99lnUgSnopy1"
      },
      "outputs": [],
      "source": [
        "from collections import Counter"
      ]
    },
    {
      "cell_type": "code",
      "execution_count": 37,
      "metadata": {
        "colab": {
          "base_uri": "https://localhost:8080/"
        },
        "id": "YJd_RN1Ro722",
        "outputId": "d58c5e31-b9d9-4472-cef8-b9328d894b16"
      },
      "outputs": [
        {
          "output_type": "stream",
          "name": "stdout",
          "text": [
            "movie.csv         ratings.csv   \u001b[0m\u001b[01;34mspark-3.5.1-bin-hadoop3\u001b[0m/     user.csv\n",
            "movie_genres.csv  \u001b[01;34msample_data\u001b[0m/  spark-3.5.1-bin-hadoop3.tgz\n"
          ]
        }
      ],
      "source": [
        "ls"
      ]
    },
    {
      "cell_type": "code",
      "execution_count": 38,
      "metadata": {
        "colab": {
          "base_uri": "https://localhost:8080/",
          "height": 36
        },
        "id": "l8dHl4aBo99L",
        "outputId": "eaf6cb89-d40a-431e-9139-24e6804363c9"
      },
      "outputs": [
        {
          "output_type": "execute_result",
          "data": {
            "text/plain": [
              "'/content'"
            ],
            "application/vnd.google.colaboratory.intrinsic+json": {
              "type": "string"
            }
          },
          "metadata": {},
          "execution_count": 38
        }
      ],
      "source": [
        "pwd"
      ]
    },
    {
      "cell_type": "code",
      "execution_count": 4,
      "metadata": {
        "id": "hISwF840pA2W"
      },
      "outputs": [],
      "source": [
        "!apt-get install openjdk-8-jdk-headless -qq > /dev/null\n",
        "!wget -q http://archive.apache.org/dist/spark/spark-3.5.1/spark-3.5.1-bin-hadoop3.tgz\n",
        "!tar xf spark-3.5.1-bin-hadoop3.tgz\n",
        "!pip install -q findspark"
      ]
    },
    {
      "cell_type": "code",
      "execution_count": 39,
      "metadata": {
        "id": "aas_LzW0pfbs"
      },
      "outputs": [],
      "source": [
        "import os\n",
        "os.environ[\"JAVA_HOME\"] = \"/usr/lib/jvm/java-8-openjdk-amd64\"\n",
        "os.environ[\"SPARK_HOME\"] = \"/content/spark-3.5.1-bin-hadoop3\""
      ]
    },
    {
      "cell_type": "code",
      "execution_count": 8,
      "metadata": {
        "colab": {
          "base_uri": "https://localhost:8080/"
        },
        "id": "XPYL9v9YphiC",
        "outputId": "e9cac6c6-577b-4235-965f-f1b72454a0e9"
      },
      "outputs": [
        {
          "output_type": "stream",
          "name": "stdout",
          "text": [
            "sample_data  spark-3.5.1-bin-hadoop3  spark-3.5.1-bin-hadoop3.tgz\n"
          ]
        }
      ],
      "source": [
        "!ls"
      ]
    },
    {
      "cell_type": "code",
      "execution_count": 40,
      "metadata": {
        "colab": {
          "base_uri": "https://localhost:8080/",
          "height": 221
        },
        "id": "4H6ACvnvplP0",
        "outputId": "bd2faf85-4de4-48f1-86e3-8d4ded9b8589"
      },
      "outputs": [
        {
          "output_type": "execute_result",
          "data": {
            "text/plain": [
              "<pyspark.sql.session.SparkSession at 0x7869c8336500>"
            ],
            "text/html": [
              "\n",
              "            <div>\n",
              "                <p><b>SparkSession - in-memory</b></p>\n",
              "                \n",
              "        <div>\n",
              "            <p><b>SparkContext</b></p>\n",
              "\n",
              "            <p><a href=\"http://67a4e75159a4:4040\">Spark UI</a></p>\n",
              "\n",
              "            <dl>\n",
              "              <dt>Version</dt>\n",
              "                <dd><code>v3.5.1</code></dd>\n",
              "              <dt>Master</dt>\n",
              "                <dd><code>local[*]</code></dd>\n",
              "              <dt>AppName</dt>\n",
              "                <dd><code>pyspark-shell</code></dd>\n",
              "            </dl>\n",
              "        </div>\n",
              "        \n",
              "            </div>\n",
              "        "
            ]
          },
          "metadata": {},
          "execution_count": 40
        }
      ],
      "source": [
        "import findspark\n",
        "findspark.init()\n",
        "from pyspark.sql import SparkSession\n",
        "spark = SparkSession.builder.master(\"local[*]\").getOrCreate()\n",
        "spark.conf.set(\"spark.sql.repl.eagerEval.enabled\", True) # Property used to format output tables better\n",
        "spark"
      ]
    },
    {
      "cell_type": "code",
      "execution_count": 41,
      "metadata": {
        "colab": {
          "base_uri": "https://localhost:8080/"
        },
        "id": "LpdaISaIp0Je",
        "outputId": "33582237-0632-46d0-d0b4-d3fd16781d9b"
      },
      "outputs": [
        {
          "output_type": "stream",
          "name": "stdout",
          "text": [
            "--2024-07-17 05:35:39--  https://jacobceles.github.io/knowledge_repo/colab_and_pyspark/cars.csv\n",
            "Resolving jacobceles.github.io (jacobceles.github.io)... 185.199.111.153, 185.199.108.153, 185.199.109.153, ...\n",
            "Connecting to jacobceles.github.io (jacobceles.github.io)|185.199.111.153|:443... connected.\n",
            "HTTP request sent, awaiting response... 301 Moved Permanently\n",
            "Location: https://jacobcelestine.com/knowledge_repo/colab_and_pyspark/cars.csv [following]\n",
            "--2024-07-17 05:35:40--  https://jacobcelestine.com/knowledge_repo/colab_and_pyspark/cars.csv\n",
            "Resolving jacobcelestine.com (jacobcelestine.com)... 185.199.108.153, 185.199.109.153, 185.199.110.153, ...\n",
            "Connecting to jacobcelestine.com (jacobcelestine.com)|185.199.108.153|:443... connected.\n",
            "HTTP request sent, awaiting response... 200 OK\n",
            "Length: 22608 (22K) [text/csv]\n",
            "Saving to: ‘cars.csv’\n",
            "\n",
            "cars.csv            100%[===================>]  22.08K  --.-KB/s    in 0.005s  \n",
            "\n",
            "2024-07-17 05:35:40 (3.98 MB/s) - ‘cars.csv’ saved [22608/22608]\n",
            "\n"
          ]
        }
      ],
      "source": [
        "# Downloading and preprocessing Cars Data downloaded origianlly from https://perso.telecom-paristech.fr/eagan/class/igr204/datasets\n",
        "!wget https://jacobceles.github.io/knowledge_repo/colab_and_pyspark/cars.csv"
      ]
    },
    {
      "cell_type": "code",
      "execution_count": 42,
      "metadata": {
        "colab": {
          "base_uri": "https://localhost:8080/"
        },
        "id": "YkBxS_vo_9FN",
        "outputId": "22ce5f50-00de-42c2-bfd2-1f7156de11d3"
      },
      "outputs": [
        {
          "output_type": "stream",
          "name": "stdout",
          "text": [
            "cars.csv   movie_genres.csv  sample_data\t      spark-3.5.1-bin-hadoop3.tgz\n",
            "movie.csv  ratings.csv\t     spark-3.5.1-bin-hadoop3  user.csv\n"
          ]
        }
      ],
      "source": [
        "!ls"
      ]
    },
    {
      "cell_type": "code",
      "execution_count": 43,
      "metadata": {
        "colab": {
          "base_uri": "https://localhost:8080/"
        },
        "id": "MkhywMw1AFZO",
        "outputId": "cb2abc1f-ef15-4157-8e04-9357af97cc53"
      },
      "outputs": [
        {
          "output_type": "stream",
          "name": "stdout",
          "text": [
            "--2024-07-17 05:35:43--  http://movie.csv/\n",
            "Resolving movie.csv (movie.csv)... failed: Name or service not known.\n",
            "wget: unable to resolve host address ‘movie.csv’\n"
          ]
        }
      ],
      "source": [
        "!wget movie.csv"
      ]
    },
    {
      "cell_type": "code",
      "execution_count": 44,
      "metadata": {
        "colab": {
          "base_uri": "https://localhost:8080/"
        },
        "id": "hQ3zmGACLKlN",
        "outputId": "79219a99-4093-4560-c2fd-96a1002c26f0"
      },
      "outputs": [
        {
          "output_type": "stream",
          "name": "stdout",
          "text": [
            "--2024-07-17 05:35:45--  https://jacobceles.github.io/knowledge_repo/colab_and_pyspark/movie.csv\n",
            "Resolving jacobceles.github.io (jacobceles.github.io)... 185.199.111.153, 185.199.108.153, 185.199.109.153, ...\n",
            "Connecting to jacobceles.github.io (jacobceles.github.io)|185.199.111.153|:443... connected.\n",
            "HTTP request sent, awaiting response... 301 Moved Permanently\n",
            "Location: https://jacobcelestine.com/knowledge_repo/colab_and_pyspark/movie.csv [following]\n",
            "--2024-07-17 05:35:45--  https://jacobcelestine.com/knowledge_repo/colab_and_pyspark/movie.csv\n",
            "Resolving jacobcelestine.com (jacobcelestine.com)... 185.199.108.153, 185.199.109.153, 185.199.110.153, ...\n",
            "Connecting to jacobcelestine.com (jacobcelestine.com)|185.199.108.153|:443... connected.\n",
            "HTTP request sent, awaiting response... 404 Not Found\n",
            "2024-07-17 05:35:45 ERROR 404: Not Found.\n",
            "\n"
          ]
        }
      ],
      "source": [
        "!wget https://jacobceles.github.io/knowledge_repo/colab_and_pyspark/movie.csv"
      ]
    },
    {
      "cell_type": "code",
      "execution_count": 45,
      "metadata": {
        "colab": {
          "base_uri": "https://localhost:8080/"
        },
        "id": "NY3IjO7RBPI0",
        "outputId": "eee86c02-1652-40ef-a773-c0af862210c5"
      },
      "outputs": [
        {
          "output_type": "stream",
          "name": "stdout",
          "text": [
            "/content/movie.csv: Scheme missing.\n"
          ]
        }
      ],
      "source": [
        "!wget /content/movie.csv"
      ]
    },
    {
      "cell_type": "code",
      "execution_count": 46,
      "metadata": {
        "colab": {
          "base_uri": "https://localhost:8080/"
        },
        "id": "YLV9YrUaBR7_",
        "outputId": "5f616519-ed0b-4807-d78c-545b6c3ed2ed"
      },
      "outputs": [
        {
          "output_type": "stream",
          "name": "stdout",
          "text": [
            "--2024-07-17 05:35:51--  https://content/movie.csv\n",
            "Resolving content (content)... failed: Name or service not known.\n",
            "wget: unable to resolve host address ‘content’\n"
          ]
        }
      ],
      "source": [
        "!wget https://content/movie.csv"
      ]
    },
    {
      "cell_type": "code",
      "execution_count": 47,
      "metadata": {
        "colab": {
          "base_uri": "https://localhost:8080/"
        },
        "id": "7QbhcziKBhKe",
        "outputId": "a041d5fe-57b9-4a7d-e73e-7d6e0dd4e21e"
      },
      "outputs": [
        {
          "output_type": "stream",
          "name": "stdout",
          "text": [
            "+-------------------------------------------------------------+\n",
            "|movie id,movie title,release date,video release date,IMDb URL|\n",
            "+-------------------------------------------------------------+\n",
            "|                                         1,Toy Story (1995...|\n",
            "|                                         2,GoldenEye (1995...|\n",
            "|                                         3,Four Rooms (199...|\n",
            "|                                         4,Get Shorty (199...|\n",
            "|                                         5,Copycat (1995),...|\n",
            "+-------------------------------------------------------------+\n",
            "only showing top 5 rows\n",
            "\n"
          ]
        }
      ],
      "source": [
        "df = spark.read.csv('movie.csv', header=True, sep=\";\")\n",
        "df.show(5)"
      ]
    },
    {
      "cell_type": "code",
      "execution_count": 48,
      "metadata": {
        "colab": {
          "base_uri": "https://localhost:8080/"
        },
        "id": "KeVel9f1BwDF",
        "outputId": "fe26dba0-99cf-4590-b7d3-8fa902219811"
      },
      "outputs": [
        {
          "output_type": "stream",
          "name": "stdout",
          "text": [
            "cars.csv   movie_genres.csv  sample_data\t      spark-3.5.1-bin-hadoop3.tgz\n",
            "movie.csv  ratings.csv\t     spark-3.5.1-bin-hadoop3  user.csv\n"
          ]
        }
      ],
      "source": [
        "!ls\n"
      ]
    },
    {
      "cell_type": "code",
      "execution_count": 49,
      "metadata": {
        "colab": {
          "base_uri": "https://localhost:8080/"
        },
        "id": "oqIq__8rBx0n",
        "outputId": "850ebd6a-b35d-4b7e-b38c-65dffb19de4b"
      },
      "outputs": [
        {
          "output_type": "stream",
          "name": "stdout",
          "text": [
            "+--------+-----------------+------------+------------------+--------------------+\n",
            "|movie id|      movie title|release date|video release date|            IMDb URL|\n",
            "+--------+-----------------+------------+------------------+--------------------+\n",
            "|       1| Toy Story (1995)|   01-Jan-95|         01-Jan-95|http://us.imdb.co...|\n",
            "|       2| GoldenEye (1995)|   01-Jan-95|         01-Jan-95|http://us.imdb.co...|\n",
            "|       3|Four Rooms (1995)|   01-Jan-95|         01-Jan-95|http://us.imdb.co...|\n",
            "|       4|Get Shorty (1995)|   01-Jan-95|         01-Jan-95|http://us.imdb.co...|\n",
            "|       5|   Copycat (1995)|   01-Jan-95|         01-Jan-95|http://us.imdb.co...|\n",
            "+--------+-----------------+------------+------------------+--------------------+\n",
            "only showing top 5 rows\n",
            "\n"
          ]
        }
      ],
      "source": [
        "df = spark.read.csv('movie.csv', header=True, sep=\",\")\n",
        "df.show(5)"
      ]
    },
    {
      "cell_type": "code",
      "execution_count": 50,
      "metadata": {
        "colab": {
          "base_uri": "https://localhost:8080/"
        },
        "id": "rDZm9_YWCoT6",
        "outputId": "4067554d-e06f-4cf8-d576-189c9cc26935"
      },
      "outputs": [
        {
          "output_type": "stream",
          "name": "stdout",
          "text": [
            "+--------+-------+-------+\n",
            "|mgenreId|movieId|  genre|\n",
            "+--------+-------+-------+\n",
            "|       1|    267|unknown|\n",
            "|       2|   1373|unknown|\n",
            "|       3|      2| Action|\n",
            "|       4|      4| Action|\n",
            "|       5|     17| Action|\n",
            "+--------+-------+-------+\n",
            "only showing top 5 rows\n",
            "\n",
            "+-------+---+------+----------+--------+\n",
            "|user id|age|gender|occupation|zip code|\n",
            "+-------+---+------+----------+--------+\n",
            "|      1| 24|     M|technician|   85711|\n",
            "|      2| 53|     F|     other|   94043|\n",
            "|      3| 23|     M|    writer|   32067|\n",
            "|      4| 24|     M|technician|   43537|\n",
            "|      5| 33|     F|     other|   15213|\n",
            "+-------+---+------+----------+--------+\n",
            "only showing top 5 rows\n",
            "\n",
            "+--------+------+-------+------+----------------+\n",
            "|ratingId|userId|movieId|rating|       timestamp|\n",
            "+--------+------+-------+------+----------------+\n",
            "|       1|   196|    242|     3|1997-12-04 15:55|\n",
            "|       2|   186|    302|     3|1998-04-04 19:22|\n",
            "|       3|    22|    377|     1| 1997-11-07 7:18|\n",
            "|       4|   244|     51|     2| 1997-11-27 5:02|\n",
            "|       5|   166|    346|     1| 1998-02-02 5:33|\n",
            "+--------+------+-------+------+----------------+\n",
            "only showing top 5 rows\n",
            "\n",
            "+--------+-----------------+------------+------------------+--------------------+\n",
            "|movie id|      movie title|release date|video release date|            IMDb URL|\n",
            "+--------+-----------------+------------+------------------+--------------------+\n",
            "|       1| Toy Story (1995)|   01-Jan-95|         01-Jan-95|http://us.imdb.co...|\n",
            "|       2| GoldenEye (1995)|   01-Jan-95|         01-Jan-95|http://us.imdb.co...|\n",
            "|       3|Four Rooms (1995)|   01-Jan-95|         01-Jan-95|http://us.imdb.co...|\n",
            "|       4|Get Shorty (1995)|   01-Jan-95|         01-Jan-95|http://us.imdb.co...|\n",
            "|       5|   Copycat (1995)|   01-Jan-95|         01-Jan-95|http://us.imdb.co...|\n",
            "+--------+-----------------+------------+------------------+--------------------+\n",
            "only showing top 5 rows\n",
            "\n"
          ]
        }
      ],
      "source": [
        "dfUser = spark.read.csv('user.csv', header = True, sep = \",\")\n",
        "dfRatings = spark.read.csv('ratings.csv', header = True, sep = \",\")\n",
        "dfMovie = spark.read.csv('movie.csv', header = True, sep = \",\")\n",
        "dfMovieGenres = spark.read.csv('movie_genres.csv', header = True, sep = \",\")\n",
        "dfMovieGenres.show(5)\n",
        "dfUser.show(5)\n",
        "dfRatings.show(5)\n",
        "dfMovie.show(5)"
      ]
    },
    {
      "cell_type": "code",
      "execution_count": 51,
      "metadata": {
        "colab": {
          "base_uri": "https://localhost:8080/"
        },
        "id": "vDxroHRES8lR",
        "outputId": "1ac6039c-7f14-452f-f5f9-7c08e8acb3b9"
      },
      "outputs": [
        {
          "output_type": "stream",
          "name": "stdout",
          "text": [
            "+--------+-------+----------+\n",
            "|mgenreId|movieId|     genre|\n",
            "+--------+-------+----------+\n",
            "|     389|      1| Animation|\n",
            "|    1223|     10|     Drama|\n",
            "|    1070|    100|     Crime|\n",
            "|     855|   1000|    Comedy|\n",
            "|     856|   1001|    Comedy|\n",
            "|     857|   1002|    Comedy|\n",
            "|     519|   1003|Children's|\n",
            "|    1602|   1004|     Drama|\n",
            "|    1603|   1005|     Drama|\n",
            "|    1604|   1006|     Drama|\n",
            "|     859|   1007|    Comedy|\n",
            "|    1605|   1008|     Drama|\n",
            "|    1606|   1009|     Drama|\n",
            "|      26|    101|    Action|\n",
            "|    1607|   1010|     Drama|\n",
            "|    1122|   1011|     Crime|\n",
            "|     860|   1012|    Comedy|\n",
            "|     191|   1013|    Action|\n",
            "|     861|   1014|    Comedy|\n",
            "|     520|   1015|Children's|\n",
            "+--------+-------+----------+\n",
            "only showing top 20 rows\n",
            "\n"
          ]
        }
      ],
      "source": [
        "dfMovieGenres.dropDuplicates(subset=['movieId']).show()"
      ]
    },
    {
      "cell_type": "code",
      "execution_count": 2,
      "metadata": {
        "id": "dPxquBCCTWcu",
        "colab": {
          "base_uri": "https://localhost:8080/",
          "height": 144
        },
        "outputId": "1f849db9-53fa-4f47-f750-aaffed4442e1"
      },
      "outputs": [
        {
          "output_type": "error",
          "ename": "NameError",
          "evalue": "name 'spark' is not defined",
          "traceback": [
            "\u001b[0;31m---------------------------------------------------------------------------\u001b[0m",
            "\u001b[0;31mNameError\u001b[0m                                 Traceback (most recent call last)",
            "\u001b[0;32m<ipython-input-2-83fbf096929d>\u001b[0m in \u001b[0;36m<cell line: 1>\u001b[0;34m()\u001b[0m\n\u001b[0;32m----> 1\u001b[0;31m \u001b[0mdfMovieGenres\u001b[0m \u001b[0;34m=\u001b[0m \u001b[0mspark\u001b[0m\u001b[0;34m.\u001b[0m\u001b[0mread\u001b[0m\u001b[0;34m.\u001b[0m\u001b[0mcsv\u001b[0m\u001b[0;34m(\u001b[0m\u001b[0;34m'movie_genres.csv'\u001b[0m\u001b[0;34m,\u001b[0m \u001b[0mheader\u001b[0m \u001b[0;34m=\u001b[0m \u001b[0;32mTrue\u001b[0m\u001b[0;34m,\u001b[0m \u001b[0msep\u001b[0m \u001b[0;34m=\u001b[0m \u001b[0;34m\",\"\u001b[0m\u001b[0;34m)\u001b[0m\u001b[0;34m\u001b[0m\u001b[0;34m\u001b[0m\u001b[0m\n\u001b[0m",
            "\u001b[0;31mNameError\u001b[0m: name 'spark' is not defined"
          ]
        }
      ],
      "source": [
        "dfMovieGenres = spark.read.csv('movie_genres.csv', header = True, sep = \",\")\n"
      ]
    },
    {
      "cell_type": "code",
      "execution_count": 53,
      "metadata": {
        "id": "Bl_smvr4Tboc"
      },
      "outputs": [],
      "source": [
        "dfMovieGenres = dfMovieGenres.dropDuplicates(['movieId', 'genre'])"
      ]
    },
    {
      "cell_type": "code",
      "execution_count": 54,
      "metadata": {
        "colab": {
          "base_uri": "https://localhost:8080/"
        },
        "id": "z50g9TbETZh6",
        "outputId": "b92ae977-2e0d-4a50-e4af-c39dd9a87743"
      },
      "outputs": [
        {
          "output_type": "stream",
          "name": "stdout",
          "text": [
            "+-------+---+------+----------+--------+\n",
            "|user id|age|gender|occupation|zip code|\n",
            "+-------+---+------+----------+--------+\n",
            "|      2| 53|     F|     other|   94043|\n",
            "|      5| 33|     F|     other|   15213|\n",
            "|     11| 39|     F|     other|   30329|\n",
            "|     12| 28|     F|     other|    6405|\n",
            "|     15| 49|     F|  educator|   97301|\n",
            "+-------+---+------+----------+--------+\n",
            "only showing top 5 rows\n",
            "\n"
          ]
        }
      ],
      "source": [
        "from pyspark.sql.functions import col\n",
        "FemaleUsers=dfUser.filter(col('gender') == 'F')\n",
        "FemaleUsers.show(5)"
      ]
    },
    {
      "cell_type": "code",
      "execution_count": 55,
      "metadata": {
        "colab": {
          "base_uri": "https://localhost:8080/",
          "height": 529
        },
        "id": "VzS_An7DWh11",
        "outputId": "906c0253-082c-4932-88de-6ea08baf972a"
      },
      "outputs": [
        {
          "output_type": "execute_result",
          "data": {
            "text/plain": [
              "+-------+---+------+\n",
              "|user id|age|gender|\n",
              "+-------+---+------+\n",
              "|      2| 53|     F|\n",
              "|      5| 33|     F|\n",
              "|     11| 39|     F|\n",
              "|     12| 28|     F|\n",
              "|     15| 49|     F|\n",
              "|     18| 35|     F|\n",
              "|     20| 42|     F|\n",
              "|     23| 30|     F|\n",
              "|     24| 21|     F|\n",
              "|     27| 40|     F|\n",
              "|     32| 28|     F|\n",
              "|     34| 38|     F|\n",
              "|     35| 20|     F|\n",
              "|     36| 19|     F|\n",
              "|     38| 28|     F|\n",
              "|     43| 29|     F|\n",
              "|     46| 27|     F|\n",
              "|     49| 23|     F|\n",
              "|     52| 18|     F|\n",
              "|     62| 27|     F|\n",
              "+-------+---+------+\n",
              "only showing top 20 rows"
            ],
            "text/html": [
              "<table border='1'>\n",
              "<tr><th>user id</th><th>age</th><th>gender</th></tr>\n",
              "<tr><td>2</td><td>53</td><td>F</td></tr>\n",
              "<tr><td>5</td><td>33</td><td>F</td></tr>\n",
              "<tr><td>11</td><td>39</td><td>F</td></tr>\n",
              "<tr><td>12</td><td>28</td><td>F</td></tr>\n",
              "<tr><td>15</td><td>49</td><td>F</td></tr>\n",
              "<tr><td>18</td><td>35</td><td>F</td></tr>\n",
              "<tr><td>20</td><td>42</td><td>F</td></tr>\n",
              "<tr><td>23</td><td>30</td><td>F</td></tr>\n",
              "<tr><td>24</td><td>21</td><td>F</td></tr>\n",
              "<tr><td>27</td><td>40</td><td>F</td></tr>\n",
              "<tr><td>32</td><td>28</td><td>F</td></tr>\n",
              "<tr><td>34</td><td>38</td><td>F</td></tr>\n",
              "<tr><td>35</td><td>20</td><td>F</td></tr>\n",
              "<tr><td>36</td><td>19</td><td>F</td></tr>\n",
              "<tr><td>38</td><td>28</td><td>F</td></tr>\n",
              "<tr><td>43</td><td>29</td><td>F</td></tr>\n",
              "<tr><td>46</td><td>27</td><td>F</td></tr>\n",
              "<tr><td>49</td><td>23</td><td>F</td></tr>\n",
              "<tr><td>52</td><td>18</td><td>F</td></tr>\n",
              "<tr><td>62</td><td>27</td><td>F</td></tr>\n",
              "</table>\n",
              "only showing top 20 rows\n"
            ]
          },
          "metadata": {},
          "execution_count": 55
        }
      ],
      "source": [
        "FemaleUsers.drop('occupation')\\\n",
        ".drop('zip code')"
      ]
    },
    {
      "cell_type": "code",
      "execution_count": 56,
      "metadata": {
        "colab": {
          "base_uri": "https://localhost:8080/"
        },
        "id": "CY3BOh30W-AO",
        "outputId": "e256c306-297b-4d0e-c743-78eb15ace2fb"
      },
      "outputs": [
        {
          "output_type": "stream",
          "name": "stdout",
          "text": [
            "+-------+---+------+\n",
            "|user id|age|gender|\n",
            "+-------+---+------+\n",
            "|     12| 28|     F|\n",
            "|     23| 30|     F|\n",
            "|     24| 21|     F|\n",
            "|     32| 28|     F|\n",
            "|     35| 20|     F|\n",
            "+-------+---+------+\n",
            "only showing top 5 rows\n",
            "\n"
          ]
        }
      ],
      "source": [
        "FilteredFemaleUsers = FemaleUsers.filter(col('age')>=20)\n",
        "FilteredFemaleUsers = FemaleUsers.filter(col('age')<=30)\n",
        "FilteredFemaleUsers = FilteredFemaleUsers.drop('occupation')\n",
        "FilteredFemaleUsers = FilteredFemaleUsers.drop('zip code')\n",
        "FilteredFemaleUsers.show(5)"
      ]
    },
    {
      "cell_type": "code",
      "execution_count": 83,
      "metadata": {
        "colab": {
          "base_uri": "https://localhost:8080/"
        },
        "id": "d-04-XruXjZf",
        "outputId": "3beebc16-ac3a-46e1-8b99-6ded20aa21d6"
      },
      "outputs": [
        {
          "output_type": "stream",
          "name": "stdout",
          "text": [
            "+------+---+------+\n",
            "|userId|age|gender|\n",
            "+------+---+------+\n",
            "|    12| 28|     F|\n",
            "|    23| 30|     F|\n",
            "|    24| 21|     F|\n",
            "|    32| 28|     F|\n",
            "|    35| 20|     F|\n",
            "+------+---+------+\n",
            "only showing top 5 rows\n",
            "\n"
          ]
        }
      ],
      "source": [
        "femaleUsers = FilteredFemaleUsers\n",
        "femaleUsers = femaleUsers.withColumnRenamed('user id', 'userId')\n",
        "femaleUsers.show(5)"
      ]
    },
    {
      "cell_type": "code",
      "execution_count": 84,
      "metadata": {
        "id": "gx315AIVaWq9"
      },
      "outputs": [],
      "source": [
        "userRating=femaleUsers.join(dfRatings, femaleUsers.userId == dfRatings.userId, 'inner').select(femaleUsers['userId'],dfRatings['movieId'],dfRatings['rating'])"
      ]
    },
    {
      "cell_type": "code",
      "execution_count": 85,
      "metadata": {
        "colab": {
          "base_uri": "https://localhost:8080/"
        },
        "id": "GItUVBHLbxZx",
        "outputId": "fce7886f-9b09-4b4e-bfe3-1375bb27a8b1"
      },
      "outputs": [
        {
          "output_type": "stream",
          "name": "stdout",
          "text": [
            "+------+-------+------+\n",
            "|userId|movieId|rating|\n",
            "+------+-------+------+\n",
            "|   253|    465|     5|\n",
            "|    62|    257|     2|\n",
            "|    38|     95|     5|\n",
            "|   223|    274|     4|\n",
            "|   241|    690|     2|\n",
            "+------+-------+------+\n",
            "only showing top 5 rows\n",
            "\n",
            "+--------+-------+----------+\n",
            "|mgenreId|movieId|     genre|\n",
            "+--------+-------+----------+\n",
            "|     389|      1| Animation|\n",
            "|     431|      1|Children's|\n",
            "|     553|      1|    Comedy|\n",
            "|    1223|     10|     Drama|\n",
            "|    2796|     10|       War|\n",
            "+--------+-------+----------+\n",
            "only showing top 5 rows\n",
            "\n"
          ]
        }
      ],
      "source": [
        "userRating.show(5)\n",
        "dfMovieGenres.show(5)\n",
        "count = dfMovieGenres.groupBy('genre').count()"
      ]
    },
    {
      "cell_type": "markdown",
      "metadata": {
        "id": "6Ue-DoC0WvEv"
      },
      "source": []
    },
    {
      "cell_type": "code",
      "execution_count": 100,
      "metadata": {
        "id": "5vOoFzHTe2Wm"
      },
      "outputs": [],
      "source": [
        "movierate=dfMovieGenres.join(userRating, dfMovieGenres.movieId == userRating.movieId, 'inner').select(dfMovieGenres['movieId'],dfMovieGenres['genre'],userRating['rating'])"
      ]
    },
    {
      "cell_type": "code",
      "execution_count": 180,
      "metadata": {
        "colab": {
          "base_uri": "https://localhost:8080/"
        },
        "id": "eJI6_ytMnxsu",
        "outputId": "401866b5-2afe-4f55-d0da-85e522bdcda8"
      },
      "outputs": [
        {
          "output_type": "stream",
          "name": "stdout",
          "text": [
            "+-------+----------+------+\n",
            "|movieId|     genre|rating|\n",
            "+-------+----------+------+\n",
            "|    465|Children's|     5|\n",
            "|    465| Adventure|     5|\n",
            "|    465|   Romance|     5|\n",
            "|    257|    Comedy|     2|\n",
            "|    257| Adventure|     2|\n",
            "|    257|    Action|     2|\n",
            "|    257|    Sci-Fi|     2|\n",
            "|     95| Animation|     5|\n",
            "|     95|    Comedy|     5|\n",
            "|     95|Children's|     5|\n",
            "|     95|   Musical|     5|\n",
            "|    274|   Romance|     4|\n",
            "|    274|    Comedy|     4|\n",
            "|    690|       War|     2|\n",
            "|    690|     Drama|     2|\n",
            "|    498|    Action|     4|\n",
            "|    498|   Romance|     4|\n",
            "|    498|       War|     4|\n",
            "|    498| Adventure|     4|\n",
            "|    382|     Drama|     3|\n",
            "+-------+----------+------+\n",
            "only showing top 20 rows\n",
            "\n",
            "+-----------+------+-----+\n",
            "|      genre|rating|count|\n",
            "+-----------+------+-----+\n",
            "|  Animation|     1|   46|\n",
            "|   Thriller|     2|  341|\n",
            "|     Horror|     1|  122|\n",
            "|      Drama|     3| 1295|\n",
            "|     Sci-Fi|     3|  401|\n",
            "| Children's|     1|  126|\n",
            "|Documentary|     2|    7|\n",
            "|    Fantasy|     3|   72|\n",
            "|     Comedy|     2|  521|\n",
            "|    Musical|     5|  198|\n",
            "| Children's|     2|  158|\n",
            "|    Mystery|     5|  115|\n",
            "|    Romance|     5|  797|\n",
            "|    Romance|     1|  215|\n",
            "|    Musical|     4|  284|\n",
            "|    Romance|     3|  710|\n",
            "|     Action|     5|  651|\n",
            "|Documentary|     5|   29|\n",
            "|  Adventure|     4|  542|\n",
            "|   Thriller|     1|  222|\n",
            "+-----------+------+-----+\n",
            "only showing top 20 rows\n",
            "\n"
          ]
        }
      ],
      "source": [
        "movierate.show()\n",
        "genrecount = movierate.groupBy('genre','rating').count()\n",
        "genrecount.show()"
      ]
    },
    {
      "cell_type": "code",
      "execution_count": 181,
      "metadata": {
        "colab": {
          "base_uri": "https://localhost:8080/"
        },
        "id": "-Udu-W5aozMS",
        "outputId": "90f89170-6719-4887-8a0b-a6e30ab2e662"
      },
      "outputs": [
        {
          "output_type": "stream",
          "name": "stdout",
          "text": [
            "+----------+------+-----+\n",
            "|     genre|rating|count|\n",
            "+----------+------+-----+\n",
            "|    Action|     1|  265|\n",
            "|    Action|     2|  361|\n",
            "|    Action|     3|  845|\n",
            "|    Action|     4|  911|\n",
            "|    Action|     5|  651|\n",
            "| Adventure|     1|  161|\n",
            "| Adventure|     2|  192|\n",
            "| Adventure|     3|  505|\n",
            "| Adventure|     4|  542|\n",
            "| Adventure|     5|  398|\n",
            "| Animation|     1|   46|\n",
            "| Animation|     2|   50|\n",
            "| Animation|     3|  187|\n",
            "| Animation|     4|  221|\n",
            "| Animation|     5|  153|\n",
            "|Children's|     1|  126|\n",
            "|Children's|     2|  158|\n",
            "|Children's|     3|  419|\n",
            "|Children's|     4|  438|\n",
            "|Children's|     5|  264|\n",
            "+----------+------+-----+\n",
            "only showing top 20 rows\n",
            "\n"
          ]
        }
      ],
      "source": [
        "genrecount = genrecount.orderBy('genre', 'rating')\n",
        "genrecount.show()"
      ]
    },
    {
      "cell_type": "code",
      "source": [
        "genrecount = genrecount.withColumn(\"rating_count_product\", col(\"rating\") * col(\"count\"))\n",
        "genrecount.show()"
      ],
      "metadata": {
        "colab": {
          "base_uri": "https://localhost:8080/"
        },
        "id": "z9iGoO6RNQiN",
        "outputId": "82b2dc26-40ff-46eb-b4da-62d049ed869b"
      },
      "execution_count": 205,
      "outputs": [
        {
          "output_type": "stream",
          "name": "stdout",
          "text": [
            "+----------+------+-----+--------------------+\n",
            "|     genre|rating|count|rating_count_product|\n",
            "+----------+------+-----+--------------------+\n",
            "|    Action|     1|  265|               265.0|\n",
            "|    Action|     2|  361|               722.0|\n",
            "|    Action|     3|  845|              2535.0|\n",
            "|    Action|     4|  911|              3644.0|\n",
            "|    Action|     5|  651|              3255.0|\n",
            "| Adventure|     1|  161|               161.0|\n",
            "| Adventure|     2|  192|               384.0|\n",
            "| Adventure|     3|  505|              1515.0|\n",
            "| Adventure|     4|  542|              2168.0|\n",
            "| Adventure|     5|  398|              1990.0|\n",
            "| Animation|     1|   46|                46.0|\n",
            "| Animation|     2|   50|               100.0|\n",
            "| Animation|     3|  187|               561.0|\n",
            "| Animation|     4|  221|               884.0|\n",
            "| Animation|     5|  153|               765.0|\n",
            "|Children's|     1|  126|               126.0|\n",
            "|Children's|     2|  158|               316.0|\n",
            "|Children's|     3|  419|              1257.0|\n",
            "|Children's|     4|  438|              1752.0|\n",
            "|Children's|     5|  264|              1320.0|\n",
            "+----------+------+-----+--------------------+\n",
            "only showing top 20 rows\n",
            "\n"
          ]
        }
      ]
    },
    {
      "cell_type": "code",
      "source": [
        "genre_total_count = genrecount.groupBy(\"genre\").agg(_sum(\"count\").alias(\"movieCount\"))\n",
        "\n",
        "# 원래 데이터프레임과 장르별 총 count를 병합\n",
        "genrecount_with_total = genrecount.join(genre_total_count, on=\"genre\")\n",
        "genrecount_with_total.show()"
      ],
      "metadata": {
        "colab": {
          "base_uri": "https://localhost:8080/"
        },
        "id": "RjVzExBpOOGH",
        "outputId": "f1ea3222-dccb-4c97-eb9c-514ed80b3c79"
      },
      "execution_count": 226,
      "outputs": [
        {
          "output_type": "stream",
          "name": "stdout",
          "text": [
            "+-----------+------+-----+--------------------+----------+\n",
            "|      genre|rating|count|rating_count_product|movieCount|\n",
            "+-----------+------+-----+--------------------+----------+\n",
            "|  Animation|     1|   46|                46.0|       657|\n",
            "|   Thriller|     2|  341|               682.0|      2766|\n",
            "|     Horror|     1|  122|               122.0|       755|\n",
            "|      Drama|     3| 1295|              3885.0|      5319|\n",
            "|     Sci-Fi|     3|  401|              1203.0|      1482|\n",
            "| Children's|     1|  126|               126.0|      1405|\n",
            "|Documentary|     2|    7|                14.0|        77|\n",
            "|    Fantasy|     3|   72|               216.0|       226|\n",
            "|     Comedy|     2|  521|              1042.0|      4345|\n",
            "|    Musical|     5|  198|               990.0|       825|\n",
            "| Children's|     2|  158|               316.0|      1405|\n",
            "|    Mystery|     5|  115|               575.0|       601|\n",
            "|    Romance|     5|  797|              3985.0|      2990|\n",
            "|    Romance|     1|  215|               215.0|      2990|\n",
            "|    Musical|     4|  284|              1136.0|       825|\n",
            "|    Romance|     3|  710|              2130.0|      2990|\n",
            "|     Action|     5|  651|              3255.0|      3033|\n",
            "|Documentary|     5|   29|               145.0|        77|\n",
            "|  Adventure|     4|  542|              2168.0|      1798|\n",
            "|   Thriller|     1|  222|               222.0|      2766|\n",
            "+-----------+------+-----+--------------------+----------+\n",
            "only showing top 20 rows\n",
            "\n"
          ]
        }
      ]
    },
    {
      "cell_type": "markdown",
      "source": [],
      "metadata": {
        "id": "jPfmfU-tPyQw"
      }
    },
    {
      "cell_type": "code",
      "source": [
        "genrecount_with_total = genrecount_with_total.withColumn(\n",
        "    \"normalized_rating\", col(\"rating\") * col(\"count\") / col(\"movieCount\")\n",
        ")"
      ],
      "metadata": {
        "id": "W1xjSsWLOWUq"
      },
      "execution_count": 227,
      "outputs": []
    },
    {
      "cell_type": "code",
      "source": [
        "genre_total_rating = genrecount_with_total.groupBy(\"genre\").agg(_sum(\"normalized_rating\").alias(\"averageRating\")) # Use genrecount_with_total instead of genrecount\n",
        "genrecount_with_total = genrecount.join(genre_total_rating, on=\"genre\")\n",
        "genrecount_with_total.show()"
      ],
      "metadata": {
        "colab": {
          "base_uri": "https://localhost:8080/"
        },
        "id": "n0QMLFjAOYuV",
        "outputId": "5ec1b9ad-348f-4691-b4e0-13b38f5facf2"
      },
      "execution_count": 228,
      "outputs": [
        {
          "output_type": "stream",
          "name": "stdout",
          "text": [
            "+---------+------+-----+--------------------+------------------+\n",
            "|    genre|rating|count|rating_count_product|     averageRating|\n",
            "+---------+------+-----+--------------------+------------------+\n",
            "|    Crime|     5|  196|               980.0|3.4906490649064903|\n",
            "|    Crime|     4|  308|              1232.0|3.4906490649064903|\n",
            "|    Crime|     3|  225|               675.0|3.4906490649064903|\n",
            "|    Crime|     2|  106|               212.0|3.4906490649064903|\n",
            "|    Crime|     1|   74|                74.0|3.4906490649064903|\n",
            "|  Romance|     4|  983|              3932.0|3.6227424749163877|\n",
            "|  Romance|     2|  285|               570.0|3.6227424749163877|\n",
            "|  Romance|     3|  710|              2130.0|3.6227424749163877|\n",
            "|  Romance|     1|  215|               215.0|3.6227424749163877|\n",
            "|  Romance|     5|  797|              3985.0|3.6227424749163877|\n",
            "| Thriller|     3|  771|              2313.0|  3.44179320318149|\n",
            "| Thriller|     5|  575|              2875.0|  3.44179320318149|\n",
            "| Thriller|     4|  857|              3428.0|  3.44179320318149|\n",
            "| Thriller|     1|  222|               222.0|  3.44179320318149|\n",
            "| Thriller|     2|  341|               682.0|  3.44179320318149|\n",
            "|Adventure|     5|  398|              1990.0|3.4582869855394884|\n",
            "|Adventure|     3|  505|              1515.0|3.4582869855394884|\n",
            "|Adventure|     2|  192|               384.0|3.4582869855394884|\n",
            "|Adventure|     1|  161|               161.0|3.4582869855394884|\n",
            "|Adventure|     4|  542|              2168.0|3.4582869855394884|\n",
            "+---------+------+-----+--------------------+------------------+\n",
            "only showing top 20 rows\n",
            "\n"
          ]
        }
      ]
    },
    {
      "cell_type": "code",
      "source": [
        "genre_total_counting = genrecount_with_total.groupBy(\"genre\").agg(_sum(\"count\").alias(\"movieCount\")) # Use genrecount_with_total instead of genrecount\n"
      ],
      "metadata": {
        "id": "GKDDVnT4X0du"
      },
      "execution_count": 229,
      "outputs": []
    },
    {
      "cell_type": "code",
      "source": [
        "genrecount_with_total.show()"
      ],
      "metadata": {
        "colab": {
          "base_uri": "https://localhost:8080/"
        },
        "id": "uD6y9ntAaazr",
        "outputId": "d6c1aa08-ea19-4373-e57e-b14fe7ce44a4"
      },
      "execution_count": 230,
      "outputs": [
        {
          "output_type": "stream",
          "name": "stdout",
          "text": [
            "+---------+------+-----+--------------------+------------------+\n",
            "|    genre|rating|count|rating_count_product|     averageRating|\n",
            "+---------+------+-----+--------------------+------------------+\n",
            "|    Crime|     5|  196|               980.0|3.4906490649064903|\n",
            "|    Crime|     4|  308|              1232.0|3.4906490649064903|\n",
            "|    Crime|     3|  225|               675.0|3.4906490649064903|\n",
            "|    Crime|     2|  106|               212.0|3.4906490649064903|\n",
            "|    Crime|     1|   74|                74.0|3.4906490649064903|\n",
            "|  Romance|     4|  983|              3932.0|3.6227424749163877|\n",
            "|  Romance|     2|  285|               570.0|3.6227424749163877|\n",
            "|  Romance|     3|  710|              2130.0|3.6227424749163877|\n",
            "|  Romance|     1|  215|               215.0|3.6227424749163877|\n",
            "|  Romance|     5|  797|              3985.0|3.6227424749163877|\n",
            "| Thriller|     3|  771|              2313.0|  3.44179320318149|\n",
            "| Thriller|     5|  575|              2875.0|  3.44179320318149|\n",
            "| Thriller|     4|  857|              3428.0|  3.44179320318149|\n",
            "| Thriller|     1|  222|               222.0|  3.44179320318149|\n",
            "| Thriller|     2|  341|               682.0|  3.44179320318149|\n",
            "|Adventure|     5|  398|              1990.0|3.4582869855394884|\n",
            "|Adventure|     3|  505|              1515.0|3.4582869855394884|\n",
            "|Adventure|     2|  192|               384.0|3.4582869855394884|\n",
            "|Adventure|     1|  161|               161.0|3.4582869855394884|\n",
            "|Adventure|     4|  542|              2168.0|3.4582869855394884|\n",
            "+---------+------+-----+--------------------+------------------+\n",
            "only showing top 20 rows\n",
            "\n"
          ]
        }
      ]
    },
    {
      "cell_type": "code",
      "source": [
        "genrecount_with_total = genrecount_with_total.join(genre_total_counting, on=\"genre\")"
      ],
      "metadata": {
        "id": "HEusdyIba8Dy"
      },
      "execution_count": 232,
      "outputs": []
    },
    {
      "cell_type": "code",
      "source": [
        "genrecont_with_total = genrecount_with_total.orderBy(\"averageRating\", ascending=True)\n",
        "genrecount_with_total = genrecount_with_total.drop(\"rating\")\\\n",
        ".drop(\"rating_count_product\")\n",
        "genrecount_with_total.show()"
      ],
      "metadata": {
        "colab": {
          "base_uri": "https://localhost:8080/"
        },
        "id": "zrOFEjqsRC5-",
        "outputId": "5c749028-6929-4a27-ecf4-15b4b1d8a43b"
      },
      "execution_count": 233,
      "outputs": [
        {
          "output_type": "stream",
          "name": "stdout",
          "text": [
            "+----------+-----+------------------+----------+\n",
            "|     genre|count|     averageRating|movieCount|\n",
            "+----------+-----+------------------+----------+\n",
            "|    Action|  911|3.4358720738542696|      3033|\n",
            "|    Action|  845|3.4358720738542696|      3033|\n",
            "|    Action|  265|3.4358720738542696|      3033|\n",
            "|    Action|  361|3.4358720738542696|      3033|\n",
            "|    Action|  651|3.4358720738542696|      3033|\n",
            "| Adventure|  398|3.4582869855394884|      1798|\n",
            "| Adventure|  505|3.4582869855394884|      1798|\n",
            "| Adventure|  192|3.4582869855394884|      1798|\n",
            "| Adventure|  161|3.4582869855394884|      1798|\n",
            "| Adventure|  542|3.4582869855394884|      1798|\n",
            "| Animation|  187|3.5859969558599696|       657|\n",
            "| Animation|   50|3.5859969558599696|       657|\n",
            "| Animation|  153|3.5859969558599696|       657|\n",
            "| Animation|  221|3.5859969558599696|       657|\n",
            "| Animation|   46|3.5859969558599696|       657|\n",
            "|Children's|  419| 3.395729537366548|      1405|\n",
            "|Children's|  438| 3.395729537366548|      1405|\n",
            "|Children's|  264| 3.395729537366548|      1405|\n",
            "|Children's|  158| 3.395729537366548|      1405|\n",
            "|Children's|  126| 3.395729537366548|      1405|\n",
            "+----------+-----+------------------+----------+\n",
            "only showing top 20 rows\n",
            "\n"
          ]
        }
      ]
    },
    {
      "cell_type": "code",
      "source": [
        "genrecount_with_total.show()"
      ],
      "metadata": {
        "colab": {
          "base_uri": "https://localhost:8080/"
        },
        "id": "8EATJN6ERym4",
        "outputId": "9a776849-494e-4080-da72-c58f1c7c7344"
      },
      "execution_count": 194,
      "outputs": [
        {
          "output_type": "stream",
          "name": "stdout",
          "text": [
            "+---------+------+-----+--------------------+----------+\n",
            "|    genre|rating|count|rating_count_product|movieCount|\n",
            "+---------+------+-----+--------------------+----------+\n",
            "|    Crime|     5|  196|               980.0|       909|\n",
            "|    Crime|     4|  308|              1232.0|       909|\n",
            "|    Crime|     3|  225|               675.0|       909|\n",
            "|    Crime|     2|  106|               212.0|       909|\n",
            "|    Crime|     1|   74|                74.0|       909|\n",
            "|  Romance|     4|  983|              3932.0|      2990|\n",
            "|  Romance|     2|  285|               570.0|      2990|\n",
            "|  Romance|     3|  710|              2130.0|      2990|\n",
            "|  Romance|     1|  215|               215.0|      2990|\n",
            "|  Romance|     5|  797|              3985.0|      2990|\n",
            "| Thriller|     3|  771|              2313.0|      2766|\n",
            "| Thriller|     5|  575|              2875.0|      2766|\n",
            "| Thriller|     4|  857|              3428.0|      2766|\n",
            "| Thriller|     1|  222|               222.0|      2766|\n",
            "| Thriller|     2|  341|               682.0|      2766|\n",
            "|Adventure|     5|  398|              1990.0|      1798|\n",
            "|Adventure|     3|  505|              1515.0|      1798|\n",
            "|Adventure|     2|  192|               384.0|      1798|\n",
            "|Adventure|     1|  161|               161.0|      1798|\n",
            "|Adventure|     4|  542|              2168.0|      1798|\n",
            "+---------+------+-----+--------------------+----------+\n",
            "only showing top 20 rows\n",
            "\n"
          ]
        }
      ]
    },
    {
      "cell_type": "code",
      "source": [
        "genrecount_with_total = genrecount_with_total.drop(\"rating\")\\\n",
        ".drop(\"rating_count_product\")"
      ],
      "metadata": {
        "colab": {
          "base_uri": "https://localhost:8080/",
          "height": 162
        },
        "id": "oyBspapTX164",
        "outputId": "c3168174-16ec-4efb-98a5-a429be4023ee"
      },
      "execution_count": 1,
      "outputs": [
        {
          "output_type": "error",
          "ename": "NameError",
          "evalue": "name 'genrecount_with_total' is not defined",
          "traceback": [
            "\u001b[0;31m---------------------------------------------------------------------------\u001b[0m",
            "\u001b[0;31mNameError\u001b[0m                                 Traceback (most recent call last)",
            "\u001b[0;32m<ipython-input-1-0294eb9f2f72>\u001b[0m in \u001b[0;36m<cell line: 1>\u001b[0;34m()\u001b[0m\n\u001b[0;32m----> 1\u001b[0;31m \u001b[0mgenrecount_with_total\u001b[0m \u001b[0;34m=\u001b[0m \u001b[0mgenrecount_with_total\u001b[0m\u001b[0;34m.\u001b[0m\u001b[0mdrop\u001b[0m\u001b[0;34m(\u001b[0m\u001b[0;34m\"rating\"\u001b[0m\u001b[0;34m)\u001b[0m\u001b[0;31m\\\u001b[0m\u001b[0;34m\u001b[0m\u001b[0;34m\u001b[0m\u001b[0m\n\u001b[0m\u001b[1;32m      2\u001b[0m \u001b[0;34m.\u001b[0m\u001b[0mdrop\u001b[0m\u001b[0;34m(\u001b[0m\u001b[0;34m\"rating_count_product\"\u001b[0m\u001b[0;34m)\u001b[0m\u001b[0;34m\u001b[0m\u001b[0;34m\u001b[0m\u001b[0m\n",
            "\u001b[0;31mNameError\u001b[0m: name 'genrecount_with_total' is not defined"
          ]
        }
      ]
    }
  ],
  "metadata": {
    "colab": {
      "provenance": [],
      "authorship_tag": "ABX9TyPtS/X1P0EV2k9cNERs2dpt",
      "include_colab_link": true
    },
    "kernelspec": {
      "display_name": "Python 3",
      "name": "python3"
    },
    "language_info": {
      "name": "python"
    }
  },
  "nbformat": 4,
  "nbformat_minor": 0
}