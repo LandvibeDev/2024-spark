{
  "nbformat": 4,
  "nbformat_minor": 0,
  "metadata": {
    "colab": {
      "provenance": [],
      "authorship_tag": "ABX9TyPLToZdUcPOHNNcQfrMlHye",
      "include_colab_link": true
    },
    "kernelspec": {
      "name": "python3",
      "display_name": "Python 3"
    },
    "language_info": {
      "name": "python"
    }
  },
  "cells": [
    {
      "cell_type": "markdown",
      "metadata": {
        "id": "view-in-github",
        "colab_type": "text"
      },
      "source": [
        "<a href=\"https://colab.research.google.com/github/lee021/2024-spark/blob/main/lee021/movie_project.ipynb\" target=\"_parent\"><img src=\"https://colab.research.google.com/assets/colab-badge.svg\" alt=\"Open In Colab\"/></a>"
      ]
    },
    {
      "cell_type": "code",
      "execution_count": 2,
      "metadata": {
        "id": "yHkwoT96691Y"
      },
      "outputs": [],
      "source": [
        "!apt-get install openjdk-8-jdk-headless -qq > /dev/null\n",
        "!wget -q http://archive.apache.org/dist/spark/spark-3.5.1/spark-3.5.1-bin-hadoop3.tgz\n",
        "!tar xf spark-3.5.1-bin-hadoop3.tgz\n",
        "!pip install -q findspark"
      ]
    },
    {
      "cell_type": "code",
      "source": [
        "import os\n",
        "os.environ[\"JAVA_HOME\"] = \"/usr/lib/jvm/java-8-openjdk-amd64\"\n",
        "os.environ[\"SPARK_HOME\"] = \"/content/spark-3.5.1-bin-hadoop3\""
      ],
      "metadata": {
        "id": "PmgJGBbC7ic9"
      },
      "execution_count": 3,
      "outputs": []
    },
    {
      "cell_type": "code",
      "source": [
        "import findspark\n",
        "findspark.init()\n",
        "from pyspark.sql import SparkSession\n",
        "from pyspark.sql.functions import col, avg, count, year, datediff, expr, lit, when, sum\n",
        "from pyspark.sql.types import StructType, StructField, IntegerType, StringType\n",
        "from pyspark.sql.functions import to_date\n",
        "\n",
        "spark = SparkSession.builder.master(\"local[*]\").getOrCreate()\n",
        "spark.conf.set(\"spark.sql.repl.eagerEval.enabled\", True) # Property used to format output tables better\n",
        "spark"
      ],
      "metadata": {
        "colab": {
          "base_uri": "https://localhost:8080/",
          "height": 221
        },
        "id": "caAJGhWbw4lc",
        "outputId": "8973a408-224f-4881-ae25-8dcf88b192d1"
      },
      "execution_count": 4,
      "outputs": [
        {
          "output_type": "execute_result",
          "data": {
            "text/plain": [
              "<pyspark.sql.session.SparkSession at 0x7b35a41588e0>"
            ],
            "text/html": [
              "\n",
              "            <div>\n",
              "                <p><b>SparkSession - in-memory</b></p>\n",
              "                \n",
              "        <div>\n",
              "            <p><b>SparkContext</b></p>\n",
              "\n",
              "            <p><a href=\"http://1be2d908238b:4040\">Spark UI</a></p>\n",
              "\n",
              "            <dl>\n",
              "              <dt>Version</dt>\n",
              "                <dd><code>v3.5.1</code></dd>\n",
              "              <dt>Master</dt>\n",
              "                <dd><code>local[*]</code></dd>\n",
              "              <dt>AppName</dt>\n",
              "                <dd><code>pyspark-shell</code></dd>\n",
              "            </dl>\n",
              "        </div>\n",
              "        \n",
              "            </div>\n",
              "        "
            ]
          },
          "metadata": {},
          "execution_count": 4
        }
      ]
    },
    {
      "cell_type": "code",
      "source": [
        "genreDf = spark.read.csv('movie_data/movie_genres.csv', header=True, sep=\",\")\n",
        "genreDf = genreDf.dropDuplicates([\"movieId\", \"genre\"])\n",
        "genreDf.show(10, truncate=False)\n",
        "genreDf.printSchema()"
      ],
      "metadata": {
        "colab": {
          "base_uri": "https://localhost:8080/"
        },
        "id": "6nE33tpG7jJE",
        "outputId": "b46afe4a-b627-4d34-b1db-5bfbebcff372"
      },
      "execution_count": 5,
      "outputs": [
        {
          "output_type": "stream",
          "name": "stdout",
          "text": [
            "+--------+-------+----------+\n",
            "|mgenreId|movieId|genre     |\n",
            "+--------+-------+----------+\n",
            "|389     |1      |Animation |\n",
            "|431     |1      |Children's|\n",
            "|553     |1      |Comedy    |\n",
            "|1223    |10     |Drama     |\n",
            "|2796    |10     |War       |\n",
            "|1070    |100    |Crime     |\n",
            "|1264    |100    |Drama     |\n",
            "|2568    |100    |Thriller  |\n",
            "|855     |1000   |Comedy    |\n",
            "|2887    |1000   |Western   |\n",
            "+--------+-------+----------+\n",
            "only showing top 10 rows\n",
            "\n",
            "root\n",
            " |-- mgenreId: string (nullable = true)\n",
            " |-- movieId: string (nullable = true)\n",
            " |-- genre: string (nullable = true)\n",
            "\n"
          ]
        }
      ]
    },
    {
      "cell_type": "code",
      "source": [
        "ratingDf = spark.read.csv('movie_data/ratings.csv', header=True, sep=\",\")\n",
        "ratingDf.show(5,truncate=False)\n",
        "ratingDf.printSchema()"
      ],
      "metadata": {
        "colab": {
          "base_uri": "https://localhost:8080/"
        },
        "id": "JTaWclTf7jXE",
        "outputId": "26054c99-7111-4cde-eabb-bf85a0c2f264"
      },
      "execution_count": 6,
      "outputs": [
        {
          "output_type": "stream",
          "name": "stdout",
          "text": [
            "+--------+------+-------+------+----------------+\n",
            "|ratingId|userId|movieId|rating|timestamp       |\n",
            "+--------+------+-------+------+----------------+\n",
            "|1       |196   |242    |3     |1997-12-04 15:55|\n",
            "|2       |186   |302    |3     |1998-04-04 19:22|\n",
            "|3       |22    |377    |1     |1997-11-07 7:18 |\n",
            "|4       |244   |51     |2     |1997-11-27 5:02 |\n",
            "|5       |166   |346    |1     |1998-02-02 5:33 |\n",
            "+--------+------+-------+------+----------------+\n",
            "only showing top 5 rows\n",
            "\n",
            "root\n",
            " |-- ratingId: string (nullable = true)\n",
            " |-- userId: string (nullable = true)\n",
            " |-- movieId: string (nullable = true)\n",
            " |-- rating: string (nullable = true)\n",
            " |-- timestamp: string (nullable = true)\n",
            "\n"
          ]
        }
      ]
    },
    {
      "cell_type": "code",
      "source": [
        "movieDf = spark.read.csv('movie_data/movie.csv', header=True, sep=\",\")\n",
        "movieDf.show(5,truncate=False)\n",
        "movieDf.printSchema()"
      ],
      "metadata": {
        "colab": {
          "base_uri": "https://localhost:8080/"
        },
        "id": "EVV8BBSODZHG",
        "outputId": "aad7ff42-5623-4131-9107-30cd0d0a203b"
      },
      "execution_count": 7,
      "outputs": [
        {
          "output_type": "stream",
          "name": "stdout",
          "text": [
            "+--------+-----------------+------------+------------------+------------------------------------------------------+\n",
            "|movie id|movie title      |release date|video release date|IMDb URL                                              |\n",
            "+--------+-----------------+------------+------------------+------------------------------------------------------+\n",
            "|1       |Toy Story (1995) |01-Jan-95   |01-Jan-95         |http://us.imdb.com/M/title-exact?Toy%20Story%20(1995) |\n",
            "|2       |GoldenEye (1995) |01-Jan-95   |01-Jan-95         |http://us.imdb.com/M/title-exact?GoldenEye%20(1995)   |\n",
            "|3       |Four Rooms (1995)|01-Jan-95   |01-Jan-95         |http://us.imdb.com/M/title-exact?Four%20Rooms%20(1995)|\n",
            "|4       |Get Shorty (1995)|01-Jan-95   |01-Jan-95         |http://us.imdb.com/M/title-exact?Get%20Shorty%20(1995)|\n",
            "|5       |Copycat (1995)   |01-Jan-95   |01-Jan-95         |http://us.imdb.com/M/title-exact?Copycat%20(1995)     |\n",
            "+--------+-----------------+------------+------------------+------------------------------------------------------+\n",
            "only showing top 5 rows\n",
            "\n",
            "root\n",
            " |-- movie id: string (nullable = true)\n",
            " |-- movie title: string (nullable = true)\n",
            " |-- release date: string (nullable = true)\n",
            " |-- video release date: string (nullable = true)\n",
            " |-- IMDb URL: string (nullable = true)\n",
            "\n"
          ]
        }
      ]
    },
    {
      "cell_type": "code",
      "source": [
        "userDf = spark.read.csv('movie_data/user.csv', header=True, sep=\",\")\n",
        "userDf.show(5,truncate=False)\n",
        "userDf.printSchema()"
      ],
      "metadata": {
        "colab": {
          "base_uri": "https://localhost:8080/"
        },
        "id": "Mdih-G2RmxOW",
        "outputId": "463d8791-1b5a-4beb-c508-af44bdd3c147"
      },
      "execution_count": 8,
      "outputs": [
        {
          "output_type": "stream",
          "name": "stdout",
          "text": [
            "+------+---+------+----------+--------+\n",
            "|userid|age|gender|occupation|zip code|\n",
            "+------+---+------+----------+--------+\n",
            "|1     |24 |M     |technician|85711   |\n",
            "|2     |53 |F     |other     |94043   |\n",
            "|3     |23 |M     |writer    |32067   |\n",
            "|4     |24 |M     |technician|43537   |\n",
            "|5     |33 |F     |other     |15213   |\n",
            "+------+---+------+----------+--------+\n",
            "only showing top 5 rows\n",
            "\n",
            "root\n",
            " |-- userid: string (nullable = true)\n",
            " |-- age: string (nullable = true)\n",
            " |-- gender: string (nullable = true)\n",
            " |-- occupation: string (nullable = true)\n",
            " |-- zip code: string (nullable = true)\n",
            "\n"
          ]
        }
      ]
    },
    {
      "cell_type": "markdown",
      "source": [
        "**과제 1**"
      ],
      "metadata": {
        "id": "t5P3SA6zB7kx"
      }
    },
    {
      "cell_type": "code",
      "source": [
        "userDf = userDf.filter((col('gender')=='F') & (col('age')<=30) & (col('age') >=20))\n",
        "\n",
        "\n",
        "# user.csv에서 해당 연령, 성별에 일치하는 user_id 추출\n",
        "get_userid_Df = userDf.select(col('userid'))\n",
        "join_condition_1 = (ratingDf.userId == get_userid_Df.userid)\n",
        "matched_rows = ratingDf.join(get_userid_Df, join_condition_1, 'inner')\\\n",
        ".select(ratingDf[\"*\"]).drop(\"timestamp\").drop('ratingId')\n",
        "# .select(ratingsDf[\"*\"]): 원본 DataFrame의 모든 열을 선택하여 새로운 DataFrame을 생성\n",
        "\n",
        "\n",
        "# movie_genres.csv에서 movieid의 genre들을 추출\n",
        "join_condition_2 = (matched_rows.movieId==genreDf.movieId)\n",
        "matched_rows = genreDf.join(matched_rows, join_condition_2, 'inner')\\\n",
        ".drop(\"mgenreId\").drop(\"userId\").drop(\"movieId\")\n",
        "\n",
        "\n",
        "# 최종 그룹화\n",
        "matched_rows = matched_rows.groupBy('genre').agg(\n",
        "    count('genre').alias('count'),\n",
        "    avg('rating').alias('averageRating')\n",
        ")\n",
        "\n",
        "# 오름차순 정렬\n",
        "matched_rows = matched_rows.orderBy(col('averageRating').desc(), col('count').desc())\n",
        "matched_rows.show()"
      ],
      "metadata": {
        "id": "U3OHjyp0DZq2",
        "colab": {
          "base_uri": "https://localhost:8080/"
        },
        "outputId": "b9b2085a-eebe-4c83-9702-554e94d0767a"
      },
      "execution_count": 52,
      "outputs": [
        {
          "output_type": "stream",
          "name": "stdout",
          "text": [
            "+-----------+-----+------------------+\n",
            "|      genre|count|     averageRating|\n",
            "+-----------+-----+------------------+\n",
            "|        War|  850|3.6941176470588237|\n",
            "|    Romance| 2439|3.5953259532595325|\n",
            "|    Musical|  638|3.5940438871473352|\n",
            "|  Film-Noir|  134| 3.582089552238806|\n",
            "|      Drama| 4392| 3.566256830601093|\n",
            "|  Animation|  497| 3.545271629778672|\n",
            "|      Crime|  776| 3.506443298969072|\n",
            "|Documentary|   69| 3.463768115942029|\n",
            "|    Mystery|  489|3.4519427402862988|\n",
            "|  Adventure| 1402| 3.412981455064194|\n",
            "|   Thriller| 2232|3.4094982078853047|\n",
            "|     Sci-Fi| 1204|3.3903654485049834|\n",
            "| Children's| 1019| 3.379784102060844|\n",
            "|     Action| 2452| 3.372756933115824|\n",
            "|     Comedy| 3523|3.3624751632131704|\n",
            "|    Western|  156| 3.217948717948718|\n",
            "|     Horror|  571|3.1453590192644483|\n",
            "|    Fantasy|  165|3.0424242424242425|\n",
            "|    unknown|    1|               3.0|\n",
            "+-----------+-----+------------------+\n",
            "\n"
          ]
        }
      ]
    },
    {
      "cell_type": "markdown",
      "source": [
        "**과제 2**"
      ],
      "metadata": {
        "id": "xKxOLOZ1CELs"
      }
    },
    {
      "cell_type": "code",
      "source": [
        "ratingDf = spark.read.csv('movie_data/ratings.csv', header=True, sep=\",\")\n",
        "genreDf = spark.read.csv('movie_data/movie_genres.csv', header=True, sep=\",\")\n",
        "genreDf = genreDf.dropDuplicates([\"movieId\", \"genre\"])\n",
        "\n",
        "# movieId의 평균 평점을 계산한 dataFrame 생성\n",
        "average_ratings = ratingDf.groupBy('movieId').agg(\n",
        "    avg('rating').alias('averageRating')\n",
        ").orderBy(col('movieId'))\n",
        "\n",
        "# genreDf를 movieId 기준으로 join\n",
        "# average_ratings에 genreDf를 join해볼까\n",
        "join_condition = (average_ratings.movieId == genreDf.movieId)\n",
        "average_ratings = average_ratings.join(genreDf, join_condition, 'inner').drop('mgenreId').drop('movieId')\n",
        "\n",
        "\n",
        "# genre를 기준으로 averageRating이 4.0이상인 영화의 갯수, 2.0 이하인 영화의 갯수를 각각 열로 한 dataFrame을 만들자.\n",
        "average_ratings = average_ratings.groupBy('genre').agg(\n",
        "    count(when(col('averageRating') >= 4.0, True)).alias('highRatedCount'),\n",
        "    count(when(col('averageRating') < 2.0, True)).alias('lowRatedCount')\n",
        ").orderBy(col('highRatedCount').desc())\n",
        "\n",
        "average_ratings.show(100)\n",
        "\n",
        "\n",
        "# 내 상황 : lowRatedCount가 성온님의 것과 비교해봤을 때 전체적으로 높게 분포. => 영화의 수가 더 많음.\n",
        "# => 추측 1 : join 과정에서 중복 발생\n",
        "# => 추측 2 : when 사용 미숙?\n"
      ],
      "metadata": {
        "colab": {
          "base_uri": "https://localhost:8080/"
        },
        "id": "Bl2F8yyARhdy",
        "outputId": "a3bfd6b9-08c9-40ca-e6e1-98b6e3d29298"
      },
      "execution_count": 57,
      "outputs": [
        {
          "output_type": "stream",
          "name": "stdout",
          "text": [
            "+-----------+--------------+-------------+\n",
            "|      genre|highRatedCount|lowRatedCount|\n",
            "+-----------+--------------+-------------+\n",
            "|      Drama|            84|           49|\n",
            "|     Comedy|            36|           37|\n",
            "|   Thriller|            33|           13|\n",
            "|    Romance|            27|            9|\n",
            "|        War|            20|            1|\n",
            "|      Crime|            17|            2|\n",
            "|     Action|            16|           18|\n",
            "|  Adventure|            15|            4|\n",
            "|    Mystery|            14|            2|\n",
            "|Documentary|            12|            6|\n",
            "|  Film-Noir|            12|            1|\n",
            "|     Sci-Fi|             8|            5|\n",
            "|  Animation|             5|            2|\n",
            "|    Musical|             3|            1|\n",
            "|     Horror|             3|           13|\n",
            "| Children's|             2|            8|\n",
            "|    Western|             2|            2|\n",
            "|    Fantasy|             1|            3|\n",
            "|    unknown|             0|            1|\n",
            "+-----------+--------------+-------------+\n",
            "\n"
          ]
        }
      ]
    },
    {
      "cell_type": "markdown",
      "source": [
        "**과제 3**"
      ],
      "metadata": {
        "id": "NWdt3F8Td4NW"
      }
    },
    {
      "cell_type": "code",
      "source": [
        "activity_df = ratingDf.groupBy('userId').agg(\n",
        "    count('rating').alias('ratingCount'),\n",
        "    avg('rating').alias('averageRating')\n",
        ").orderBy(col('ratingCount').desc())\n",
        "activity_df.show(10)\n",
        "\n"
      ],
      "metadata": {
        "colab": {
          "base_uri": "https://localhost:8080/"
        },
        "id": "GvtPhUZCd8CE",
        "outputId": "b03020a9-3ea4-46b7-95c9-d86051abe9da"
      },
      "execution_count": 58,
      "outputs": [
        {
          "output_type": "stream",
          "name": "stdout",
          "text": [
            "+------+-----------+------------------+\n",
            "|userId|ratingCount|     averageRating|\n",
            "+------+-----------+------------------+\n",
            "|   405|        737|1.8344640434192674|\n",
            "|   655|        685| 2.908029197080292|\n",
            "|    13|        636|  3.09748427672956|\n",
            "|   450|        540|3.8648148148148147|\n",
            "|   276|        518| 3.465250965250965|\n",
            "|   416|        493| 3.845841784989858|\n",
            "|   537|        490|2.8653061224489798|\n",
            "|   303|        484| 3.365702479338843|\n",
            "|   234|        480| 3.122916666666667|\n",
            "|   393|        448|3.3370535714285716|\n",
            "+------+-----------+------------------+\n",
            "only showing top 10 rows\n",
            "\n"
          ]
        }
      ]
    },
    {
      "cell_type": "markdown",
      "source": [
        "**분석 4**"
      ],
      "metadata": {
        "id": "o56_kYROkCbG"
      }
    },
    {
      "cell_type": "markdown",
      "source": [],
      "metadata": {
        "id": "MCdf_o3ylVr9"
      }
    },
    {
      "cell_type": "code",
      "source": [
        "Action_Df = genreDf.filter((col('genre')=='Action')).drop('mgenreId')\n",
        "ratingDf = spark.read.csv('movie_data/ratings.csv', header=True, sep=\",\")\n",
        "userDf = spark.read.csv('movie_data/user.csv', header=True, sep=\",\")\n",
        "\n",
        "# userId 추출\n",
        "join_condition_1 = (Action_Df.movieId == ratingDf.movieId)\n",
        "Action_Df = ratingDf.join(Action_Df, join_condition_1, 'inner').drop('ratingId').drop('timestamp')\\\n",
        ".drop('movieId')\n",
        "\n",
        "\n",
        "# age 추출\n",
        "join_condition_2 = (Action_Df.userId == userDf.userid)\n",
        "Action_Df = userDf.join(Action_Df, join_condition_2, 'inner').drop('userid').drop('gender')\\\n",
        ".drop('occupation').drop('zip code').orderBy(col('age').asc())\n",
        "\n",
        "\n",
        "# 나잇대 별로(10대, 20대, 30대..) 평균 평점을 구해서, 연령순으로 정렬해야겠다.\n",
        "Action_Df = Action_Df.groupBy('age').agg(\n",
        "    avg('rating').alias('averageRating')\n",
        ").orderBy(col('age').cast('int').asc())\n",
        "\n",
        "Action_Df.show(10)\n"
      ],
      "metadata": {
        "colab": {
          "base_uri": "https://localhost:8080/"
        },
        "id": "DkdTznRekFlZ",
        "outputId": "5489dd48-f1b8-415f-b988-056945e09299"
      },
      "execution_count": 54,
      "outputs": [
        {
          "output_type": "stream",
          "name": "stdout",
          "text": [
            "+---+------------------+\n",
            "|age|     averageRating|\n",
            "+---+------------------+\n",
            "|  7| 3.611111111111111|\n",
            "| 10|               4.0|\n",
            "| 11| 3.076923076923077|\n",
            "| 13|3.4934210526315788|\n",
            "| 14| 3.593220338983051|\n",
            "| 15|               3.5|\n",
            "| 16|3.5217391304347827|\n",
            "| 17| 3.651006711409396|\n",
            "| 18|3.7417677642980935|\n",
            "| 19| 3.307101727447217|\n",
            "+---+------------------+\n",
            "only showing top 10 rows\n",
            "\n"
          ]
        }
      ]
    },
    {
      "cell_type": "markdown",
      "source": [
        "## **분석 5 : 개봉 시기와 관객 수의 관계**\n",
        "문제 설명 : 사용자(관객)들이 가장 선호하는 영화 개봉 시기를 분석하시오. (ratings 1번 당 관람 1회로 가정)\n",
        "\n",
        "1.   movie, ratings 테이블을 사용합니다.\n",
        "2.   각 영화의 release date(개봉날짜)를 4분기로 구분합니다.\n",
        "3. 각 영화의 ratings 수를 계산하고, 분기별로 분포를 냅니다.\n",
        "4. ratings(관객수로 가정) 수가 많은 순서대로 정렬시켜, 결과를 확인합니다.\n",
        "\n"
      ],
      "metadata": {
        "id": "GCPucF8VLUHC"
      }
    },
    {
      "cell_type": "code",
      "source": [
        "# 분석 전 예상 : 연초, 연말에 안 보던 사람들도 영화를 보러 가지 않을까?\n",
        "\n",
        "movieDf = spark.read.csv('movie_data/movie.csv', header=True, sep=\",\")\n",
        "movieDf = movieDf.drop(\"movie title\").drop(\"video release date\").drop(\"iMDb URL\")\n",
        "ratingDf = spark.read.csv('movie_data/ratings.csv', header=True, sep=\",\")\n",
        "\n",
        "# 각 영화의 rating 수를 분석\n",
        "ratingDf = ratingDf.groupBy('movieId').agg(\n",
        "    count('rating').alias('watching_Count')\n",
        ").orderBy(col('movieId').cast('int').asc())\n",
        "\n",
        "# ratingDf.show(10)\n",
        "\n",
        "# 분기별로 영화를 나눠보자.\n",
        "# release date에 Jan, Feb, Mar 중 하나가 포함돼 있으면 quater열의 값을 1,\n",
        "# Apr, May, Jun 중 하나가 포함돼 있으면 quater열의 값을 2,\n",
        "# Jul, Aug, Sep 중 하나가 포함돼 있으면 quater열의 값을 3,\n",
        "# Oct, Nov, Dec 중 하나가 포함돼 있으면 quater열의 값을 4로 갖는 dataFame을 생성해야겠음.\n",
        "\n",
        "# udf 사용해서 최적화하기 ☆☆☆☆\n",
        "# getMonth 활용 (date)\n",
        "movieDf = movieDf.withColumn(\"quater\", when(col(\"release date\").contains(\"Jan\"), 1)\\\n",
        "                             .when(col(\"release date\").contains(\"Feb\"), 1)\\\n",
        "                             .when(col(\"release date\").contains(\"Mar\"), 1)\\\n",
        "                             .when(col(\"release date\").contains(\"Apr\"), 2)\\\n",
        "                             .when(col(\"release date\").contains(\"May\"), 2)\\\n",
        "                             .when(col(\"release date\").contains(\"Jun\"), 2)\\\n",
        "                             .when(col(\"release date\").contains(\"Jul\"), 3)\\\n",
        "                             .when(col(\"release date\").contains(\"Aug\"), 3)\\\n",
        "                             .when(col(\"release date\").contains(\"Sep\"), 3)\\\n",
        "                             .when(col(\"release date\").contains(\"Oct\"), 4)\\\n",
        "                             .when(col(\"release date\").contains(\"Nov\"), 4)\\\n",
        "                             .when(col(\"release date\").contains(\"Dec\"), 4)\\\n",
        "                             .otherwise(None))\n",
        "\n",
        "\n",
        "\n",
        "# movieDf.show(10)\n",
        "\n",
        "# ratingDf 와 movieDf를 movieId로 inner join한다.\n",
        "movieDf = movieDf.withColumnRenamed('movie id', 'movieId')\n",
        "\n",
        "join_condition = (ratingDf.movieId == movieDf.movieId)\n",
        "movieDf = movieDf.join(ratingDf, join_condition, 'inner').drop('movieId')\n",
        "# movieDf\n",
        "\n",
        "\n",
        "movieDf = movieDf.withColumn('watching_Count', col('watching_Count').cast('int'))\n",
        "\n",
        "\n",
        "movieDf = movieDf.groupBy('quater').agg(\n",
        "    sum('watching_Count').alias('watching_Count')\n",
        ").orderBy(col('watching_Count').desc())\n",
        "\n",
        "movieDf = movieDf.filter(movieDf.watching_Count != 9) # 꼼수 : NULL은 왜 삭제가 안되나?\n",
        "\n",
        "# 원래 의도한 문장\n",
        "# movieDf = movieDf.filter(movieDf.quater != NULL)\n",
        "\n",
        "movieDf.show()\n",
        "\n",
        "\n",
        "# 결론 : 사람들은 연초와 연말에 영화를 많이 본다. 예상과 일치!\n"
      ],
      "metadata": {
        "id": "4O8QfQY947U_",
        "colab": {
          "base_uri": "https://localhost:8080/"
        },
        "outputId": "f16322b5-8528-4186-f4e9-43c3782e2154"
      },
      "execution_count": 9,
      "outputs": [
        {
          "output_type": "stream",
          "name": "stdout",
          "text": [
            "+------+--------------+\n",
            "|quater|watching_Count|\n",
            "+------+--------------+\n",
            "|     1|         78165|\n",
            "|     4|          7477|\n",
            "|     2|          7410|\n",
            "|     3|          6939|\n",
            "+------+--------------+\n",
            "\n"
          ]
        }
      ]
    },
    {
      "cell_type": "markdown",
      "source": [],
      "metadata": {
        "id": "XhqX1yGq1yQl"
      }
    },
    {
      "cell_type": "markdown",
      "source": [
        "분석 6"
      ],
      "metadata": {
        "id": "YPpXn-_uLjst"
      }
    },
    {
      "cell_type": "markdown",
      "source": [
        "**특정 직업군의 영화 선호도 분석**\n",
        "\n",
        "문제 설명 : 직업군 별로 높게 평가한 장르와, 낮게 평가한 장르를 분석하십시오\n",
        "\n",
        "( 높게 평가 : 평균 4.0이상,   낮게 평가 : 평균 2.0 이하 )\n",
        "\n",
        "1.   movie_genres, ratings, user 테이블을 사용합니다.\n",
        "2.   \n",
        "\n",
        "예시 :\n",
        "\n",
        "![스크린샷(213).png](data:image/png;base64,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)\n",
        "\n"
      ],
      "metadata": {
        "id": "jjJM_lLILqcM"
      }
    },
    {
      "cell_type": "code",
      "source": [
        "from pyspark.sql.window import Window\n",
        "from pyspark.sql.functions import row_number\n",
        "\n",
        "ratingDf = spark.read.csv('movie_data/ratings.csv', header=True, sep=\",\")\n",
        "userDf = spark.read.csv('movie_data/user.csv', header=True, sep=\",\")\n",
        "genreDf = spark.read.csv('movie_data/movie_genres.csv', header=True, sep=\",\")\n",
        "genreDf = genreDf.dropDuplicates([\"movieId\", \"genre\"])\n",
        "\n",
        "ratingDf = ratingDf.drop(\"ratingId\").drop(\"timestamp\")\n",
        "genreDf = genreDf.drop(\"mgenreId\")\n",
        "userDf = userDf.drop(\"zip code\").drop(\"age\").drop(\"gender\")\n",
        "\n",
        "# ratingDf.show()\n",
        "# genreDf.show()\n",
        "# userDf.show()\n",
        "\n",
        "# ratingDf에 userId를 기준으로 userDf를 inner join\n",
        "\n",
        "join_condition_1 = (ratingDf.userId == userDf.userid)\n",
        "ratingDf = userDf.join(ratingDf, join_condition_1, 'inner').drop('userid')\n",
        "# ratingDf.show()\n",
        "\n",
        "# ratingDf에 movieId를 기준으로 genreDf를 inner join\n",
        "join_condition_2 = (ratingDf.movieId == genreDf.movieId)\n",
        "ratingDf = genreDf.join(ratingDf, join_condition_2, 'inner').drop('movieId')\n",
        "\n",
        "\n",
        "# 각 장르의 평균 평점을 계산\n",
        "genre_ratings = ratingDf.groupBy(\"occupation\", \"genre\").agg(\n",
        "    avg(\"rating\").alias(\"averageRating\")\n",
        ").orderBy(\"occupation\")\n",
        "\n",
        "genre_ratings = genre_ratings.filter(genre_ratings.genre != \"unknown\")\n",
        "\n",
        "# genre_ratings.show(100)\n",
        "\n",
        "\n",
        "\n",
        "\n",
        "# WindowSpec 정의 (occupation별로 partition)\n",
        "# partitionBy : (데이터를) 그룹화할 열 지정\n",
        "# orderBy : (데이터를)정렬할 열 지정\n",
        "windowSpec = Window.partitionBy(\"occupation\").orderBy(col(\"averageRating\").desc())\n",
        "\n",
        "# row_number를 사용하여 가장 높은 평점과 가장 낮은 평점 순위를 매김\n",
        "# 행에 순위(번호)를 매김 (1로 매겨짐). => 각 직업별로 높은 평점, 낮은 평점 받은 장르를 구분 가능.\n",
        "genre_ratings_with_rank = genre_ratings.withColumn(\"rank_high\", row_number().over(windowSpec)) \\\n",
        "                                       .withColumn(\"rank_low\", row_number().over(windowSpec.orderBy(col(\"averageRating\").asc())))\n",
        "\n",
        "# 가장 높은 평점을 받은 장르\n",
        "high_rated_genre = genre_ratings_with_rank.filter(col(\"rank_high\") == 1).select(\"occupation\", col(\"genre\").alias(\"high_rated_genre\"))\n",
        "high_rated_genre.show()\n",
        "\n",
        "# 가장 낮은 평점을 받은 장르\n",
        "low_rated_genre = genre_ratings_with_rank.filter(col(\"rank_low\") == 1).select(\"occupation\", col(\"genre\").alias(\"low_rated_genre\"))\n",
        "\n",
        "# high_rated_genre와 low_rated_genre를 occupation을 기준으로 조인\n",
        "result_df = high_rated_genre.join(low_rated_genre, on=\"occupation\")\n",
        "\n",
        "# 결과 출력\n",
        "result_df.show()\n",
        "\n"
      ],
      "metadata": {
        "colab": {
          "base_uri": "https://localhost:8080/"
        },
        "id": "wB747OqTLU2O",
        "outputId": "f4bde882-e779-4b19-8495-43fd97bfd6ca"
      },
      "execution_count": 60,
      "outputs": [
        {
          "output_type": "stream",
          "name": "stdout",
          "text": [
            "+-------------+----------------+\n",
            "|   occupation|high_rated_genre|\n",
            "+-------------+----------------+\n",
            "|administrator|       Film-Noir|\n",
            "|       artist|       Film-Noir|\n",
            "|       doctor|             War|\n",
            "|     educator|       Film-Noir|\n",
            "|     engineer|       Film-Noir|\n",
            "|entertainment|       Film-Noir|\n",
            "|    executive|             War|\n",
            "|   healthcare|         Musical|\n",
            "|    homemaker|         Mystery|\n",
            "|       lawyer|       Film-Noir|\n",
            "|    librarian|       Film-Noir|\n",
            "|    marketing|       Film-Noir|\n",
            "|         none|             War|\n",
            "|        other|       Film-Noir|\n",
            "|   programmer|             War|\n",
            "|      retired|       Film-Noir|\n",
            "|     salesman|     Documentary|\n",
            "|    scientist|       Film-Noir|\n",
            "|      student|       Film-Noir|\n",
            "|   technician|       Film-Noir|\n",
            "+-------------+----------------+\n",
            "only showing top 20 rows\n",
            "\n",
            "+-------------+----------------+---------------+\n",
            "|   occupation|high_rated_genre|low_rated_genre|\n",
            "+-------------+----------------+---------------+\n",
            "|administrator|       Film-Noir|         Horror|\n",
            "|       artist|       Film-Noir|        Fantasy|\n",
            "|       doctor|             War|        Fantasy|\n",
            "|     educator|       Film-Noir|         Horror|\n",
            "|     engineer|       Film-Noir|        Fantasy|\n",
            "|entertainment|       Film-Noir|        Fantasy|\n",
            "|    executive|             War|    Documentary|\n",
            "|   healthcare|         Musical|         Horror|\n",
            "|    homemaker|         Mystery|        Fantasy|\n",
            "|       lawyer|       Film-Noir|        Fantasy|\n",
            "|    librarian|       Film-Noir|         Horror|\n",
            "|    marketing|       Film-Noir|     Children's|\n",
            "|         none|             War|        Western|\n",
            "|        other|       Film-Noir|         Horror|\n",
            "|   programmer|             War|         Horror|\n",
            "|      retired|       Film-Noir|     Children's|\n",
            "|     salesman|     Documentary|         Comedy|\n",
            "|    scientist|       Film-Noir|        Fantasy|\n",
            "|      student|       Film-Noir|        Fantasy|\n",
            "|   technician|       Film-Noir|        Fantasy|\n",
            "+-------------+----------------+---------------+\n",
            "only showing top 20 rows\n",
            "\n"
          ]
        }
      ]
    },
    {
      "cell_type": "code",
      "source": [
        "genreDf = spark.read.csv('movie_data/movie_genres.csv', header=True, sep=\",\")\n",
        "genreDf = genreDf.dropDuplicates([\"movieId\", \"genre\"])\n",
        "\n",
        "genreDf = genreDf.groupBy('genre').agg(\n",
        "    count('genre').alias('count')\n",
        ").orderBy(col('count').desc())\n",
        "\n",
        "\n",
        "genreDf.show()"
      ],
      "metadata": {
        "colab": {
          "base_uri": "https://localhost:8080/"
        },
        "id": "bOH5_yNzSPnw",
        "outputId": "fc985c46-67ad-46a4-98a6-3911945a864c"
      },
      "execution_count": 46,
      "outputs": [
        {
          "output_type": "stream",
          "name": "stdout",
          "text": [
            "+-----------+-----+\n",
            "|      genre|count|\n",
            "+-----------+-----+\n",
            "|      Drama|  725|\n",
            "|     Comedy|  505|\n",
            "|   Thriller|  251|\n",
            "|     Action|  251|\n",
            "|    Romance|  247|\n",
            "|  Adventure|  135|\n",
            "| Children's|  122|\n",
            "|      Crime|  109|\n",
            "|     Sci-Fi|  101|\n",
            "|     Horror|   92|\n",
            "|        War|   71|\n",
            "|    Mystery|   61|\n",
            "|    Musical|   56|\n",
            "|Documentary|   50|\n",
            "|  Animation|   42|\n",
            "|    Western|   27|\n",
            "|  Film-Noir|   24|\n",
            "|    Fantasy|   22|\n",
            "|    unknown|    2|\n",
            "+-----------+-----+\n",
            "\n"
          ]
        }
      ]
    },
    {
      "cell_type": "code",
      "source": [
        "from pyspark.sql.types import StructType, StructField\n",
        "sc = spark.sparkContext\n",
        "#Create empty df with header\n",
        "schema_header = StructType([StructField(\"occupation\", StringType(), True),\n",
        "                            StructField(\"Action\", StringType(), True),\n",
        "                           StructField(\"Adventure\", StringType(), True),\n",
        "                           StructField(\"Animation\", StringType(), True),\n",
        "                           StructField(\"Children's\", StringType(), True),\n",
        "                           StructField(\"Comedy\", StringType(), True),\n",
        "                           StructField(\"Crime\", StringType(), True),\n",
        "                           StructField(\"Documentary\", StringType(), True),\n",
        "                           StructField(\"Drama\", StringType(), True),\n",
        "                           StructField(\"Fantasy\", StringType(), True),\n",
        "                           StructField(\"Film-Noir\", StringType(), True),\n",
        "                            StructField(\"Horror\", StringType(), True),\n",
        "                            StructField(\"Musical\", StringType(), True),\n",
        "                            StructField(\"Mystery\", StringType(), True),\n",
        "                            StructField(\"Romance\", StringType(), True),\n",
        "                            StructField(\"Sci-Fi\", StringType(), True),\n",
        "                            StructField(\"Thriller\", StringType(), True),\n",
        "                            StructField(\"War\", StringType(), True),\n",
        "                            StructField(\"Western\", StringType(), True),\n",
        "                            StructField(\"unknown\", StringType(), True)])\n",
        "empty_with_header = spark.createDataFrame(sc.emptyRDD(), schema_header)\n",
        "empty_with_header.show()"
      ],
      "metadata": {
        "colab": {
          "base_uri": "https://localhost:8080/"
        },
        "id": "btVkFp6bSyAM",
        "outputId": "a2fad24f-8983-4c07-fcc8-d6ac1fa4bed4"
      },
      "execution_count": 27,
      "outputs": [
        {
          "output_type": "stream",
          "name": "stdout",
          "text": [
            "+----------+------+---------+---------+----------+------+-----+-----------+-----+-------+---------+------+-------+-------+-------+------+--------+---+-------+-------+\n",
            "|occupation|Action|Adventure|Animation|Children's|Comedy|Crime|Documentary|Drama|Fantasy|Film-Noir|Horror|Musical|Mystery|Romance|Sci-Fi|Thriller|War|Western|unknown|\n",
            "+----------+------+---------+---------+----------+------+-----+-----------+-----+-------+---------+------+-------+-------+-------+------+--------+---+-------+-------+\n",
            "+----------+------+---------+---------+----------+------+-----+-----------+-----+-------+---------+------+-------+-------+-------+------+--------+---+-------+-------+\n",
            "\n"
          ]
        }
      ]
    }
  ]
}