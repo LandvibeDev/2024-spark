{
  "nbformat": 4,
  "nbformat_minor": 0,
  "metadata": {
    "colab": {
      "provenance": [],
      "authorship_tag": "ABX9TyO4Nx1Uxztoj65d++W2yZbt",
      "include_colab_link": true
    },
    "kernelspec": {
      "name": "python3",
      "display_name": "Python 3"
    },
    "language_info": {
      "name": "python"
    }
  },
  "cells": [
    {
      "cell_type": "markdown",
      "metadata": {
        "id": "view-in-github",
        "colab_type": "text"
      },
      "source": [
        "<a href=\"https://colab.research.google.com/github/raccoonback/2024-spark/blob/main/week2.ipynb\" target=\"_parent\"><img src=\"https://colab.research.google.com/assets/colab-badge.svg\" alt=\"Open In Colab\"/></a>"
      ]
    },
    {
      "cell_type": "code",
      "execution_count": null,
      "metadata": {
        "id": "arplFc_F_tSH"
      },
      "outputs": [],
      "source": []
    },
    {
      "cell_type": "markdown",
      "metadata": {
        "id": "Dd6t0uFzuR4X"
      },
      "source": [
        "<a id='installing-spark'></a>\n",
        "### Installing Spark"
      ]
    },
    {
      "cell_type": "markdown",
      "metadata": {
        "id": "6apGVff5h4ca"
      },
      "source": [
        "Install Dependencies:\n",
        "\n",
        "\n",
        "1.   Java 8\n",
        "2.   Apache Spark with hadoop and\n",
        "3.   Findspark (used to locate the spark in the system)\n",
        "\n",
        "> If you have issues with spark version, please upgrade to the latest version from [here](https://archive.apache.org/dist/spark/)."
      ]
    },
    {
      "cell_type": "code",
      "metadata": {
        "id": "tt7ZS1_wGgjn"
      },
      "source": [
        "!apt-get install openjdk-8-jdk-headless -qq > /dev/null\n",
        "!wget -q http://archive.apache.org/dist/spark/spark-3.5.1/spark-3.5.1-bin-hadoop3.tgz\n",
        "!tar xf spark-3.5.1-bin-hadoop3.tgz\n",
        "!pip install -q findspark"
      ],
      "execution_count": 1,
      "outputs": []
    },
    {
      "cell_type": "markdown",
      "metadata": {
        "id": "C3x0ZRLxjMVr"
      },
      "source": [
        "Set Environment Variables:"
      ]
    },
    {
      "cell_type": "code",
      "metadata": {
        "id": "sdOOq4twHN1K"
      },
      "source": [
        "import os\n",
        "os.environ[\"JAVA_HOME\"] = \"/usr/lib/jvm/java-8-openjdk-amd64\"\n",
        "os.environ[\"SPARK_HOME\"] = \"/content/spark-3.5.1-bin-hadoop3\""
      ],
      "execution_count": 3,
      "outputs": []
    },
    {
      "cell_type": "code",
      "metadata": {
        "id": "3ACYMwhgHTYz",
        "colab": {
          "base_uri": "https://localhost:8080/"
        },
        "outputId": "5ca9cf30-f789-4980-c249-ed5205d96572"
      },
      "source": [
        "!ls"
      ],
      "execution_count": 4,
      "outputs": [
        {
          "output_type": "stream",
          "name": "stdout",
          "text": [
            "movie_data  sample_data  spark-3.5.1-bin-hadoop3  spark-3.5.1-bin-hadoop3.tgz\n"
          ]
        }
      ]
    },
    {
      "cell_type": "code",
      "metadata": {
        "id": "KR1zLBk1998Z",
        "colab": {
          "base_uri": "https://localhost:8080/",
          "height": 219
        },
        "outputId": "151d8553-83c4-493c-b3e3-a48efb27bba9"
      },
      "source": [
        "import findspark\n",
        "findspark.init()\n",
        "from pyspark.sql import SparkSession\n",
        "spark = SparkSession.builder.master(\"local[*]\").getOrCreate()\n",
        "spark.conf.set(\"spark.sql.repl.eagerEval.enabled\", True) # Property used to format output tables better\n",
        "spark"
      ],
      "execution_count": 5,
      "outputs": [
        {
          "output_type": "execute_result",
          "data": {
            "text/plain": [
              "<pyspark.sql.session.SparkSession at 0x7e0829323b50>"
            ],
            "text/html": [
              "\n",
              "            <div>\n",
              "                <p><b>SparkSession - in-memory</b></p>\n",
              "                \n",
              "        <div>\n",
              "            <p><b>SparkContext</b></p>\n",
              "\n",
              "            <p><a href=\"http://6cb412de75b3:4040\">Spark UI</a></p>\n",
              "\n",
              "            <dl>\n",
              "              <dt>Version</dt>\n",
              "                <dd><code>v3.5.1</code></dd>\n",
              "              <dt>Master</dt>\n",
              "                <dd><code>local[*]</code></dd>\n",
              "              <dt>AppName</dt>\n",
              "                <dd><code>pyspark-shell</code></dd>\n",
              "            </dl>\n",
              "        </div>\n",
              "        \n",
              "            </div>\n",
              "        "
            ]
          },
          "metadata": {},
          "execution_count": 5
        }
      ]
    },
    {
      "cell_type": "code",
      "source": [
        "from pyspark.sql.types import *\n",
        "\n",
        "labels = [\n",
        "    ('id', StringType()),\n",
        "    ('title', StringType()),\n",
        "    ('release_date', StringType()),\n",
        "    ('video_release_date', StringType()),\n",
        "    ('url', StringType())\n",
        "]\n",
        "\n",
        "schema = StructType([StructField(x[0], x[1], True) for x in labels])\n",
        "\n",
        "movie_df = spark.read.csv('movie_data/movie.csv', header=True, sep=\",\", schema=schema);\n",
        "movie_genres_df = spark.read.csv('movie_data/movie_genres.csv', header=True, sep=\",\");\n",
        "user_df = spark.read.csv('movie_data/user.csv', header=True, sep=\",\");\n",
        "rating_df = spark.read.csv('movie_data/ratings.csv', header=True, sep=\",\");\n",
        "\n",
        "move.df.sho\n",
        "\n",
        "\n",
        "df.printSchema();\n",
        "\n",
        "df.groupBy('title').count().show();\n",
        "df.count();\n",
        "\n",
        "df.show(3);\n"
      ],
      "metadata": {
        "colab": {
          "base_uri": "https://localhost:8080/"
        },
        "id": "5_xGGoWIAnzj",
        "outputId": "d19e367e-09a6-4a7d-c2a1-227be8be0894"
      },
      "execution_count": 15,
      "outputs": [
        {
          "output_type": "stream",
          "name": "stdout",
          "text": [
            "root\n",
            " |-- id: string (nullable = true)\n",
            " |-- title: string (nullable = true)\n",
            " |-- release_date: string (nullable = true)\n",
            " |-- video_release_date: string (nullable = true)\n",
            " |-- url: string (nullable = true)\n",
            "\n",
            "+--------------------+-----+\n",
            "|               title|count|\n",
            "+--------------------+-----+\n",
            "|Snow White and th...|    1|\n",
            "|       Psycho (1960)|    1|\n",
            "|   Annie Hall (1977)|    1|\n",
            "|Heavenly Creature...|    1|\n",
            "|Night of the Livi...|    1|\n",
            "|    Fair Game (1995)|    1|\n",
            "| If Lucy Fell (1996)|    1|\n",
            "| Three Wishes (1995)|    1|\n",
            "|When We Were King...|    1|\n",
            "|         Cosi (1996)|    1|\n",
            "|Paris, France (1993)|    1|\n",
            "|Spanking the Monk...|    1|\n",
            "|        Mondo (1996)|    1|\n",
            "|I'll Do Anything ...|    1|\n",
            "| Evil Dead II (1987)|    1|\n",
            "|Last Action Hero ...|    1|\n",
            "|    Threesome (1994)|    1|\n",
            "|Reality Bites (1994)|    1|\n",
            "|   Blue Chips (1994)|    1|\n",
            "|A Chef in Love (1...|    1|\n",
            "+--------------------+-----+\n",
            "only showing top 20 rows\n",
            "\n",
            "+---+-----------------+------------+------------------+--------------------+\n",
            "| id|            title|release_date|video_release_date|                 url|\n",
            "+---+-----------------+------------+------------------+--------------------+\n",
            "|  1| Toy Story (1995)|   01-Jan-95|         01-Jan-95|http://us.imdb.co...|\n",
            "|  2| GoldenEye (1995)|   01-Jan-95|         01-Jan-95|http://us.imdb.co...|\n",
            "|  3|Four Rooms (1995)|   01-Jan-95|         01-Jan-95|http://us.imdb.co...|\n",
            "+---+-----------------+------------+------------------+--------------------+\n",
            "only showing top 3 rows\n",
            "\n"
          ]
        }
      ]
    }
  ]
}