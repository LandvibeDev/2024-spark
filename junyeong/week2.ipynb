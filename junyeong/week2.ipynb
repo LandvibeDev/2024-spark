{
  "nbformat": 4,
  "nbformat_minor": 0,
  "metadata": {
    "colab": {
      "provenance": [],
      "authorship_tag": "ABX9TyNLQsAbpWakNDMeddO8LUtB",
      "include_colab_link": true
    },
    "kernelspec": {
      "name": "python3",
      "display_name": "Python 3"
    },
    "language_info": {
      "name": "python"
    }
  },
  "cells": [
    {
      "cell_type": "markdown",
      "metadata": {
        "id": "view-in-github",
        "colab_type": "text"
      },
      "source": [
        "<a href=\"https://colab.research.google.com/github/farmJun/2024-spark/blob/main/week2.ipynb\" target=\"_parent\"><img src=\"https://colab.research.google.com/assets/colab-badge.svg\" alt=\"Open In Colab\"/></a>"
      ]
    },
    {
      "cell_type": "code",
      "metadata": {
        "id": "tt7ZS1_wGgjn"
      },
      "source": [
        "!apt-get install openjdk-8-jdk-headless -qq > /dev/null\n",
        "!wget -q http://archive.apache.org/dist/spark/spark-3.5.1/spark-3.5.1-bin-hadoop3.tgz\n",
        "!tar xf spark-3.5.1-bin-hadoop3.tgz\n",
        "!pip install -q findspark"
      ],
      "execution_count": 1,
      "outputs": []
    },
    {
      "cell_type": "markdown",
      "metadata": {
        "id": "C3x0ZRLxjMVr"
      },
      "source": [
        "Set Environment Variables:"
      ]
    },
    {
      "cell_type": "code",
      "metadata": {
        "id": "sdOOq4twHN1K"
      },
      "source": [
        "import os\n",
        "os.environ[\"JAVA_HOME\"] = \"/usr/lib/jvm/java-8-openjdk-amd64\"\n",
        "os.environ[\"SPARK_HOME\"] = \"/content/spark-3.5.1-bin-hadoop3\""
      ],
      "execution_count": 2,
      "outputs": []
    },
    {
      "cell_type": "code",
      "metadata": {
        "id": "3ACYMwhgHTYz",
        "colab": {
          "base_uri": "https://localhost:8080/"
        },
        "outputId": "3cf4921f-aece-4382-9455-7f90921ab954"
      },
      "source": [
        "!ls"
      ],
      "execution_count": 3,
      "outputs": [
        {
          "output_type": "stream",
          "name": "stdout",
          "text": [
            "movie.csv\t  ratings.csv  spark-3.5.1-bin-hadoop3\t    user.csv\n",
            "movie_genres.csv  sample_data  spark-3.5.1-bin-hadoop3.tgz\n"
          ]
        }
      ]
    },
    {
      "cell_type": "code",
      "source": [],
      "metadata": {
        "id": "3ZGS9CRkAsFf"
      },
      "execution_count": null,
      "outputs": []
    },
    {
      "cell_type": "code",
      "metadata": {
        "id": "KR1zLBk1998Z",
        "colab": {
          "base_uri": "https://localhost:8080/",
          "height": 221
        },
        "outputId": "f78b3c70-4eb2-439b-93a7-8465774d9f7b"
      },
      "source": [
        "import findspark\n",
        "findspark.init()\n",
        "from pyspark.sql import SparkSession\n",
        "spark = SparkSession.builder.master(\"local[*]\").getOrCreate()\n",
        "spark.conf.set(\"spark.sql.repl.eagerEval.enabled\", True) # Property used to format output tables better\n",
        "spark"
      ],
      "execution_count": 4,
      "outputs": [
        {
          "output_type": "execute_result",
          "data": {
            "text/plain": [
              "<pyspark.sql.session.SparkSession at 0x7d5898439090>"
            ],
            "text/html": [
              "\n",
              "            <div>\n",
              "                <p><b>SparkSession - in-memory</b></p>\n",
              "                \n",
              "        <div>\n",
              "            <p><b>SparkContext</b></p>\n",
              "\n",
              "            <p><a href=\"http://8ccbc5e30d5d:4040\">Spark UI</a></p>\n",
              "\n",
              "            <dl>\n",
              "              <dt>Version</dt>\n",
              "                <dd><code>v3.5.1</code></dd>\n",
              "              <dt>Master</dt>\n",
              "                <dd><code>local[*]</code></dd>\n",
              "              <dt>AppName</dt>\n",
              "                <dd><code>pyspark-shell</code></dd>\n",
              "            </dl>\n",
              "        </div>\n",
              "        \n",
              "            </div>\n",
              "        "
            ]
          },
          "metadata": {},
          "execution_count": 4
        }
      ]
    },
    {
      "cell_type": "code",
      "source": [
        "movie_df = spark.read.csv('movie.csv', header=True, sep=\",\")\n",
        "movie_genres_df = spark.read.csv('movie_genres.csv', header=True, sep=\",\")\n",
        "rating_df = spark.read.csv('ratings.csv', header=True, sep=\",\")\n",
        "user_df = spark.read.csv('user.csv', header=True, sep=\",\")"
      ],
      "metadata": {
        "id": "o_CmvbT8AtvV"
      },
      "execution_count": 11,
      "outputs": []
    },
    {
      "cell_type": "code",
      "source": [
        "movie_df.printSchema()\n",
        "movie_df.show(5)"
      ],
      "metadata": {
        "colab": {
          "base_uri": "https://localhost:8080/"
        },
        "id": "EFDveAqqBOFd",
        "outputId": "dcaeae8d-2756-4b1d-adf3-7d36c465f8f2"
      },
      "execution_count": 12,
      "outputs": [
        {
          "output_type": "stream",
          "name": "stdout",
          "text": [
            "root\n",
            " |-- movie id: string (nullable = true)\n",
            " |-- movie title: string (nullable = true)\n",
            " |-- release date: string (nullable = true)\n",
            " |-- video release date: string (nullable = true)\n",
            " |-- IMDb URL: string (nullable = true)\n",
            "\n",
            "+--------+-----------------+------------+------------------+--------------------+\n",
            "|movie id|      movie title|release date|video release date|            IMDb URL|\n",
            "+--------+-----------------+------------+------------------+--------------------+\n",
            "|       1| Toy Story (1995)|   01-Jan-95|         01-Jan-95|http://us.imdb.co...|\n",
            "|       2| GoldenEye (1995)|   01-Jan-95|         01-Jan-95|http://us.imdb.co...|\n",
            "|       3|Four Rooms (1995)|   01-Jan-95|         01-Jan-95|http://us.imdb.co...|\n",
            "|       4|Get Shorty (1995)|   01-Jan-95|         01-Jan-95|http://us.imdb.co...|\n",
            "|       5|   Copycat (1995)|   01-Jan-95|         01-Jan-95|http://us.imdb.co...|\n",
            "+--------+-----------------+------------+------------------+--------------------+\n",
            "only showing top 5 rows\n",
            "\n"
          ]
        }
      ]
    },
    {
      "cell_type": "code",
      "source": [
        "movie_genres_df.printSchema()\n",
        "movie_genres_df.show(5)"
      ],
      "metadata": {
        "colab": {
          "base_uri": "https://localhost:8080/"
        },
        "outputId": "a5183ea9-d137-4d3e-d8fc-b317a882075a",
        "id": "t_Se5UFIBmg-"
      },
      "execution_count": 13,
      "outputs": [
        {
          "output_type": "stream",
          "name": "stdout",
          "text": [
            "root\n",
            " |-- mgenreId: string (nullable = true)\n",
            " |-- movieId: string (nullable = true)\n",
            " |-- genre: string (nullable = true)\n",
            "\n",
            "+--------+-------+-------+\n",
            "|mgenreId|movieId|  genre|\n",
            "+--------+-------+-------+\n",
            "|       1|    267|unknown|\n",
            "|       2|   1373|unknown|\n",
            "|       3|      2| Action|\n",
            "|       4|      4| Action|\n",
            "|       5|     17| Action|\n",
            "+--------+-------+-------+\n",
            "only showing top 5 rows\n",
            "\n"
          ]
        }
      ]
    },
    {
      "cell_type": "code",
      "source": [
        "rating_df.printSchema()\n",
        "rating_df.show(5)"
      ],
      "metadata": {
        "colab": {
          "base_uri": "https://localhost:8080/"
        },
        "id": "p_O2Mjh9Bxhm",
        "outputId": "dee4594d-9796-4043-903f-de441eb36ca6"
      },
      "execution_count": 14,
      "outputs": [
        {
          "output_type": "stream",
          "name": "stdout",
          "text": [
            "root\n",
            " |-- ratingId: string (nullable = true)\n",
            " |-- userId: string (nullable = true)\n",
            " |-- movieId: string (nullable = true)\n",
            " |-- rating: string (nullable = true)\n",
            " |-- timestamp: string (nullable = true)\n",
            "\n",
            "+--------+------+-------+------+----------------+\n",
            "|ratingId|userId|movieId|rating|       timestamp|\n",
            "+--------+------+-------+------+----------------+\n",
            "|       1|   196|    242|     3|1997-12-04 15:55|\n",
            "|       2|   186|    302|     3|1998-04-04 19:22|\n",
            "|       3|    22|    377|     1| 1997-11-07 7:18|\n",
            "|       4|   244|     51|     2| 1997-11-27 5:02|\n",
            "|       5|   166|    346|     1| 1998-02-02 5:33|\n",
            "+--------+------+-------+------+----------------+\n",
            "only showing top 5 rows\n",
            "\n"
          ]
        }
      ]
    },
    {
      "cell_type": "code",
      "source": [
        "user_df.printSchema()\n",
        "user_df.show(5)"
      ],
      "metadata": {
        "colab": {
          "base_uri": "https://localhost:8080/"
        },
        "id": "39yuKXzTB1BI",
        "outputId": "6012c4a8-efad-465d-8427-fdc04f03cae0"
      },
      "execution_count": 15,
      "outputs": [
        {
          "output_type": "stream",
          "name": "stdout",
          "text": [
            "root\n",
            " |-- user id: string (nullable = true)\n",
            " |-- age: string (nullable = true)\n",
            " |-- gender: string (nullable = true)\n",
            " |-- occupation: string (nullable = true)\n",
            " |-- zip code: string (nullable = true)\n",
            "\n",
            "+-------+---+------+----------+--------+\n",
            "|user id|age|gender|occupation|zip code|\n",
            "+-------+---+------+----------+--------+\n",
            "|      1| 24|     M|technician|   85711|\n",
            "|      2| 53|     F|     other|   94043|\n",
            "|      3| 23|     M|    writer|   32067|\n",
            "|      4| 24|     M|technician|   43537|\n",
            "|      5| 33|     F|     other|   15213|\n",
            "+-------+---+------+----------+--------+\n",
            "only showing top 5 rows\n",
            "\n"
          ]
        }
      ]
    }
  ]
}
